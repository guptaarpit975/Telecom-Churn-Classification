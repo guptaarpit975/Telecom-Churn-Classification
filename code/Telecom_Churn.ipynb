{
 "cells": [
  {
   "cell_type": "code",
   "execution_count": 48,
   "metadata": {},
   "outputs": [],
   "source": [
    "import pandas as pd\n",
    "import numpy as np\n",
    "import re\n",
    "\n",
    "from sklearn.model_selection import train_test_split\n",
    "from sklearn.decomposition import PCA\n",
    "import matplotlib.pyplot as plt\n",
    "import seaborn as sns\n",
    "\n",
    "import os\n",
    "from sklearn.preprocessing import StandardScaler\n",
    "from sklearn.model_selection import GridSearchCV\n",
    "from sklearn.model_selection import RandomizedSearchCV\n",
    "\n",
    "from sklearn.ensemble import RandomForestClassifier\n",
    "from sklearn.ensemble import AdaBoostClassifier\n",
    "from sklearn.tree import DecisionTreeClassifier\n",
    "import xgboost as xgb\n",
    "\n",
    "from sklearn.metrics import confusion_matrix\n",
    "from sklearn.metrics import roc_auc_score\n",
    "from sklearn.metrics import roc_curve\n",
    "from sklearn.metrics import precision_recall_curve\n",
    "from sklearn.metrics import precision_score,recall_score\n",
    "\n",
    "# Importing RFE and LinearRegression\n",
    "from sklearn.feature_selection import RFE\n",
    "from sklearn.linear_model import LogisticRegression\n",
    "\n",
    "from sklearn.model_selection import cross_val_score\n",
    "from statsmodels.stats.outliers_influence import variance_inflation_factor\n"
   ]
  },
  {
   "cell_type": "code",
   "execution_count": 357,
   "metadata": {},
   "outputs": [],
   "source": [
    "telecom = pd.read_csv('telecom_churn_data.csv')"
   ]
  },
  {
   "cell_type": "markdown",
   "metadata": {},
   "source": [
    "We will perform the following steps in analyzing the data (for __Prediction__ and __Inference__) :-\n",
    "- Data Cleaning (Handling NULL values , etc.)\n",
    "- Data Pre-processing\n",
    "- Data Preparation (Scaling + Splitting into Train/Test)\n",
    "- Building a model for prediction (using PCA)\n",
    "- Building a model for inference (without using PCA)\n",
    "- Presenting the results for recommendation"
   ]
  },
  {
   "cell_type": "code",
   "execution_count": 358,
   "metadata": {},
   "outputs": [
    {
     "data": {
      "text/html": [
       "<div>\n",
       "<style scoped>\n",
       "    .dataframe tbody tr th:only-of-type {\n",
       "        vertical-align: middle;\n",
       "    }\n",
       "\n",
       "    .dataframe tbody tr th {\n",
       "        vertical-align: top;\n",
       "    }\n",
       "\n",
       "    .dataframe thead th {\n",
       "        text-align: right;\n",
       "    }\n",
       "</style>\n",
       "<table border=\"1\" class=\"dataframe\">\n",
       "  <thead>\n",
       "    <tr style=\"text-align: right;\">\n",
       "      <th></th>\n",
       "      <th>mobile_number</th>\n",
       "      <th>circle_id</th>\n",
       "      <th>loc_og_t2o_mou</th>\n",
       "      <th>std_og_t2o_mou</th>\n",
       "      <th>loc_ic_t2o_mou</th>\n",
       "      <th>last_date_of_month_6</th>\n",
       "      <th>last_date_of_month_7</th>\n",
       "      <th>last_date_of_month_8</th>\n",
       "      <th>last_date_of_month_9</th>\n",
       "      <th>arpu_6</th>\n",
       "      <th>...</th>\n",
       "      <th>sachet_3g_9</th>\n",
       "      <th>fb_user_6</th>\n",
       "      <th>fb_user_7</th>\n",
       "      <th>fb_user_8</th>\n",
       "      <th>fb_user_9</th>\n",
       "      <th>aon</th>\n",
       "      <th>aug_vbc_3g</th>\n",
       "      <th>jul_vbc_3g</th>\n",
       "      <th>jun_vbc_3g</th>\n",
       "      <th>sep_vbc_3g</th>\n",
       "    </tr>\n",
       "  </thead>\n",
       "  <tbody>\n",
       "    <tr>\n",
       "      <th>0</th>\n",
       "      <td>7000842753</td>\n",
       "      <td>109</td>\n",
       "      <td>0.0</td>\n",
       "      <td>0.0</td>\n",
       "      <td>0.0</td>\n",
       "      <td>6/30/2014</td>\n",
       "      <td>7/31/2014</td>\n",
       "      <td>8/31/2014</td>\n",
       "      <td>9/30/2014</td>\n",
       "      <td>197.385</td>\n",
       "      <td>...</td>\n",
       "      <td>0</td>\n",
       "      <td>1.0</td>\n",
       "      <td>1.0</td>\n",
       "      <td>1.0</td>\n",
       "      <td>NaN</td>\n",
       "      <td>968</td>\n",
       "      <td>30.4</td>\n",
       "      <td>0.0</td>\n",
       "      <td>101.20</td>\n",
       "      <td>3.58</td>\n",
       "    </tr>\n",
       "    <tr>\n",
       "      <th>1</th>\n",
       "      <td>7001865778</td>\n",
       "      <td>109</td>\n",
       "      <td>0.0</td>\n",
       "      <td>0.0</td>\n",
       "      <td>0.0</td>\n",
       "      <td>6/30/2014</td>\n",
       "      <td>7/31/2014</td>\n",
       "      <td>8/31/2014</td>\n",
       "      <td>9/30/2014</td>\n",
       "      <td>34.047</td>\n",
       "      <td>...</td>\n",
       "      <td>0</td>\n",
       "      <td>NaN</td>\n",
       "      <td>1.0</td>\n",
       "      <td>1.0</td>\n",
       "      <td>NaN</td>\n",
       "      <td>1006</td>\n",
       "      <td>0.0</td>\n",
       "      <td>0.0</td>\n",
       "      <td>0.00</td>\n",
       "      <td>0.00</td>\n",
       "    </tr>\n",
       "    <tr>\n",
       "      <th>2</th>\n",
       "      <td>7001625959</td>\n",
       "      <td>109</td>\n",
       "      <td>0.0</td>\n",
       "      <td>0.0</td>\n",
       "      <td>0.0</td>\n",
       "      <td>6/30/2014</td>\n",
       "      <td>7/31/2014</td>\n",
       "      <td>8/31/2014</td>\n",
       "      <td>9/30/2014</td>\n",
       "      <td>167.690</td>\n",
       "      <td>...</td>\n",
       "      <td>0</td>\n",
       "      <td>NaN</td>\n",
       "      <td>NaN</td>\n",
       "      <td>NaN</td>\n",
       "      <td>1.0</td>\n",
       "      <td>1103</td>\n",
       "      <td>0.0</td>\n",
       "      <td>0.0</td>\n",
       "      <td>4.17</td>\n",
       "      <td>0.00</td>\n",
       "    </tr>\n",
       "    <tr>\n",
       "      <th>3</th>\n",
       "      <td>7001204172</td>\n",
       "      <td>109</td>\n",
       "      <td>0.0</td>\n",
       "      <td>0.0</td>\n",
       "      <td>0.0</td>\n",
       "      <td>6/30/2014</td>\n",
       "      <td>7/31/2014</td>\n",
       "      <td>8/31/2014</td>\n",
       "      <td>9/30/2014</td>\n",
       "      <td>221.338</td>\n",
       "      <td>...</td>\n",
       "      <td>0</td>\n",
       "      <td>NaN</td>\n",
       "      <td>NaN</td>\n",
       "      <td>NaN</td>\n",
       "      <td>NaN</td>\n",
       "      <td>2491</td>\n",
       "      <td>0.0</td>\n",
       "      <td>0.0</td>\n",
       "      <td>0.00</td>\n",
       "      <td>0.00</td>\n",
       "    </tr>\n",
       "    <tr>\n",
       "      <th>4</th>\n",
       "      <td>7000142493</td>\n",
       "      <td>109</td>\n",
       "      <td>0.0</td>\n",
       "      <td>0.0</td>\n",
       "      <td>0.0</td>\n",
       "      <td>6/30/2014</td>\n",
       "      <td>7/31/2014</td>\n",
       "      <td>8/31/2014</td>\n",
       "      <td>9/30/2014</td>\n",
       "      <td>261.636</td>\n",
       "      <td>...</td>\n",
       "      <td>0</td>\n",
       "      <td>0.0</td>\n",
       "      <td>NaN</td>\n",
       "      <td>NaN</td>\n",
       "      <td>NaN</td>\n",
       "      <td>1526</td>\n",
       "      <td>0.0</td>\n",
       "      <td>0.0</td>\n",
       "      <td>0.00</td>\n",
       "      <td>0.00</td>\n",
       "    </tr>\n",
       "  </tbody>\n",
       "</table>\n",
       "<p>5 rows × 226 columns</p>\n",
       "</div>"
      ],
      "text/plain": [
       "   mobile_number  circle_id  loc_og_t2o_mou  std_og_t2o_mou  loc_ic_t2o_mou  \\\n",
       "0     7000842753        109             0.0             0.0             0.0   \n",
       "1     7001865778        109             0.0             0.0             0.0   \n",
       "2     7001625959        109             0.0             0.0             0.0   \n",
       "3     7001204172        109             0.0             0.0             0.0   \n",
       "4     7000142493        109             0.0             0.0             0.0   \n",
       "\n",
       "  last_date_of_month_6 last_date_of_month_7 last_date_of_month_8  \\\n",
       "0            6/30/2014            7/31/2014            8/31/2014   \n",
       "1            6/30/2014            7/31/2014            8/31/2014   \n",
       "2            6/30/2014            7/31/2014            8/31/2014   \n",
       "3            6/30/2014            7/31/2014            8/31/2014   \n",
       "4            6/30/2014            7/31/2014            8/31/2014   \n",
       "\n",
       "  last_date_of_month_9   arpu_6  ...  sachet_3g_9  fb_user_6  fb_user_7  \\\n",
       "0            9/30/2014  197.385  ...            0        1.0        1.0   \n",
       "1            9/30/2014   34.047  ...            0        NaN        1.0   \n",
       "2            9/30/2014  167.690  ...            0        NaN        NaN   \n",
       "3            9/30/2014  221.338  ...            0        NaN        NaN   \n",
       "4            9/30/2014  261.636  ...            0        0.0        NaN   \n",
       "\n",
       "   fb_user_8  fb_user_9   aon  aug_vbc_3g  jul_vbc_3g  jun_vbc_3g  sep_vbc_3g  \n",
       "0        1.0        NaN   968        30.4         0.0      101.20        3.58  \n",
       "1        1.0        NaN  1006         0.0         0.0        0.00        0.00  \n",
       "2        NaN        1.0  1103         0.0         0.0        4.17        0.00  \n",
       "3        NaN        NaN  2491         0.0         0.0        0.00        0.00  \n",
       "4        NaN        NaN  1526         0.0         0.0        0.00        0.00  \n",
       "\n",
       "[5 rows x 226 columns]"
      ]
     },
     "execution_count": 358,
     "metadata": {},
     "output_type": "execute_result"
    }
   ],
   "source": [
    "telecom.head()"
   ]
  },
  {
   "cell_type": "code",
   "execution_count": 359,
   "metadata": {},
   "outputs": [
    {
     "name": "stdout",
     "output_type": "stream",
     "text": [
      "<class 'pandas.core.frame.DataFrame'>\n",
      "RangeIndex: 99999 entries, 0 to 99998\n",
      "Data columns (total 226 columns):\n",
      " #   Column                    Non-Null Count  Dtype  \n",
      "---  ------                    --------------  -----  \n",
      " 0   mobile_number             99999 non-null  int64  \n",
      " 1   circle_id                 99999 non-null  int64  \n",
      " 2   loc_og_t2o_mou            98981 non-null  float64\n",
      " 3   std_og_t2o_mou            98981 non-null  float64\n",
      " 4   loc_ic_t2o_mou            98981 non-null  float64\n",
      " 5   last_date_of_month_6      99999 non-null  object \n",
      " 6   last_date_of_month_7      99398 non-null  object \n",
      " 7   last_date_of_month_8      98899 non-null  object \n",
      " 8   last_date_of_month_9      98340 non-null  object \n",
      " 9   arpu_6                    99999 non-null  float64\n",
      " 10  arpu_7                    99999 non-null  float64\n",
      " 11  arpu_8                    99999 non-null  float64\n",
      " 12  arpu_9                    99999 non-null  float64\n",
      " 13  onnet_mou_6               96062 non-null  float64\n",
      " 14  onnet_mou_7               96140 non-null  float64\n",
      " 15  onnet_mou_8               94621 non-null  float64\n",
      " 16  onnet_mou_9               92254 non-null  float64\n",
      " 17  offnet_mou_6              96062 non-null  float64\n",
      " 18  offnet_mou_7              96140 non-null  float64\n",
      " 19  offnet_mou_8              94621 non-null  float64\n",
      " 20  offnet_mou_9              92254 non-null  float64\n",
      " 21  roam_ic_mou_6             96062 non-null  float64\n",
      " 22  roam_ic_mou_7             96140 non-null  float64\n",
      " 23  roam_ic_mou_8             94621 non-null  float64\n",
      " 24  roam_ic_mou_9             92254 non-null  float64\n",
      " 25  roam_og_mou_6             96062 non-null  float64\n",
      " 26  roam_og_mou_7             96140 non-null  float64\n",
      " 27  roam_og_mou_8             94621 non-null  float64\n",
      " 28  roam_og_mou_9             92254 non-null  float64\n",
      " 29  loc_og_t2t_mou_6          96062 non-null  float64\n",
      " 30  loc_og_t2t_mou_7          96140 non-null  float64\n",
      " 31  loc_og_t2t_mou_8          94621 non-null  float64\n",
      " 32  loc_og_t2t_mou_9          92254 non-null  float64\n",
      " 33  loc_og_t2m_mou_6          96062 non-null  float64\n",
      " 34  loc_og_t2m_mou_7          96140 non-null  float64\n",
      " 35  loc_og_t2m_mou_8          94621 non-null  float64\n",
      " 36  loc_og_t2m_mou_9          92254 non-null  float64\n",
      " 37  loc_og_t2f_mou_6          96062 non-null  float64\n",
      " 38  loc_og_t2f_mou_7          96140 non-null  float64\n",
      " 39  loc_og_t2f_mou_8          94621 non-null  float64\n",
      " 40  loc_og_t2f_mou_9          92254 non-null  float64\n",
      " 41  loc_og_t2c_mou_6          96062 non-null  float64\n",
      " 42  loc_og_t2c_mou_7          96140 non-null  float64\n",
      " 43  loc_og_t2c_mou_8          94621 non-null  float64\n",
      " 44  loc_og_t2c_mou_9          92254 non-null  float64\n",
      " 45  loc_og_mou_6              96062 non-null  float64\n",
      " 46  loc_og_mou_7              96140 non-null  float64\n",
      " 47  loc_og_mou_8              94621 non-null  float64\n",
      " 48  loc_og_mou_9              92254 non-null  float64\n",
      " 49  std_og_t2t_mou_6          96062 non-null  float64\n",
      " 50  std_og_t2t_mou_7          96140 non-null  float64\n",
      " 51  std_og_t2t_mou_8          94621 non-null  float64\n",
      " 52  std_og_t2t_mou_9          92254 non-null  float64\n",
      " 53  std_og_t2m_mou_6          96062 non-null  float64\n",
      " 54  std_og_t2m_mou_7          96140 non-null  float64\n",
      " 55  std_og_t2m_mou_8          94621 non-null  float64\n",
      " 56  std_og_t2m_mou_9          92254 non-null  float64\n",
      " 57  std_og_t2f_mou_6          96062 non-null  float64\n",
      " 58  std_og_t2f_mou_7          96140 non-null  float64\n",
      " 59  std_og_t2f_mou_8          94621 non-null  float64\n",
      " 60  std_og_t2f_mou_9          92254 non-null  float64\n",
      " 61  std_og_t2c_mou_6          96062 non-null  float64\n",
      " 62  std_og_t2c_mou_7          96140 non-null  float64\n",
      " 63  std_og_t2c_mou_8          94621 non-null  float64\n",
      " 64  std_og_t2c_mou_9          92254 non-null  float64\n",
      " 65  std_og_mou_6              96062 non-null  float64\n",
      " 66  std_og_mou_7              96140 non-null  float64\n",
      " 67  std_og_mou_8              94621 non-null  float64\n",
      " 68  std_og_mou_9              92254 non-null  float64\n",
      " 69  isd_og_mou_6              96062 non-null  float64\n",
      " 70  isd_og_mou_7              96140 non-null  float64\n",
      " 71  isd_og_mou_8              94621 non-null  float64\n",
      " 72  isd_og_mou_9              92254 non-null  float64\n",
      " 73  spl_og_mou_6              96062 non-null  float64\n",
      " 74  spl_og_mou_7              96140 non-null  float64\n",
      " 75  spl_og_mou_8              94621 non-null  float64\n",
      " 76  spl_og_mou_9              92254 non-null  float64\n",
      " 77  og_others_6               96062 non-null  float64\n",
      " 78  og_others_7               96140 non-null  float64\n",
      " 79  og_others_8               94621 non-null  float64\n",
      " 80  og_others_9               92254 non-null  float64\n",
      " 81  total_og_mou_6            99999 non-null  float64\n",
      " 82  total_og_mou_7            99999 non-null  float64\n",
      " 83  total_og_mou_8            99999 non-null  float64\n",
      " 84  total_og_mou_9            99999 non-null  float64\n",
      " 85  loc_ic_t2t_mou_6          96062 non-null  float64\n",
      " 86  loc_ic_t2t_mou_7          96140 non-null  float64\n",
      " 87  loc_ic_t2t_mou_8          94621 non-null  float64\n",
      " 88  loc_ic_t2t_mou_9          92254 non-null  float64\n",
      " 89  loc_ic_t2m_mou_6          96062 non-null  float64\n",
      " 90  loc_ic_t2m_mou_7          96140 non-null  float64\n",
      " 91  loc_ic_t2m_mou_8          94621 non-null  float64\n",
      " 92  loc_ic_t2m_mou_9          92254 non-null  float64\n",
      " 93  loc_ic_t2f_mou_6          96062 non-null  float64\n",
      " 94  loc_ic_t2f_mou_7          96140 non-null  float64\n",
      " 95  loc_ic_t2f_mou_8          94621 non-null  float64\n",
      " 96  loc_ic_t2f_mou_9          92254 non-null  float64\n",
      " 97  loc_ic_mou_6              96062 non-null  float64\n",
      " 98  loc_ic_mou_7              96140 non-null  float64\n",
      " 99  loc_ic_mou_8              94621 non-null  float64\n",
      " 100 loc_ic_mou_9              92254 non-null  float64\n",
      " 101 std_ic_t2t_mou_6          96062 non-null  float64\n",
      " 102 std_ic_t2t_mou_7          96140 non-null  float64\n",
      " 103 std_ic_t2t_mou_8          94621 non-null  float64\n",
      " 104 std_ic_t2t_mou_9          92254 non-null  float64\n",
      " 105 std_ic_t2m_mou_6          96062 non-null  float64\n",
      " 106 std_ic_t2m_mou_7          96140 non-null  float64\n",
      " 107 std_ic_t2m_mou_8          94621 non-null  float64\n",
      " 108 std_ic_t2m_mou_9          92254 non-null  float64\n",
      " 109 std_ic_t2f_mou_6          96062 non-null  float64\n",
      " 110 std_ic_t2f_mou_7          96140 non-null  float64\n",
      " 111 std_ic_t2f_mou_8          94621 non-null  float64\n",
      " 112 std_ic_t2f_mou_9          92254 non-null  float64\n",
      " 113 std_ic_t2o_mou_6          96062 non-null  float64\n",
      " 114 std_ic_t2o_mou_7          96140 non-null  float64\n",
      " 115 std_ic_t2o_mou_8          94621 non-null  float64\n",
      " 116 std_ic_t2o_mou_9          92254 non-null  float64\n",
      " 117 std_ic_mou_6              96062 non-null  float64\n",
      " 118 std_ic_mou_7              96140 non-null  float64\n",
      " 119 std_ic_mou_8              94621 non-null  float64\n",
      " 120 std_ic_mou_9              92254 non-null  float64\n",
      " 121 total_ic_mou_6            99999 non-null  float64\n",
      " 122 total_ic_mou_7            99999 non-null  float64\n",
      " 123 total_ic_mou_8            99999 non-null  float64\n",
      " 124 total_ic_mou_9            99999 non-null  float64\n",
      " 125 spl_ic_mou_6              96062 non-null  float64\n",
      " 126 spl_ic_mou_7              96140 non-null  float64\n",
      " 127 spl_ic_mou_8              94621 non-null  float64\n",
      " 128 spl_ic_mou_9              92254 non-null  float64\n",
      " 129 isd_ic_mou_6              96062 non-null  float64\n",
      " 130 isd_ic_mou_7              96140 non-null  float64\n",
      " 131 isd_ic_mou_8              94621 non-null  float64\n",
      " 132 isd_ic_mou_9              92254 non-null  float64\n",
      " 133 ic_others_6               96062 non-null  float64\n",
      " 134 ic_others_7               96140 non-null  float64\n",
      " 135 ic_others_8               94621 non-null  float64\n",
      " 136 ic_others_9               92254 non-null  float64\n",
      " 137 total_rech_num_6          99999 non-null  int64  \n",
      " 138 total_rech_num_7          99999 non-null  int64  \n",
      " 139 total_rech_num_8          99999 non-null  int64  \n",
      " 140 total_rech_num_9          99999 non-null  int64  \n",
      " 141 total_rech_amt_6          99999 non-null  int64  \n",
      " 142 total_rech_amt_7          99999 non-null  int64  \n",
      " 143 total_rech_amt_8          99999 non-null  int64  \n",
      " 144 total_rech_amt_9          99999 non-null  int64  \n",
      " 145 max_rech_amt_6            99999 non-null  int64  \n",
      " 146 max_rech_amt_7            99999 non-null  int64  \n",
      " 147 max_rech_amt_8            99999 non-null  int64  \n",
      " 148 max_rech_amt_9            99999 non-null  int64  \n",
      " 149 date_of_last_rech_6       98392 non-null  object \n",
      " 150 date_of_last_rech_7       98232 non-null  object \n",
      " 151 date_of_last_rech_8       96377 non-null  object \n",
      " 152 date_of_last_rech_9       95239 non-null  object \n",
      " 153 last_day_rch_amt_6        99999 non-null  int64  \n",
      " 154 last_day_rch_amt_7        99999 non-null  int64  \n",
      " 155 last_day_rch_amt_8        99999 non-null  int64  \n",
      " 156 last_day_rch_amt_9        99999 non-null  int64  \n",
      " 157 date_of_last_rech_data_6  25153 non-null  object \n",
      " 158 date_of_last_rech_data_7  25571 non-null  object \n",
      " 159 date_of_last_rech_data_8  26339 non-null  object \n",
      " 160 date_of_last_rech_data_9  25922 non-null  object \n",
      " 161 total_rech_data_6         25153 non-null  float64\n",
      " 162 total_rech_data_7         25571 non-null  float64\n",
      " 163 total_rech_data_8         26339 non-null  float64\n",
      " 164 total_rech_data_9         25922 non-null  float64\n",
      " 165 max_rech_data_6           25153 non-null  float64\n",
      " 166 max_rech_data_7           25571 non-null  float64\n",
      " 167 max_rech_data_8           26339 non-null  float64\n",
      " 168 max_rech_data_9           25922 non-null  float64\n",
      " 169 count_rech_2g_6           25153 non-null  float64\n",
      " 170 count_rech_2g_7           25571 non-null  float64\n",
      " 171 count_rech_2g_8           26339 non-null  float64\n",
      " 172 count_rech_2g_9           25922 non-null  float64\n",
      " 173 count_rech_3g_6           25153 non-null  float64\n",
      " 174 count_rech_3g_7           25571 non-null  float64\n",
      " 175 count_rech_3g_8           26339 non-null  float64\n",
      " 176 count_rech_3g_9           25922 non-null  float64\n",
      " 177 av_rech_amt_data_6        25153 non-null  float64\n",
      " 178 av_rech_amt_data_7        25571 non-null  float64\n",
      " 179 av_rech_amt_data_8        26339 non-null  float64\n",
      " 180 av_rech_amt_data_9        25922 non-null  float64\n",
      " 181 vol_2g_mb_6               99999 non-null  float64\n",
      " 182 vol_2g_mb_7               99999 non-null  float64\n",
      " 183 vol_2g_mb_8               99999 non-null  float64\n",
      " 184 vol_2g_mb_9               99999 non-null  float64\n",
      " 185 vol_3g_mb_6               99999 non-null  float64\n",
      " 186 vol_3g_mb_7               99999 non-null  float64\n",
      " 187 vol_3g_mb_8               99999 non-null  float64\n",
      " 188 vol_3g_mb_9               99999 non-null  float64\n",
      " 189 arpu_3g_6                 25153 non-null  float64\n",
      " 190 arpu_3g_7                 25571 non-null  float64\n",
      " 191 arpu_3g_8                 26339 non-null  float64\n",
      " 192 arpu_3g_9                 25922 non-null  float64\n",
      " 193 arpu_2g_6                 25153 non-null  float64\n",
      " 194 arpu_2g_7                 25571 non-null  float64\n",
      " 195 arpu_2g_8                 26339 non-null  float64\n",
      " 196 arpu_2g_9                 25922 non-null  float64\n",
      " 197 night_pck_user_6          25153 non-null  float64\n",
      " 198 night_pck_user_7          25571 non-null  float64\n",
      " 199 night_pck_user_8          26339 non-null  float64\n",
      " 200 night_pck_user_9          25922 non-null  float64\n",
      " 201 monthly_2g_6              99999 non-null  int64  \n",
      " 202 monthly_2g_7              99999 non-null  int64  \n",
      " 203 monthly_2g_8              99999 non-null  int64  \n",
      " 204 monthly_2g_9              99999 non-null  int64  \n",
      " 205 sachet_2g_6               99999 non-null  int64  \n",
      " 206 sachet_2g_7               99999 non-null  int64  \n",
      " 207 sachet_2g_8               99999 non-null  int64  \n",
      " 208 sachet_2g_9               99999 non-null  int64  \n",
      " 209 monthly_3g_6              99999 non-null  int64  \n",
      " 210 monthly_3g_7              99999 non-null  int64  \n",
      " 211 monthly_3g_8              99999 non-null  int64  \n",
      " 212 monthly_3g_9              99999 non-null  int64  \n",
      " 213 sachet_3g_6               99999 non-null  int64  \n",
      " 214 sachet_3g_7               99999 non-null  int64  \n",
      " 215 sachet_3g_8               99999 non-null  int64  \n",
      " 216 sachet_3g_9               99999 non-null  int64  \n",
      " 217 fb_user_6                 25153 non-null  float64\n",
      " 218 fb_user_7                 25571 non-null  float64\n",
      " 219 fb_user_8                 26339 non-null  float64\n",
      " 220 fb_user_9                 25922 non-null  float64\n",
      " 221 aon                       99999 non-null  int64  \n",
      " 222 aug_vbc_3g                99999 non-null  float64\n",
      " 223 jul_vbc_3g                99999 non-null  float64\n",
      " 224 jun_vbc_3g                99999 non-null  float64\n",
      " 225 sep_vbc_3g                99999 non-null  float64\n",
      "dtypes: float64(179), int64(35), object(12)\n",
      "memory usage: 172.4+ MB\n"
     ]
    }
   ],
   "source": [
    "telecom.info(verbose=True, null_counts=True)"
   ]
  },
  {
   "cell_type": "code",
   "execution_count": 361,
   "metadata": {},
   "outputs": [
    {
     "data": {
      "text/plain": [
       "count    25153.000000\n",
       "mean         2.463802\n",
       "std          2.789128\n",
       "min          1.000000\n",
       "25%          1.000000\n",
       "50%          1.000000\n",
       "75%          3.000000\n",
       "max         61.000000\n",
       "Name: total_rech_data_6, dtype: float64"
      ]
     },
     "execution_count": 361,
     "metadata": {},
     "output_type": "execute_result"
    }
   ],
   "source": [
    "telecom['total_rech_data_6'].describe()"
   ]
  },
  {
   "cell_type": "code",
   "execution_count": 362,
   "metadata": {},
   "outputs": [
    {
     "data": {
      "text/plain": [
       "count    25571.000000\n",
       "mean         2.666419\n",
       "std          3.031593\n",
       "min          1.000000\n",
       "25%          1.000000\n",
       "50%          1.000000\n",
       "75%          3.000000\n",
       "max         54.000000\n",
       "Name: total_rech_data_7, dtype: float64"
      ]
     },
     "execution_count": 362,
     "metadata": {},
     "output_type": "execute_result"
    }
   ],
   "source": [
    "telecom['total_rech_data_7'].describe()"
   ]
  },
  {
   "cell_type": "code",
   "execution_count": 363,
   "metadata": {},
   "outputs": [
    {
     "data": {
      "text/plain": [
       "count    99999.000000\n",
       "mean       327.514615\n",
       "std        398.019701\n",
       "min          0.000000\n",
       "25%        109.000000\n",
       "50%        230.000000\n",
       "75%        437.500000\n",
       "max      35190.000000\n",
       "Name: total_rech_amt_6, dtype: float64"
      ]
     },
     "execution_count": 363,
     "metadata": {},
     "output_type": "execute_result"
    }
   ],
   "source": [
    "telecom['total_rech_amt_6'].describe()"
   ]
  },
  {
   "cell_type": "markdown",
   "metadata": {},
   "source": [
    "## Step 1  : Cleaning the data"
   ]
  },
  {
   "cell_type": "markdown",
   "metadata": {},
   "source": [
    "### Remove columns where the NULL values are more than 50%"
   ]
  },
  {
   "cell_type": "code",
   "execution_count": 364,
   "metadata": {},
   "outputs": [],
   "source": [
    "df = pd.DataFrame(telecom.isnull().sum())"
   ]
  },
  {
   "cell_type": "code",
   "execution_count": 365,
   "metadata": {},
   "outputs": [],
   "source": [
    "df.reset_index(level=0, inplace=True)"
   ]
  },
  {
   "cell_type": "code",
   "execution_count": 366,
   "metadata": {},
   "outputs": [],
   "source": [
    "df.columns = ['Attribute' , 'Null Count']"
   ]
  },
  {
   "cell_type": "code",
   "execution_count": 367,
   "metadata": {},
   "outputs": [],
   "source": [
    "df = df[df['Null Count'] < 50000]"
   ]
  },
  {
   "cell_type": "code",
   "execution_count": 368,
   "metadata": {},
   "outputs": [
    {
     "data": {
      "text/plain": [
       "7745"
      ]
     },
     "execution_count": 368,
     "metadata": {},
     "output_type": "execute_result"
    }
   ],
   "source": [
    "df['Null Count'].max()"
   ]
  },
  {
   "cell_type": "code",
   "execution_count": 369,
   "metadata": {},
   "outputs": [
    {
     "data": {
      "text/plain": [
       "['mobile_number',\n",
       " 'circle_id',\n",
       " 'loc_og_t2o_mou',\n",
       " 'std_og_t2o_mou',\n",
       " 'loc_ic_t2o_mou',\n",
       " 'last_date_of_month_6',\n",
       " 'last_date_of_month_7',\n",
       " 'last_date_of_month_8',\n",
       " 'last_date_of_month_9',\n",
       " 'arpu_6',\n",
       " 'arpu_7',\n",
       " 'arpu_8',\n",
       " 'arpu_9',\n",
       " 'onnet_mou_6',\n",
       " 'onnet_mou_7',\n",
       " 'onnet_mou_8',\n",
       " 'onnet_mou_9',\n",
       " 'offnet_mou_6',\n",
       " 'offnet_mou_7',\n",
       " 'offnet_mou_8',\n",
       " 'offnet_mou_9',\n",
       " 'roam_ic_mou_6',\n",
       " 'roam_ic_mou_7',\n",
       " 'roam_ic_mou_8',\n",
       " 'roam_ic_mou_9',\n",
       " 'roam_og_mou_6',\n",
       " 'roam_og_mou_7',\n",
       " 'roam_og_mou_8',\n",
       " 'roam_og_mou_9',\n",
       " 'loc_og_t2t_mou_6',\n",
       " 'loc_og_t2t_mou_7',\n",
       " 'loc_og_t2t_mou_8',\n",
       " 'loc_og_t2t_mou_9',\n",
       " 'loc_og_t2m_mou_6',\n",
       " 'loc_og_t2m_mou_7',\n",
       " 'loc_og_t2m_mou_8',\n",
       " 'loc_og_t2m_mou_9',\n",
       " 'loc_og_t2f_mou_6',\n",
       " 'loc_og_t2f_mou_7',\n",
       " 'loc_og_t2f_mou_8',\n",
       " 'loc_og_t2f_mou_9',\n",
       " 'loc_og_t2c_mou_6',\n",
       " 'loc_og_t2c_mou_7',\n",
       " 'loc_og_t2c_mou_8',\n",
       " 'loc_og_t2c_mou_9',\n",
       " 'loc_og_mou_6',\n",
       " 'loc_og_mou_7',\n",
       " 'loc_og_mou_8',\n",
       " 'loc_og_mou_9',\n",
       " 'std_og_t2t_mou_6',\n",
       " 'std_og_t2t_mou_7',\n",
       " 'std_og_t2t_mou_8',\n",
       " 'std_og_t2t_mou_9',\n",
       " 'std_og_t2m_mou_6',\n",
       " 'std_og_t2m_mou_7',\n",
       " 'std_og_t2m_mou_8',\n",
       " 'std_og_t2m_mou_9',\n",
       " 'std_og_t2f_mou_6',\n",
       " 'std_og_t2f_mou_7',\n",
       " 'std_og_t2f_mou_8',\n",
       " 'std_og_t2f_mou_9',\n",
       " 'std_og_t2c_mou_6',\n",
       " 'std_og_t2c_mou_7',\n",
       " 'std_og_t2c_mou_8',\n",
       " 'std_og_t2c_mou_9',\n",
       " 'std_og_mou_6',\n",
       " 'std_og_mou_7',\n",
       " 'std_og_mou_8',\n",
       " 'std_og_mou_9',\n",
       " 'isd_og_mou_6',\n",
       " 'isd_og_mou_7',\n",
       " 'isd_og_mou_8',\n",
       " 'isd_og_mou_9',\n",
       " 'spl_og_mou_6',\n",
       " 'spl_og_mou_7',\n",
       " 'spl_og_mou_8',\n",
       " 'spl_og_mou_9',\n",
       " 'og_others_6',\n",
       " 'og_others_7',\n",
       " 'og_others_8',\n",
       " 'og_others_9',\n",
       " 'total_og_mou_6',\n",
       " 'total_og_mou_7',\n",
       " 'total_og_mou_8',\n",
       " 'total_og_mou_9',\n",
       " 'loc_ic_t2t_mou_6',\n",
       " 'loc_ic_t2t_mou_7',\n",
       " 'loc_ic_t2t_mou_8',\n",
       " 'loc_ic_t2t_mou_9',\n",
       " 'loc_ic_t2m_mou_6',\n",
       " 'loc_ic_t2m_mou_7',\n",
       " 'loc_ic_t2m_mou_8',\n",
       " 'loc_ic_t2m_mou_9',\n",
       " 'loc_ic_t2f_mou_6',\n",
       " 'loc_ic_t2f_mou_7',\n",
       " 'loc_ic_t2f_mou_8',\n",
       " 'loc_ic_t2f_mou_9',\n",
       " 'loc_ic_mou_6',\n",
       " 'loc_ic_mou_7',\n",
       " 'loc_ic_mou_8',\n",
       " 'loc_ic_mou_9',\n",
       " 'std_ic_t2t_mou_6',\n",
       " 'std_ic_t2t_mou_7',\n",
       " 'std_ic_t2t_mou_8',\n",
       " 'std_ic_t2t_mou_9',\n",
       " 'std_ic_t2m_mou_6',\n",
       " 'std_ic_t2m_mou_7',\n",
       " 'std_ic_t2m_mou_8',\n",
       " 'std_ic_t2m_mou_9',\n",
       " 'std_ic_t2f_mou_6',\n",
       " 'std_ic_t2f_mou_7',\n",
       " 'std_ic_t2f_mou_8',\n",
       " 'std_ic_t2f_mou_9',\n",
       " 'std_ic_t2o_mou_6',\n",
       " 'std_ic_t2o_mou_7',\n",
       " 'std_ic_t2o_mou_8',\n",
       " 'std_ic_t2o_mou_9',\n",
       " 'std_ic_mou_6',\n",
       " 'std_ic_mou_7',\n",
       " 'std_ic_mou_8',\n",
       " 'std_ic_mou_9',\n",
       " 'total_ic_mou_6',\n",
       " 'total_ic_mou_7',\n",
       " 'total_ic_mou_8',\n",
       " 'total_ic_mou_9',\n",
       " 'spl_ic_mou_6',\n",
       " 'spl_ic_mou_7',\n",
       " 'spl_ic_mou_8',\n",
       " 'spl_ic_mou_9',\n",
       " 'isd_ic_mou_6',\n",
       " 'isd_ic_mou_7',\n",
       " 'isd_ic_mou_8',\n",
       " 'isd_ic_mou_9',\n",
       " 'ic_others_6',\n",
       " 'ic_others_7',\n",
       " 'ic_others_8',\n",
       " 'ic_others_9',\n",
       " 'total_rech_num_6',\n",
       " 'total_rech_num_7',\n",
       " 'total_rech_num_8',\n",
       " 'total_rech_num_9',\n",
       " 'total_rech_amt_6',\n",
       " 'total_rech_amt_7',\n",
       " 'total_rech_amt_8',\n",
       " 'total_rech_amt_9',\n",
       " 'max_rech_amt_6',\n",
       " 'max_rech_amt_7',\n",
       " 'max_rech_amt_8',\n",
       " 'max_rech_amt_9',\n",
       " 'date_of_last_rech_6',\n",
       " 'date_of_last_rech_7',\n",
       " 'date_of_last_rech_8',\n",
       " 'date_of_last_rech_9',\n",
       " 'last_day_rch_amt_6',\n",
       " 'last_day_rch_amt_7',\n",
       " 'last_day_rch_amt_8',\n",
       " 'last_day_rch_amt_9',\n",
       " 'vol_2g_mb_6',\n",
       " 'vol_2g_mb_7',\n",
       " 'vol_2g_mb_8',\n",
       " 'vol_2g_mb_9',\n",
       " 'vol_3g_mb_6',\n",
       " 'vol_3g_mb_7',\n",
       " 'vol_3g_mb_8',\n",
       " 'vol_3g_mb_9',\n",
       " 'monthly_2g_6',\n",
       " 'monthly_2g_7',\n",
       " 'monthly_2g_8',\n",
       " 'monthly_2g_9',\n",
       " 'sachet_2g_6',\n",
       " 'sachet_2g_7',\n",
       " 'sachet_2g_8',\n",
       " 'sachet_2g_9',\n",
       " 'monthly_3g_6',\n",
       " 'monthly_3g_7',\n",
       " 'monthly_3g_8',\n",
       " 'monthly_3g_9',\n",
       " 'sachet_3g_6',\n",
       " 'sachet_3g_7',\n",
       " 'sachet_3g_8',\n",
       " 'sachet_3g_9',\n",
       " 'aon',\n",
       " 'aug_vbc_3g',\n",
       " 'jul_vbc_3g',\n",
       " 'jun_vbc_3g',\n",
       " 'sep_vbc_3g']"
      ]
     },
     "execution_count": 369,
     "metadata": {},
     "output_type": "execute_result"
    }
   ],
   "source": [
    "list(df['Attribute'])"
   ]
  },
  {
   "cell_type": "code",
   "execution_count": 370,
   "metadata": {},
   "outputs": [
    {
     "data": {
      "text/plain": [
       "186"
      ]
     },
     "execution_count": 370,
     "metadata": {},
     "output_type": "execute_result"
    }
   ],
   "source": [
    "len(list(df['Attribute']))"
   ]
  },
  {
   "cell_type": "code",
   "execution_count": 371,
   "metadata": {},
   "outputs": [],
   "source": [
    "selected_columns = list(df['Attribute'])"
   ]
  },
  {
   "cell_type": "markdown",
   "metadata": {},
   "source": [
    "We will remove all columns of the original dataframe except these 186 coulumns"
   ]
  },
  {
   "cell_type": "code",
   "execution_count": 372,
   "metadata": {},
   "outputs": [],
   "source": [
    "telecom = telecom[selected_columns]"
   ]
  },
  {
   "cell_type": "code",
   "execution_count": 61,
   "metadata": {},
   "outputs": [
    {
     "name": "stdout",
     "output_type": "stream",
     "text": [
      "<class 'pandas.core.frame.DataFrame'>\n",
      "RangeIndex: 99999 entries, 0 to 99998\n",
      "Data columns (total 186 columns):\n",
      " #   Column                Non-Null Count  Dtype  \n",
      "---  ------                --------------  -----  \n",
      " 0   mobile_number         99999 non-null  int64  \n",
      " 1   circle_id             99999 non-null  int64  \n",
      " 2   loc_og_t2o_mou        98981 non-null  float64\n",
      " 3   std_og_t2o_mou        98981 non-null  float64\n",
      " 4   loc_ic_t2o_mou        98981 non-null  float64\n",
      " 5   last_date_of_month_6  99999 non-null  object \n",
      " 6   last_date_of_month_7  99398 non-null  object \n",
      " 7   last_date_of_month_8  98899 non-null  object \n",
      " 8   last_date_of_month_9  98340 non-null  object \n",
      " 9   arpu_6                99999 non-null  float64\n",
      " 10  arpu_7                99999 non-null  float64\n",
      " 11  arpu_8                99999 non-null  float64\n",
      " 12  arpu_9                99999 non-null  float64\n",
      " 13  onnet_mou_6           96062 non-null  float64\n",
      " 14  onnet_mou_7           96140 non-null  float64\n",
      " 15  onnet_mou_8           94621 non-null  float64\n",
      " 16  onnet_mou_9           92254 non-null  float64\n",
      " 17  offnet_mou_6          96062 non-null  float64\n",
      " 18  offnet_mou_7          96140 non-null  float64\n",
      " 19  offnet_mou_8          94621 non-null  float64\n",
      " 20  offnet_mou_9          92254 non-null  float64\n",
      " 21  roam_ic_mou_6         96062 non-null  float64\n",
      " 22  roam_ic_mou_7         96140 non-null  float64\n",
      " 23  roam_ic_mou_8         94621 non-null  float64\n",
      " 24  roam_ic_mou_9         92254 non-null  float64\n",
      " 25  roam_og_mou_6         96062 non-null  float64\n",
      " 26  roam_og_mou_7         96140 non-null  float64\n",
      " 27  roam_og_mou_8         94621 non-null  float64\n",
      " 28  roam_og_mou_9         92254 non-null  float64\n",
      " 29  loc_og_t2t_mou_6      96062 non-null  float64\n",
      " 30  loc_og_t2t_mou_7      96140 non-null  float64\n",
      " 31  loc_og_t2t_mou_8      94621 non-null  float64\n",
      " 32  loc_og_t2t_mou_9      92254 non-null  float64\n",
      " 33  loc_og_t2m_mou_6      96062 non-null  float64\n",
      " 34  loc_og_t2m_mou_7      96140 non-null  float64\n",
      " 35  loc_og_t2m_mou_8      94621 non-null  float64\n",
      " 36  loc_og_t2m_mou_9      92254 non-null  float64\n",
      " 37  loc_og_t2f_mou_6      96062 non-null  float64\n",
      " 38  loc_og_t2f_mou_7      96140 non-null  float64\n",
      " 39  loc_og_t2f_mou_8      94621 non-null  float64\n",
      " 40  loc_og_t2f_mou_9      92254 non-null  float64\n",
      " 41  loc_og_t2c_mou_6      96062 non-null  float64\n",
      " 42  loc_og_t2c_mou_7      96140 non-null  float64\n",
      " 43  loc_og_t2c_mou_8      94621 non-null  float64\n",
      " 44  loc_og_t2c_mou_9      92254 non-null  float64\n",
      " 45  loc_og_mou_6          96062 non-null  float64\n",
      " 46  loc_og_mou_7          96140 non-null  float64\n",
      " 47  loc_og_mou_8          94621 non-null  float64\n",
      " 48  loc_og_mou_9          92254 non-null  float64\n",
      " 49  std_og_t2t_mou_6      96062 non-null  float64\n",
      " 50  std_og_t2t_mou_7      96140 non-null  float64\n",
      " 51  std_og_t2t_mou_8      94621 non-null  float64\n",
      " 52  std_og_t2t_mou_9      92254 non-null  float64\n",
      " 53  std_og_t2m_mou_6      96062 non-null  float64\n",
      " 54  std_og_t2m_mou_7      96140 non-null  float64\n",
      " 55  std_og_t2m_mou_8      94621 non-null  float64\n",
      " 56  std_og_t2m_mou_9      92254 non-null  float64\n",
      " 57  std_og_t2f_mou_6      96062 non-null  float64\n",
      " 58  std_og_t2f_mou_7      96140 non-null  float64\n",
      " 59  std_og_t2f_mou_8      94621 non-null  float64\n",
      " 60  std_og_t2f_mou_9      92254 non-null  float64\n",
      " 61  std_og_t2c_mou_6      96062 non-null  float64\n",
      " 62  std_og_t2c_mou_7      96140 non-null  float64\n",
      " 63  std_og_t2c_mou_8      94621 non-null  float64\n",
      " 64  std_og_t2c_mou_9      92254 non-null  float64\n",
      " 65  std_og_mou_6          96062 non-null  float64\n",
      " 66  std_og_mou_7          96140 non-null  float64\n",
      " 67  std_og_mou_8          94621 non-null  float64\n",
      " 68  std_og_mou_9          92254 non-null  float64\n",
      " 69  isd_og_mou_6          96062 non-null  float64\n",
      " 70  isd_og_mou_7          96140 non-null  float64\n",
      " 71  isd_og_mou_8          94621 non-null  float64\n",
      " 72  isd_og_mou_9          92254 non-null  float64\n",
      " 73  spl_og_mou_6          96062 non-null  float64\n",
      " 74  spl_og_mou_7          96140 non-null  float64\n",
      " 75  spl_og_mou_8          94621 non-null  float64\n",
      " 76  spl_og_mou_9          92254 non-null  float64\n",
      " 77  og_others_6           96062 non-null  float64\n",
      " 78  og_others_7           96140 non-null  float64\n",
      " 79  og_others_8           94621 non-null  float64\n",
      " 80  og_others_9           92254 non-null  float64\n",
      " 81  total_og_mou_6        99999 non-null  float64\n",
      " 82  total_og_mou_7        99999 non-null  float64\n",
      " 83  total_og_mou_8        99999 non-null  float64\n",
      " 84  total_og_mou_9        99999 non-null  float64\n",
      " 85  loc_ic_t2t_mou_6      96062 non-null  float64\n",
      " 86  loc_ic_t2t_mou_7      96140 non-null  float64\n",
      " 87  loc_ic_t2t_mou_8      94621 non-null  float64\n",
      " 88  loc_ic_t2t_mou_9      92254 non-null  float64\n",
      " 89  loc_ic_t2m_mou_6      96062 non-null  float64\n",
      " 90  loc_ic_t2m_mou_7      96140 non-null  float64\n",
      " 91  loc_ic_t2m_mou_8      94621 non-null  float64\n",
      " 92  loc_ic_t2m_mou_9      92254 non-null  float64\n",
      " 93  loc_ic_t2f_mou_6      96062 non-null  float64\n",
      " 94  loc_ic_t2f_mou_7      96140 non-null  float64\n",
      " 95  loc_ic_t2f_mou_8      94621 non-null  float64\n",
      " 96  loc_ic_t2f_mou_9      92254 non-null  float64\n",
      " 97  loc_ic_mou_6          96062 non-null  float64\n",
      " 98  loc_ic_mou_7          96140 non-null  float64\n",
      " 99  loc_ic_mou_8          94621 non-null  float64\n",
      " 100 loc_ic_mou_9          92254 non-null  float64\n",
      " 101 std_ic_t2t_mou_6      96062 non-null  float64\n",
      " 102 std_ic_t2t_mou_7      96140 non-null  float64\n",
      " 103 std_ic_t2t_mou_8      94621 non-null  float64\n",
      " 104 std_ic_t2t_mou_9      92254 non-null  float64\n",
      " 105 std_ic_t2m_mou_6      96062 non-null  float64\n",
      " 106 std_ic_t2m_mou_7      96140 non-null  float64\n",
      " 107 std_ic_t2m_mou_8      94621 non-null  float64\n",
      " 108 std_ic_t2m_mou_9      92254 non-null  float64\n",
      " 109 std_ic_t2f_mou_6      96062 non-null  float64\n",
      " 110 std_ic_t2f_mou_7      96140 non-null  float64\n",
      " 111 std_ic_t2f_mou_8      94621 non-null  float64\n",
      " 112 std_ic_t2f_mou_9      92254 non-null  float64\n",
      " 113 std_ic_t2o_mou_6      96062 non-null  float64\n",
      " 114 std_ic_t2o_mou_7      96140 non-null  float64\n",
      " 115 std_ic_t2o_mou_8      94621 non-null  float64\n",
      " 116 std_ic_t2o_mou_9      92254 non-null  float64\n",
      " 117 std_ic_mou_6          96062 non-null  float64\n",
      " 118 std_ic_mou_7          96140 non-null  float64\n",
      " 119 std_ic_mou_8          94621 non-null  float64\n",
      " 120 std_ic_mou_9          92254 non-null  float64\n",
      " 121 total_ic_mou_6        99999 non-null  float64\n",
      " 122 total_ic_mou_7        99999 non-null  float64\n",
      " 123 total_ic_mou_8        99999 non-null  float64\n",
      " 124 total_ic_mou_9        99999 non-null  float64\n",
      " 125 spl_ic_mou_6          96062 non-null  float64\n",
      " 126 spl_ic_mou_7          96140 non-null  float64\n",
      " 127 spl_ic_mou_8          94621 non-null  float64\n",
      " 128 spl_ic_mou_9          92254 non-null  float64\n",
      " 129 isd_ic_mou_6          96062 non-null  float64\n",
      " 130 isd_ic_mou_7          96140 non-null  float64\n",
      " 131 isd_ic_mou_8          94621 non-null  float64\n",
      " 132 isd_ic_mou_9          92254 non-null  float64\n",
      " 133 ic_others_6           96062 non-null  float64\n",
      " 134 ic_others_7           96140 non-null  float64\n",
      " 135 ic_others_8           94621 non-null  float64\n",
      " 136 ic_others_9           92254 non-null  float64\n",
      " 137 total_rech_num_6      99999 non-null  int64  \n",
      " 138 total_rech_num_7      99999 non-null  int64  \n",
      " 139 total_rech_num_8      99999 non-null  int64  \n",
      " 140 total_rech_num_9      99999 non-null  int64  \n",
      " 141 total_rech_amt_6      99999 non-null  int64  \n",
      " 142 total_rech_amt_7      99999 non-null  int64  \n",
      " 143 total_rech_amt_8      99999 non-null  int64  \n",
      " 144 total_rech_amt_9      99999 non-null  int64  \n",
      " 145 max_rech_amt_6        99999 non-null  int64  \n",
      " 146 max_rech_amt_7        99999 non-null  int64  \n",
      " 147 max_rech_amt_8        99999 non-null  int64  \n",
      " 148 max_rech_amt_9        99999 non-null  int64  \n",
      " 149 date_of_last_rech_6   98392 non-null  object \n",
      " 150 date_of_last_rech_7   98232 non-null  object \n",
      " 151 date_of_last_rech_8   96377 non-null  object \n",
      " 152 date_of_last_rech_9   95239 non-null  object \n",
      " 153 last_day_rch_amt_6    99999 non-null  int64  \n",
      " 154 last_day_rch_amt_7    99999 non-null  int64  \n",
      " 155 last_day_rch_amt_8    99999 non-null  int64  \n",
      " 156 last_day_rch_amt_9    99999 non-null  int64  \n",
      " 157 vol_2g_mb_6           99999 non-null  float64\n",
      " 158 vol_2g_mb_7           99999 non-null  float64\n",
      " 159 vol_2g_mb_8           99999 non-null  float64\n",
      " 160 vol_2g_mb_9           99999 non-null  float64\n",
      " 161 vol_3g_mb_6           99999 non-null  float64\n",
      " 162 vol_3g_mb_7           99999 non-null  float64\n",
      " 163 vol_3g_mb_8           99999 non-null  float64\n",
      " 164 vol_3g_mb_9           99999 non-null  float64\n",
      " 165 monthly_2g_6          99999 non-null  int64  \n",
      " 166 monthly_2g_7          99999 non-null  int64  \n",
      " 167 monthly_2g_8          99999 non-null  int64  \n",
      " 168 monthly_2g_9          99999 non-null  int64  \n",
      " 169 sachet_2g_6           99999 non-null  int64  \n",
      " 170 sachet_2g_7           99999 non-null  int64  \n",
      " 171 sachet_2g_8           99999 non-null  int64  \n",
      " 172 sachet_2g_9           99999 non-null  int64  \n",
      " 173 monthly_3g_6          99999 non-null  int64  \n",
      " 174 monthly_3g_7          99999 non-null  int64  \n",
      " 175 monthly_3g_8          99999 non-null  int64  \n",
      " 176 monthly_3g_9          99999 non-null  int64  \n",
      " 177 sachet_3g_6           99999 non-null  int64  \n",
      " 178 sachet_3g_7           99999 non-null  int64  \n",
      " 179 sachet_3g_8           99999 non-null  int64  \n",
      " 180 sachet_3g_9           99999 non-null  int64  \n",
      " 181 aon                   99999 non-null  int64  \n",
      " 182 aug_vbc_3g            99999 non-null  float64\n",
      " 183 jul_vbc_3g            99999 non-null  float64\n",
      " 184 jun_vbc_3g            99999 non-null  float64\n",
      " 185 sep_vbc_3g            99999 non-null  float64\n",
      "dtypes: float64(143), int64(35), object(8)\n",
      "memory usage: 141.9+ MB\n"
     ]
    }
   ],
   "source": [
    "telecom.info(verbose=True, null_counts=True)"
   ]
  },
  {
   "cell_type": "code",
   "execution_count": 373,
   "metadata": {},
   "outputs": [
    {
     "data": {
      "text/plain": [
       "6/30/2014    99999\n",
       "Name: last_date_of_month_6, dtype: int64"
      ]
     },
     "execution_count": 373,
     "metadata": {},
     "output_type": "execute_result"
    }
   ],
   "source": [
    "telecom['last_date_of_month_6'].value_counts()"
   ]
  },
  {
   "cell_type": "code",
   "execution_count": 374,
   "metadata": {},
   "outputs": [
    {
     "data": {
      "text/plain": [
       "109    99999\n",
       "Name: circle_id, dtype: int64"
      ]
     },
     "execution_count": 374,
     "metadata": {},
     "output_type": "execute_result"
    }
   ],
   "source": [
    "telecom['circle_id'].value_counts()"
   ]
  },
  {
   "cell_type": "code",
   "execution_count": 375,
   "metadata": {},
   "outputs": [
    {
     "data": {
      "text/plain": [
       "6/30/2014    16960\n",
       "6/29/2014    12918\n",
       "6/27/2014    11169\n",
       "6/28/2014     9491\n",
       "6/26/2014     5530\n",
       "6/25/2014     4896\n",
       "6/17/2014     4145\n",
       "6/24/2014     4129\n",
       "6/14/2014     3845\n",
       "6/21/2014     3747\n",
       "6/23/2014     2908\n",
       "6/18/2014     2747\n",
       "6/12/2014     2511\n",
       "6/22/2014     2344\n",
       "6/13/2014     2147\n",
       "6/19/2014     2009\n",
       "6/20/2014     1803\n",
       "6/16/2014     1126\n",
       "6/15/2014      873\n",
       "6/11/2014      579\n",
       "6/8/2014       520\n",
       "6/5/2014       327\n",
       "6/7/2014       322\n",
       "6/10/2014      283\n",
       "6/3/2014       233\n",
       "6/1/2014       218\n",
       "6/9/2014       199\n",
       "6/6/2014       173\n",
       "6/4/2014       131\n",
       "6/2/2014       109\n",
       "Name: date_of_last_rech_6, dtype: int64"
      ]
     },
     "execution_count": 375,
     "metadata": {},
     "output_type": "execute_result"
    }
   ],
   "source": [
    "telecom['date_of_last_rech_6'].value_counts()"
   ]
  },
  {
   "cell_type": "markdown",
   "metadata": {},
   "source": [
    "### Remove all the useless columns like 'mobile no.' , 'circle_id' , 'last day of month' , 'date of last recharge'"
   ]
  },
  {
   "cell_type": "code",
   "execution_count": 376,
   "metadata": {},
   "outputs": [],
   "source": [
    "useless_columns = ['mobile_number' , 'circle_id' , \n",
    "                   'last_date_of_month_6' , 'last_date_of_month_7' , \n",
    "                   'last_date_of_month_8' , 'last_date_of_month_9',\n",
    "                   'date_of_last_rech_6' , 'date_of_last_rech_7' , \n",
    "                   'date_of_last_rech_8' , 'date_of_last_rech_9']"
   ]
  },
  {
   "cell_type": "code",
   "execution_count": 377,
   "metadata": {},
   "outputs": [],
   "source": [
    "telecom = telecom.drop(columns=useless_columns , axis=1)"
   ]
  },
  {
   "cell_type": "code",
   "execution_count": 378,
   "metadata": {},
   "outputs": [
    {
     "name": "stdout",
     "output_type": "stream",
     "text": [
      "<class 'pandas.core.frame.DataFrame'>\n",
      "RangeIndex: 99999 entries, 0 to 99998\n",
      "Data columns (total 176 columns):\n",
      " #   Column              Non-Null Count  Dtype  \n",
      "---  ------              --------------  -----  \n",
      " 0   loc_og_t2o_mou      98981 non-null  float64\n",
      " 1   std_og_t2o_mou      98981 non-null  float64\n",
      " 2   loc_ic_t2o_mou      98981 non-null  float64\n",
      " 3   arpu_6              99999 non-null  float64\n",
      " 4   arpu_7              99999 non-null  float64\n",
      " 5   arpu_8              99999 non-null  float64\n",
      " 6   arpu_9              99999 non-null  float64\n",
      " 7   onnet_mou_6         96062 non-null  float64\n",
      " 8   onnet_mou_7         96140 non-null  float64\n",
      " 9   onnet_mou_8         94621 non-null  float64\n",
      " 10  onnet_mou_9         92254 non-null  float64\n",
      " 11  offnet_mou_6        96062 non-null  float64\n",
      " 12  offnet_mou_7        96140 non-null  float64\n",
      " 13  offnet_mou_8        94621 non-null  float64\n",
      " 14  offnet_mou_9        92254 non-null  float64\n",
      " 15  roam_ic_mou_6       96062 non-null  float64\n",
      " 16  roam_ic_mou_7       96140 non-null  float64\n",
      " 17  roam_ic_mou_8       94621 non-null  float64\n",
      " 18  roam_ic_mou_9       92254 non-null  float64\n",
      " 19  roam_og_mou_6       96062 non-null  float64\n",
      " 20  roam_og_mou_7       96140 non-null  float64\n",
      " 21  roam_og_mou_8       94621 non-null  float64\n",
      " 22  roam_og_mou_9       92254 non-null  float64\n",
      " 23  loc_og_t2t_mou_6    96062 non-null  float64\n",
      " 24  loc_og_t2t_mou_7    96140 non-null  float64\n",
      " 25  loc_og_t2t_mou_8    94621 non-null  float64\n",
      " 26  loc_og_t2t_mou_9    92254 non-null  float64\n",
      " 27  loc_og_t2m_mou_6    96062 non-null  float64\n",
      " 28  loc_og_t2m_mou_7    96140 non-null  float64\n",
      " 29  loc_og_t2m_mou_8    94621 non-null  float64\n",
      " 30  loc_og_t2m_mou_9    92254 non-null  float64\n",
      " 31  loc_og_t2f_mou_6    96062 non-null  float64\n",
      " 32  loc_og_t2f_mou_7    96140 non-null  float64\n",
      " 33  loc_og_t2f_mou_8    94621 non-null  float64\n",
      " 34  loc_og_t2f_mou_9    92254 non-null  float64\n",
      " 35  loc_og_t2c_mou_6    96062 non-null  float64\n",
      " 36  loc_og_t2c_mou_7    96140 non-null  float64\n",
      " 37  loc_og_t2c_mou_8    94621 non-null  float64\n",
      " 38  loc_og_t2c_mou_9    92254 non-null  float64\n",
      " 39  loc_og_mou_6        96062 non-null  float64\n",
      " 40  loc_og_mou_7        96140 non-null  float64\n",
      " 41  loc_og_mou_8        94621 non-null  float64\n",
      " 42  loc_og_mou_9        92254 non-null  float64\n",
      " 43  std_og_t2t_mou_6    96062 non-null  float64\n",
      " 44  std_og_t2t_mou_7    96140 non-null  float64\n",
      " 45  std_og_t2t_mou_8    94621 non-null  float64\n",
      " 46  std_og_t2t_mou_9    92254 non-null  float64\n",
      " 47  std_og_t2m_mou_6    96062 non-null  float64\n",
      " 48  std_og_t2m_mou_7    96140 non-null  float64\n",
      " 49  std_og_t2m_mou_8    94621 non-null  float64\n",
      " 50  std_og_t2m_mou_9    92254 non-null  float64\n",
      " 51  std_og_t2f_mou_6    96062 non-null  float64\n",
      " 52  std_og_t2f_mou_7    96140 non-null  float64\n",
      " 53  std_og_t2f_mou_8    94621 non-null  float64\n",
      " 54  std_og_t2f_mou_9    92254 non-null  float64\n",
      " 55  std_og_t2c_mou_6    96062 non-null  float64\n",
      " 56  std_og_t2c_mou_7    96140 non-null  float64\n",
      " 57  std_og_t2c_mou_8    94621 non-null  float64\n",
      " 58  std_og_t2c_mou_9    92254 non-null  float64\n",
      " 59  std_og_mou_6        96062 non-null  float64\n",
      " 60  std_og_mou_7        96140 non-null  float64\n",
      " 61  std_og_mou_8        94621 non-null  float64\n",
      " 62  std_og_mou_9        92254 non-null  float64\n",
      " 63  isd_og_mou_6        96062 non-null  float64\n",
      " 64  isd_og_mou_7        96140 non-null  float64\n",
      " 65  isd_og_mou_8        94621 non-null  float64\n",
      " 66  isd_og_mou_9        92254 non-null  float64\n",
      " 67  spl_og_mou_6        96062 non-null  float64\n",
      " 68  spl_og_mou_7        96140 non-null  float64\n",
      " 69  spl_og_mou_8        94621 non-null  float64\n",
      " 70  spl_og_mou_9        92254 non-null  float64\n",
      " 71  og_others_6         96062 non-null  float64\n",
      " 72  og_others_7         96140 non-null  float64\n",
      " 73  og_others_8         94621 non-null  float64\n",
      " 74  og_others_9         92254 non-null  float64\n",
      " 75  total_og_mou_6      99999 non-null  float64\n",
      " 76  total_og_mou_7      99999 non-null  float64\n",
      " 77  total_og_mou_8      99999 non-null  float64\n",
      " 78  total_og_mou_9      99999 non-null  float64\n",
      " 79  loc_ic_t2t_mou_6    96062 non-null  float64\n",
      " 80  loc_ic_t2t_mou_7    96140 non-null  float64\n",
      " 81  loc_ic_t2t_mou_8    94621 non-null  float64\n",
      " 82  loc_ic_t2t_mou_9    92254 non-null  float64\n",
      " 83  loc_ic_t2m_mou_6    96062 non-null  float64\n",
      " 84  loc_ic_t2m_mou_7    96140 non-null  float64\n",
      " 85  loc_ic_t2m_mou_8    94621 non-null  float64\n",
      " 86  loc_ic_t2m_mou_9    92254 non-null  float64\n",
      " 87  loc_ic_t2f_mou_6    96062 non-null  float64\n",
      " 88  loc_ic_t2f_mou_7    96140 non-null  float64\n",
      " 89  loc_ic_t2f_mou_8    94621 non-null  float64\n",
      " 90  loc_ic_t2f_mou_9    92254 non-null  float64\n",
      " 91  loc_ic_mou_6        96062 non-null  float64\n",
      " 92  loc_ic_mou_7        96140 non-null  float64\n",
      " 93  loc_ic_mou_8        94621 non-null  float64\n",
      " 94  loc_ic_mou_9        92254 non-null  float64\n",
      " 95  std_ic_t2t_mou_6    96062 non-null  float64\n",
      " 96  std_ic_t2t_mou_7    96140 non-null  float64\n",
      " 97  std_ic_t2t_mou_8    94621 non-null  float64\n",
      " 98  std_ic_t2t_mou_9    92254 non-null  float64\n",
      " 99  std_ic_t2m_mou_6    96062 non-null  float64\n",
      " 100 std_ic_t2m_mou_7    96140 non-null  float64\n",
      " 101 std_ic_t2m_mou_8    94621 non-null  float64\n",
      " 102 std_ic_t2m_mou_9    92254 non-null  float64\n",
      " 103 std_ic_t2f_mou_6    96062 non-null  float64\n",
      " 104 std_ic_t2f_mou_7    96140 non-null  float64\n",
      " 105 std_ic_t2f_mou_8    94621 non-null  float64\n",
      " 106 std_ic_t2f_mou_9    92254 non-null  float64\n",
      " 107 std_ic_t2o_mou_6    96062 non-null  float64\n",
      " 108 std_ic_t2o_mou_7    96140 non-null  float64\n",
      " 109 std_ic_t2o_mou_8    94621 non-null  float64\n",
      " 110 std_ic_t2o_mou_9    92254 non-null  float64\n",
      " 111 std_ic_mou_6        96062 non-null  float64\n",
      " 112 std_ic_mou_7        96140 non-null  float64\n",
      " 113 std_ic_mou_8        94621 non-null  float64\n",
      " 114 std_ic_mou_9        92254 non-null  float64\n",
      " 115 total_ic_mou_6      99999 non-null  float64\n",
      " 116 total_ic_mou_7      99999 non-null  float64\n",
      " 117 total_ic_mou_8      99999 non-null  float64\n",
      " 118 total_ic_mou_9      99999 non-null  float64\n",
      " 119 spl_ic_mou_6        96062 non-null  float64\n",
      " 120 spl_ic_mou_7        96140 non-null  float64\n",
      " 121 spl_ic_mou_8        94621 non-null  float64\n",
      " 122 spl_ic_mou_9        92254 non-null  float64\n",
      " 123 isd_ic_mou_6        96062 non-null  float64\n",
      " 124 isd_ic_mou_7        96140 non-null  float64\n",
      " 125 isd_ic_mou_8        94621 non-null  float64\n",
      " 126 isd_ic_mou_9        92254 non-null  float64\n",
      " 127 ic_others_6         96062 non-null  float64\n",
      " 128 ic_others_7         96140 non-null  float64\n",
      " 129 ic_others_8         94621 non-null  float64\n",
      " 130 ic_others_9         92254 non-null  float64\n",
      " 131 total_rech_num_6    99999 non-null  int64  \n",
      " 132 total_rech_num_7    99999 non-null  int64  \n",
      " 133 total_rech_num_8    99999 non-null  int64  \n",
      " 134 total_rech_num_9    99999 non-null  int64  \n",
      " 135 total_rech_amt_6    99999 non-null  int64  \n",
      " 136 total_rech_amt_7    99999 non-null  int64  \n",
      " 137 total_rech_amt_8    99999 non-null  int64  \n",
      " 138 total_rech_amt_9    99999 non-null  int64  \n",
      " 139 max_rech_amt_6      99999 non-null  int64  \n",
      " 140 max_rech_amt_7      99999 non-null  int64  \n",
      " 141 max_rech_amt_8      99999 non-null  int64  \n",
      " 142 max_rech_amt_9      99999 non-null  int64  \n",
      " 143 last_day_rch_amt_6  99999 non-null  int64  \n",
      " 144 last_day_rch_amt_7  99999 non-null  int64  \n",
      " 145 last_day_rch_amt_8  99999 non-null  int64  \n",
      " 146 last_day_rch_amt_9  99999 non-null  int64  \n",
      " 147 vol_2g_mb_6         99999 non-null  float64\n",
      " 148 vol_2g_mb_7         99999 non-null  float64\n",
      " 149 vol_2g_mb_8         99999 non-null  float64\n",
      " 150 vol_2g_mb_9         99999 non-null  float64\n",
      " 151 vol_3g_mb_6         99999 non-null  float64\n",
      " 152 vol_3g_mb_7         99999 non-null  float64\n",
      " 153 vol_3g_mb_8         99999 non-null  float64\n",
      " 154 vol_3g_mb_9         99999 non-null  float64\n",
      " 155 monthly_2g_6        99999 non-null  int64  \n",
      " 156 monthly_2g_7        99999 non-null  int64  \n",
      " 157 monthly_2g_8        99999 non-null  int64  \n",
      " 158 monthly_2g_9        99999 non-null  int64  \n",
      " 159 sachet_2g_6         99999 non-null  int64  \n",
      " 160 sachet_2g_7         99999 non-null  int64  \n",
      " 161 sachet_2g_8         99999 non-null  int64  \n",
      " 162 sachet_2g_9         99999 non-null  int64  \n",
      " 163 monthly_3g_6        99999 non-null  int64  \n",
      " 164 monthly_3g_7        99999 non-null  int64  \n",
      " 165 monthly_3g_8        99999 non-null  int64  \n",
      " 166 monthly_3g_9        99999 non-null  int64  \n",
      " 167 sachet_3g_6         99999 non-null  int64  \n",
      " 168 sachet_3g_7         99999 non-null  int64  \n",
      " 169 sachet_3g_8         99999 non-null  int64  \n",
      " 170 sachet_3g_9         99999 non-null  int64  \n",
      " 171 aon                 99999 non-null  int64  \n",
      " 172 aug_vbc_3g          99999 non-null  float64\n",
      " 173 jul_vbc_3g          99999 non-null  float64\n",
      " 174 jun_vbc_3g          99999 non-null  float64\n",
      " 175 sep_vbc_3g          99999 non-null  float64\n",
      "dtypes: float64(143), int64(33)\n",
      "memory usage: 134.3 MB\n"
     ]
    }
   ],
   "source": [
    "telecom.info(verbose=True, null_counts=True)"
   ]
  },
  {
   "cell_type": "markdown",
   "metadata": {},
   "source": [
    "### Now we have a final value of 176 columns"
   ]
  },
  {
   "cell_type": "markdown",
   "metadata": {},
   "source": [
    "## Step 2. Data-preprocessing"
   ]
  },
  {
   "cell_type": "markdown",
   "metadata": {},
   "source": [
    "### 2.1 Determine the high-value customers (we are interested in only these customers for our analysis)"
   ]
  },
  {
   "cell_type": "code",
   "execution_count": 380,
   "metadata": {},
   "outputs": [],
   "source": [
    "telecom['avg_rech_in_2months'] = (telecom['total_rech_amt_6'] + telecom['total_rech_amt_7'])/2"
   ]
  },
  {
   "cell_type": "code",
   "execution_count": 381,
   "metadata": {},
   "outputs": [],
   "source": [
    "quantile_70 = telecom['avg_rech_in_2months'].quantile(q=0.7)"
   ]
  },
  {
   "cell_type": "code",
   "execution_count": 382,
   "metadata": {},
   "outputs": [
    {
     "data": {
      "text/plain": [
       "368.5"
      ]
     },
     "execution_count": 382,
     "metadata": {},
     "output_type": "execute_result"
    }
   ],
   "source": [
    "quantile_70"
   ]
  },
  {
   "cell_type": "code",
   "execution_count": 383,
   "metadata": {},
   "outputs": [
    {
     "data": {
      "text/plain": [
       "0.05       30.0\n",
       "0.10       60.0\n",
       "0.25      115.0\n",
       "0.50      229.0\n",
       "0.75      419.0\n",
       "0.90      698.0\n",
       "0.95      937.5\n",
       "0.99     1590.0\n",
       "1.00    37762.5\n",
       "Name: avg_rech_in_2months, dtype: float64"
      ]
     },
     "execution_count": 383,
     "metadata": {},
     "output_type": "execute_result"
    }
   ],
   "source": [
    "telecom['avg_rech_in_2months'].quantile(q = [0.05 , 0.1 , 0.25 , 0.5 , 0.75 , 0.9 , 0.95 , 0.99 , 1.0])"
   ]
  },
  {
   "cell_type": "code",
   "execution_count": 384,
   "metadata": {},
   "outputs": [],
   "source": [
    "telecom = telecom[telecom['avg_rech_in_2months'] >= quantile_70]"
   ]
  },
  {
   "cell_type": "code",
   "execution_count": 385,
   "metadata": {},
   "outputs": [
    {
     "name": "stdout",
     "output_type": "stream",
     "text": [
      "<class 'pandas.core.frame.DataFrame'>\n",
      "Int64Index: 30011 entries, 7 to 99997\n",
      "Data columns (total 177 columns):\n",
      " #   Column               Non-Null Count  Dtype  \n",
      "---  ------               --------------  -----  \n",
      " 0   loc_og_t2o_mou       29897 non-null  float64\n",
      " 1   std_og_t2o_mou       29897 non-null  float64\n",
      " 2   loc_ic_t2o_mou       29897 non-null  float64\n",
      " 3   arpu_6               30011 non-null  float64\n",
      " 4   arpu_7               30011 non-null  float64\n",
      " 5   arpu_8               30011 non-null  float64\n",
      " 6   arpu_9               30011 non-null  float64\n",
      " 7   onnet_mou_6          29695 non-null  float64\n",
      " 8   onnet_mou_7          29708 non-null  float64\n",
      " 9   onnet_mou_8          29073 non-null  float64\n",
      " 10  onnet_mou_9          28307 non-null  float64\n",
      " 11  offnet_mou_6         29695 non-null  float64\n",
      " 12  offnet_mou_7         29708 non-null  float64\n",
      " 13  offnet_mou_8         29073 non-null  float64\n",
      " 14  offnet_mou_9         28307 non-null  float64\n",
      " 15  roam_ic_mou_6        29695 non-null  float64\n",
      " 16  roam_ic_mou_7        29708 non-null  float64\n",
      " 17  roam_ic_mou_8        29073 non-null  float64\n",
      " 18  roam_ic_mou_9        28307 non-null  float64\n",
      " 19  roam_og_mou_6        29695 non-null  float64\n",
      " 20  roam_og_mou_7        29708 non-null  float64\n",
      " 21  roam_og_mou_8        29073 non-null  float64\n",
      " 22  roam_og_mou_9        28307 non-null  float64\n",
      " 23  loc_og_t2t_mou_6     29695 non-null  float64\n",
      " 24  loc_og_t2t_mou_7     29708 non-null  float64\n",
      " 25  loc_og_t2t_mou_8     29073 non-null  float64\n",
      " 26  loc_og_t2t_mou_9     28307 non-null  float64\n",
      " 27  loc_og_t2m_mou_6     29695 non-null  float64\n",
      " 28  loc_og_t2m_mou_7     29708 non-null  float64\n",
      " 29  loc_og_t2m_mou_8     29073 non-null  float64\n",
      " 30  loc_og_t2m_mou_9     28307 non-null  float64\n",
      " 31  loc_og_t2f_mou_6     29695 non-null  float64\n",
      " 32  loc_og_t2f_mou_7     29708 non-null  float64\n",
      " 33  loc_og_t2f_mou_8     29073 non-null  float64\n",
      " 34  loc_og_t2f_mou_9     28307 non-null  float64\n",
      " 35  loc_og_t2c_mou_6     29695 non-null  float64\n",
      " 36  loc_og_t2c_mou_7     29708 non-null  float64\n",
      " 37  loc_og_t2c_mou_8     29073 non-null  float64\n",
      " 38  loc_og_t2c_mou_9     28307 non-null  float64\n",
      " 39  loc_og_mou_6         29695 non-null  float64\n",
      " 40  loc_og_mou_7         29708 non-null  float64\n",
      " 41  loc_og_mou_8         29073 non-null  float64\n",
      " 42  loc_og_mou_9         28307 non-null  float64\n",
      " 43  std_og_t2t_mou_6     29695 non-null  float64\n",
      " 44  std_og_t2t_mou_7     29708 non-null  float64\n",
      " 45  std_og_t2t_mou_8     29073 non-null  float64\n",
      " 46  std_og_t2t_mou_9     28307 non-null  float64\n",
      " 47  std_og_t2m_mou_6     29695 non-null  float64\n",
      " 48  std_og_t2m_mou_7     29708 non-null  float64\n",
      " 49  std_og_t2m_mou_8     29073 non-null  float64\n",
      " 50  std_og_t2m_mou_9     28307 non-null  float64\n",
      " 51  std_og_t2f_mou_6     29695 non-null  float64\n",
      " 52  std_og_t2f_mou_7     29708 non-null  float64\n",
      " 53  std_og_t2f_mou_8     29073 non-null  float64\n",
      " 54  std_og_t2f_mou_9     28307 non-null  float64\n",
      " 55  std_og_t2c_mou_6     29695 non-null  float64\n",
      " 56  std_og_t2c_mou_7     29708 non-null  float64\n",
      " 57  std_og_t2c_mou_8     29073 non-null  float64\n",
      " 58  std_og_t2c_mou_9     28307 non-null  float64\n",
      " 59  std_og_mou_6         29695 non-null  float64\n",
      " 60  std_og_mou_7         29708 non-null  float64\n",
      " 61  std_og_mou_8         29073 non-null  float64\n",
      " 62  std_og_mou_9         28307 non-null  float64\n",
      " 63  isd_og_mou_6         29695 non-null  float64\n",
      " 64  isd_og_mou_7         29708 non-null  float64\n",
      " 65  isd_og_mou_8         29073 non-null  float64\n",
      " 66  isd_og_mou_9         28307 non-null  float64\n",
      " 67  spl_og_mou_6         29695 non-null  float64\n",
      " 68  spl_og_mou_7         29708 non-null  float64\n",
      " 69  spl_og_mou_8         29073 non-null  float64\n",
      " 70  spl_og_mou_9         28307 non-null  float64\n",
      " 71  og_others_6          29695 non-null  float64\n",
      " 72  og_others_7          29708 non-null  float64\n",
      " 73  og_others_8          29073 non-null  float64\n",
      " 74  og_others_9          28307 non-null  float64\n",
      " 75  total_og_mou_6       30011 non-null  float64\n",
      " 76  total_og_mou_7       30011 non-null  float64\n",
      " 77  total_og_mou_8       30011 non-null  float64\n",
      " 78  total_og_mou_9       30011 non-null  float64\n",
      " 79  loc_ic_t2t_mou_6     29695 non-null  float64\n",
      " 80  loc_ic_t2t_mou_7     29708 non-null  float64\n",
      " 81  loc_ic_t2t_mou_8     29073 non-null  float64\n",
      " 82  loc_ic_t2t_mou_9     28307 non-null  float64\n",
      " 83  loc_ic_t2m_mou_6     29695 non-null  float64\n",
      " 84  loc_ic_t2m_mou_7     29708 non-null  float64\n",
      " 85  loc_ic_t2m_mou_8     29073 non-null  float64\n",
      " 86  loc_ic_t2m_mou_9     28307 non-null  float64\n",
      " 87  loc_ic_t2f_mou_6     29695 non-null  float64\n",
      " 88  loc_ic_t2f_mou_7     29708 non-null  float64\n",
      " 89  loc_ic_t2f_mou_8     29073 non-null  float64\n",
      " 90  loc_ic_t2f_mou_9     28307 non-null  float64\n",
      " 91  loc_ic_mou_6         29695 non-null  float64\n",
      " 92  loc_ic_mou_7         29708 non-null  float64\n",
      " 93  loc_ic_mou_8         29073 non-null  float64\n",
      " 94  loc_ic_mou_9         28307 non-null  float64\n",
      " 95  std_ic_t2t_mou_6     29695 non-null  float64\n",
      " 96  std_ic_t2t_mou_7     29708 non-null  float64\n",
      " 97  std_ic_t2t_mou_8     29073 non-null  float64\n",
      " 98  std_ic_t2t_mou_9     28307 non-null  float64\n",
      " 99  std_ic_t2m_mou_6     29695 non-null  float64\n",
      " 100 std_ic_t2m_mou_7     29708 non-null  float64\n",
      " 101 std_ic_t2m_mou_8     29073 non-null  float64\n",
      " 102 std_ic_t2m_mou_9     28307 non-null  float64\n",
      " 103 std_ic_t2f_mou_6     29695 non-null  float64\n",
      " 104 std_ic_t2f_mou_7     29708 non-null  float64\n",
      " 105 std_ic_t2f_mou_8     29073 non-null  float64\n",
      " 106 std_ic_t2f_mou_9     28307 non-null  float64\n",
      " 107 std_ic_t2o_mou_6     29695 non-null  float64\n",
      " 108 std_ic_t2o_mou_7     29708 non-null  float64\n",
      " 109 std_ic_t2o_mou_8     29073 non-null  float64\n",
      " 110 std_ic_t2o_mou_9     28307 non-null  float64\n",
      " 111 std_ic_mou_6         29695 non-null  float64\n",
      " 112 std_ic_mou_7         29708 non-null  float64\n",
      " 113 std_ic_mou_8         29073 non-null  float64\n",
      " 114 std_ic_mou_9         28307 non-null  float64\n",
      " 115 total_ic_mou_6       30011 non-null  float64\n",
      " 116 total_ic_mou_7       30011 non-null  float64\n",
      " 117 total_ic_mou_8       30011 non-null  float64\n",
      " 118 total_ic_mou_9       30011 non-null  float64\n",
      " 119 spl_ic_mou_6         29695 non-null  float64\n",
      " 120 spl_ic_mou_7         29708 non-null  float64\n",
      " 121 spl_ic_mou_8         29073 non-null  float64\n",
      " 122 spl_ic_mou_9         28307 non-null  float64\n",
      " 123 isd_ic_mou_6         29695 non-null  float64\n",
      " 124 isd_ic_mou_7         29708 non-null  float64\n",
      " 125 isd_ic_mou_8         29073 non-null  float64\n",
      " 126 isd_ic_mou_9         28307 non-null  float64\n",
      " 127 ic_others_6          29695 non-null  float64\n",
      " 128 ic_others_7          29708 non-null  float64\n",
      " 129 ic_others_8          29073 non-null  float64\n",
      " 130 ic_others_9          28307 non-null  float64\n",
      " 131 total_rech_num_6     30011 non-null  int64  \n",
      " 132 total_rech_num_7     30011 non-null  int64  \n",
      " 133 total_rech_num_8     30011 non-null  int64  \n",
      " 134 total_rech_num_9     30011 non-null  int64  \n",
      " 135 total_rech_amt_6     30011 non-null  int64  \n",
      " 136 total_rech_amt_7     30011 non-null  int64  \n",
      " 137 total_rech_amt_8     30011 non-null  int64  \n",
      " 138 total_rech_amt_9     30011 non-null  int64  \n",
      " 139 max_rech_amt_6       30011 non-null  int64  \n",
      " 140 max_rech_amt_7       30011 non-null  int64  \n",
      " 141 max_rech_amt_8       30011 non-null  int64  \n",
      " 142 max_rech_amt_9       30011 non-null  int64  \n",
      " 143 last_day_rch_amt_6   30011 non-null  int64  \n",
      " 144 last_day_rch_amt_7   30011 non-null  int64  \n",
      " 145 last_day_rch_amt_8   30011 non-null  int64  \n",
      " 146 last_day_rch_amt_9   30011 non-null  int64  \n",
      " 147 vol_2g_mb_6          30011 non-null  float64\n",
      " 148 vol_2g_mb_7          30011 non-null  float64\n",
      " 149 vol_2g_mb_8          30011 non-null  float64\n",
      " 150 vol_2g_mb_9          30011 non-null  float64\n",
      " 151 vol_3g_mb_6          30011 non-null  float64\n",
      " 152 vol_3g_mb_7          30011 non-null  float64\n",
      " 153 vol_3g_mb_8          30011 non-null  float64\n",
      " 154 vol_3g_mb_9          30011 non-null  float64\n",
      " 155 monthly_2g_6         30011 non-null  int64  \n",
      " 156 monthly_2g_7         30011 non-null  int64  \n",
      " 157 monthly_2g_8         30011 non-null  int64  \n",
      " 158 monthly_2g_9         30011 non-null  int64  \n",
      " 159 sachet_2g_6          30011 non-null  int64  \n",
      " 160 sachet_2g_7          30011 non-null  int64  \n",
      " 161 sachet_2g_8          30011 non-null  int64  \n",
      " 162 sachet_2g_9          30011 non-null  int64  \n",
      " 163 monthly_3g_6         30011 non-null  int64  \n",
      " 164 monthly_3g_7         30011 non-null  int64  \n",
      " 165 monthly_3g_8         30011 non-null  int64  \n",
      " 166 monthly_3g_9         30011 non-null  int64  \n",
      " 167 sachet_3g_6          30011 non-null  int64  \n",
      " 168 sachet_3g_7          30011 non-null  int64  \n",
      " 169 sachet_3g_8          30011 non-null  int64  \n",
      " 170 sachet_3g_9          30011 non-null  int64  \n",
      " 171 aon                  30011 non-null  int64  \n",
      " 172 aug_vbc_3g           30011 non-null  float64\n",
      " 173 jul_vbc_3g           30011 non-null  float64\n",
      " 174 jun_vbc_3g           30011 non-null  float64\n",
      " 175 sep_vbc_3g           30011 non-null  float64\n",
      " 176 avg_rech_in_2months  30011 non-null  float64\n",
      "dtypes: float64(144), int64(33)\n",
      "memory usage: 40.8 MB\n"
     ]
    }
   ],
   "source": [
    "telecom.info(verbose=True, null_counts=True)"
   ]
  },
  {
   "cell_type": "markdown",
   "metadata": {},
   "source": [
    "#### Now  we are left with 30011 records (high-value customers) with NULL values"
   ]
  },
  {
   "cell_type": "markdown",
   "metadata": {},
   "source": [
    "#### Remove the rows which have NULL values in any columns"
   ]
  },
  {
   "cell_type": "code",
   "execution_count": 386,
   "metadata": {},
   "outputs": [
    {
     "name": "stdout",
     "output_type": "stream",
     "text": [
      "<class 'pandas.core.frame.DataFrame'>\n",
      "Int64Index: 27991 entries, 8 to 99997\n",
      "Data columns (total 177 columns):\n",
      " #   Column               Non-Null Count  Dtype  \n",
      "---  ------               --------------  -----  \n",
      " 0   loc_og_t2o_mou       27991 non-null  float64\n",
      " 1   std_og_t2o_mou       27991 non-null  float64\n",
      " 2   loc_ic_t2o_mou       27991 non-null  float64\n",
      " 3   arpu_6               27991 non-null  float64\n",
      " 4   arpu_7               27991 non-null  float64\n",
      " 5   arpu_8               27991 non-null  float64\n",
      " 6   arpu_9               27991 non-null  float64\n",
      " 7   onnet_mou_6          27991 non-null  float64\n",
      " 8   onnet_mou_7          27991 non-null  float64\n",
      " 9   onnet_mou_8          27991 non-null  float64\n",
      " 10  onnet_mou_9          27991 non-null  float64\n",
      " 11  offnet_mou_6         27991 non-null  float64\n",
      " 12  offnet_mou_7         27991 non-null  float64\n",
      " 13  offnet_mou_8         27991 non-null  float64\n",
      " 14  offnet_mou_9         27991 non-null  float64\n",
      " 15  roam_ic_mou_6        27991 non-null  float64\n",
      " 16  roam_ic_mou_7        27991 non-null  float64\n",
      " 17  roam_ic_mou_8        27991 non-null  float64\n",
      " 18  roam_ic_mou_9        27991 non-null  float64\n",
      " 19  roam_og_mou_6        27991 non-null  float64\n",
      " 20  roam_og_mou_7        27991 non-null  float64\n",
      " 21  roam_og_mou_8        27991 non-null  float64\n",
      " 22  roam_og_mou_9        27991 non-null  float64\n",
      " 23  loc_og_t2t_mou_6     27991 non-null  float64\n",
      " 24  loc_og_t2t_mou_7     27991 non-null  float64\n",
      " 25  loc_og_t2t_mou_8     27991 non-null  float64\n",
      " 26  loc_og_t2t_mou_9     27991 non-null  float64\n",
      " 27  loc_og_t2m_mou_6     27991 non-null  float64\n",
      " 28  loc_og_t2m_mou_7     27991 non-null  float64\n",
      " 29  loc_og_t2m_mou_8     27991 non-null  float64\n",
      " 30  loc_og_t2m_mou_9     27991 non-null  float64\n",
      " 31  loc_og_t2f_mou_6     27991 non-null  float64\n",
      " 32  loc_og_t2f_mou_7     27991 non-null  float64\n",
      " 33  loc_og_t2f_mou_8     27991 non-null  float64\n",
      " 34  loc_og_t2f_mou_9     27991 non-null  float64\n",
      " 35  loc_og_t2c_mou_6     27991 non-null  float64\n",
      " 36  loc_og_t2c_mou_7     27991 non-null  float64\n",
      " 37  loc_og_t2c_mou_8     27991 non-null  float64\n",
      " 38  loc_og_t2c_mou_9     27991 non-null  float64\n",
      " 39  loc_og_mou_6         27991 non-null  float64\n",
      " 40  loc_og_mou_7         27991 non-null  float64\n",
      " 41  loc_og_mou_8         27991 non-null  float64\n",
      " 42  loc_og_mou_9         27991 non-null  float64\n",
      " 43  std_og_t2t_mou_6     27991 non-null  float64\n",
      " 44  std_og_t2t_mou_7     27991 non-null  float64\n",
      " 45  std_og_t2t_mou_8     27991 non-null  float64\n",
      " 46  std_og_t2t_mou_9     27991 non-null  float64\n",
      " 47  std_og_t2m_mou_6     27991 non-null  float64\n",
      " 48  std_og_t2m_mou_7     27991 non-null  float64\n",
      " 49  std_og_t2m_mou_8     27991 non-null  float64\n",
      " 50  std_og_t2m_mou_9     27991 non-null  float64\n",
      " 51  std_og_t2f_mou_6     27991 non-null  float64\n",
      " 52  std_og_t2f_mou_7     27991 non-null  float64\n",
      " 53  std_og_t2f_mou_8     27991 non-null  float64\n",
      " 54  std_og_t2f_mou_9     27991 non-null  float64\n",
      " 55  std_og_t2c_mou_6     27991 non-null  float64\n",
      " 56  std_og_t2c_mou_7     27991 non-null  float64\n",
      " 57  std_og_t2c_mou_8     27991 non-null  float64\n",
      " 58  std_og_t2c_mou_9     27991 non-null  float64\n",
      " 59  std_og_mou_6         27991 non-null  float64\n",
      " 60  std_og_mou_7         27991 non-null  float64\n",
      " 61  std_og_mou_8         27991 non-null  float64\n",
      " 62  std_og_mou_9         27991 non-null  float64\n",
      " 63  isd_og_mou_6         27991 non-null  float64\n",
      " 64  isd_og_mou_7         27991 non-null  float64\n",
      " 65  isd_og_mou_8         27991 non-null  float64\n",
      " 66  isd_og_mou_9         27991 non-null  float64\n",
      " 67  spl_og_mou_6         27991 non-null  float64\n",
      " 68  spl_og_mou_7         27991 non-null  float64\n",
      " 69  spl_og_mou_8         27991 non-null  float64\n",
      " 70  spl_og_mou_9         27991 non-null  float64\n",
      " 71  og_others_6          27991 non-null  float64\n",
      " 72  og_others_7          27991 non-null  float64\n",
      " 73  og_others_8          27991 non-null  float64\n",
      " 74  og_others_9          27991 non-null  float64\n",
      " 75  total_og_mou_6       27991 non-null  float64\n",
      " 76  total_og_mou_7       27991 non-null  float64\n",
      " 77  total_og_mou_8       27991 non-null  float64\n",
      " 78  total_og_mou_9       27991 non-null  float64\n",
      " 79  loc_ic_t2t_mou_6     27991 non-null  float64\n",
      " 80  loc_ic_t2t_mou_7     27991 non-null  float64\n",
      " 81  loc_ic_t2t_mou_8     27991 non-null  float64\n",
      " 82  loc_ic_t2t_mou_9     27991 non-null  float64\n",
      " 83  loc_ic_t2m_mou_6     27991 non-null  float64\n",
      " 84  loc_ic_t2m_mou_7     27991 non-null  float64\n",
      " 85  loc_ic_t2m_mou_8     27991 non-null  float64\n",
      " 86  loc_ic_t2m_mou_9     27991 non-null  float64\n",
      " 87  loc_ic_t2f_mou_6     27991 non-null  float64\n",
      " 88  loc_ic_t2f_mou_7     27991 non-null  float64\n",
      " 89  loc_ic_t2f_mou_8     27991 non-null  float64\n",
      " 90  loc_ic_t2f_mou_9     27991 non-null  float64\n",
      " 91  loc_ic_mou_6         27991 non-null  float64\n",
      " 92  loc_ic_mou_7         27991 non-null  float64\n",
      " 93  loc_ic_mou_8         27991 non-null  float64\n",
      " 94  loc_ic_mou_9         27991 non-null  float64\n",
      " 95  std_ic_t2t_mou_6     27991 non-null  float64\n",
      " 96  std_ic_t2t_mou_7     27991 non-null  float64\n",
      " 97  std_ic_t2t_mou_8     27991 non-null  float64\n",
      " 98  std_ic_t2t_mou_9     27991 non-null  float64\n",
      " 99  std_ic_t2m_mou_6     27991 non-null  float64\n",
      " 100 std_ic_t2m_mou_7     27991 non-null  float64\n",
      " 101 std_ic_t2m_mou_8     27991 non-null  float64\n",
      " 102 std_ic_t2m_mou_9     27991 non-null  float64\n",
      " 103 std_ic_t2f_mou_6     27991 non-null  float64\n",
      " 104 std_ic_t2f_mou_7     27991 non-null  float64\n",
      " 105 std_ic_t2f_mou_8     27991 non-null  float64\n",
      " 106 std_ic_t2f_mou_9     27991 non-null  float64\n",
      " 107 std_ic_t2o_mou_6     27991 non-null  float64\n",
      " 108 std_ic_t2o_mou_7     27991 non-null  float64\n",
      " 109 std_ic_t2o_mou_8     27991 non-null  float64\n",
      " 110 std_ic_t2o_mou_9     27991 non-null  float64\n",
      " 111 std_ic_mou_6         27991 non-null  float64\n",
      " 112 std_ic_mou_7         27991 non-null  float64\n",
      " 113 std_ic_mou_8         27991 non-null  float64\n",
      " 114 std_ic_mou_9         27991 non-null  float64\n",
      " 115 total_ic_mou_6       27991 non-null  float64\n",
      " 116 total_ic_mou_7       27991 non-null  float64\n",
      " 117 total_ic_mou_8       27991 non-null  float64\n",
      " 118 total_ic_mou_9       27991 non-null  float64\n",
      " 119 spl_ic_mou_6         27991 non-null  float64\n",
      " 120 spl_ic_mou_7         27991 non-null  float64\n",
      " 121 spl_ic_mou_8         27991 non-null  float64\n",
      " 122 spl_ic_mou_9         27991 non-null  float64\n",
      " 123 isd_ic_mou_6         27991 non-null  float64\n",
      " 124 isd_ic_mou_7         27991 non-null  float64\n",
      " 125 isd_ic_mou_8         27991 non-null  float64\n",
      " 126 isd_ic_mou_9         27991 non-null  float64\n",
      " 127 ic_others_6          27991 non-null  float64\n",
      " 128 ic_others_7          27991 non-null  float64\n",
      " 129 ic_others_8          27991 non-null  float64\n",
      " 130 ic_others_9          27991 non-null  float64\n",
      " 131 total_rech_num_6     27991 non-null  int64  \n",
      " 132 total_rech_num_7     27991 non-null  int64  \n",
      " 133 total_rech_num_8     27991 non-null  int64  \n",
      " 134 total_rech_num_9     27991 non-null  int64  \n",
      " 135 total_rech_amt_6     27991 non-null  int64  \n",
      " 136 total_rech_amt_7     27991 non-null  int64  \n",
      " 137 total_rech_amt_8     27991 non-null  int64  \n",
      " 138 total_rech_amt_9     27991 non-null  int64  \n",
      " 139 max_rech_amt_6       27991 non-null  int64  \n",
      " 140 max_rech_amt_7       27991 non-null  int64  \n",
      " 141 max_rech_amt_8       27991 non-null  int64  \n",
      " 142 max_rech_amt_9       27991 non-null  int64  \n",
      " 143 last_day_rch_amt_6   27991 non-null  int64  \n",
      " 144 last_day_rch_amt_7   27991 non-null  int64  \n",
      " 145 last_day_rch_amt_8   27991 non-null  int64  \n",
      " 146 last_day_rch_amt_9   27991 non-null  int64  \n",
      " 147 vol_2g_mb_6          27991 non-null  float64\n",
      " 148 vol_2g_mb_7          27991 non-null  float64\n",
      " 149 vol_2g_mb_8          27991 non-null  float64\n",
      " 150 vol_2g_mb_9          27991 non-null  float64\n",
      " 151 vol_3g_mb_6          27991 non-null  float64\n",
      " 152 vol_3g_mb_7          27991 non-null  float64\n",
      " 153 vol_3g_mb_8          27991 non-null  float64\n",
      " 154 vol_3g_mb_9          27991 non-null  float64\n",
      " 155 monthly_2g_6         27991 non-null  int64  \n",
      " 156 monthly_2g_7         27991 non-null  int64  \n",
      " 157 monthly_2g_8         27991 non-null  int64  \n",
      " 158 monthly_2g_9         27991 non-null  int64  \n",
      " 159 sachet_2g_6          27991 non-null  int64  \n",
      " 160 sachet_2g_7          27991 non-null  int64  \n",
      " 161 sachet_2g_8          27991 non-null  int64  \n",
      " 162 sachet_2g_9          27991 non-null  int64  \n",
      " 163 monthly_3g_6         27991 non-null  int64  \n",
      " 164 monthly_3g_7         27991 non-null  int64  \n",
      " 165 monthly_3g_8         27991 non-null  int64  \n",
      " 166 monthly_3g_9         27991 non-null  int64  \n",
      " 167 sachet_3g_6          27991 non-null  int64  \n",
      " 168 sachet_3g_7          27991 non-null  int64  \n",
      " 169 sachet_3g_8          27991 non-null  int64  \n",
      " 170 sachet_3g_9          27991 non-null  int64  \n",
      " 171 aon                  27991 non-null  int64  \n",
      " 172 aug_vbc_3g           27991 non-null  float64\n",
      " 173 jul_vbc_3g           27991 non-null  float64\n",
      " 174 jun_vbc_3g           27991 non-null  float64\n",
      " 175 sep_vbc_3g           27991 non-null  float64\n",
      " 176 avg_rech_in_2months  27991 non-null  float64\n",
      "dtypes: float64(144), int64(33)\n",
      "memory usage: 38.0 MB\n"
     ]
    }
   ],
   "source": [
    "telecom = telecom.dropna(axis=0 , how='any')\n",
    "\n",
    "telecom.info(verbose=True, null_counts=True)"
   ]
  },
  {
   "cell_type": "markdown",
   "metadata": {},
   "source": [
    "#### Now we have 27991 records with no NULL values - all are high-value customers"
   ]
  },
  {
   "cell_type": "code",
   "execution_count": 387,
   "metadata": {},
   "outputs": [],
   "source": [
    "## Drop the average recharge column\n",
    "telecom = telecom.drop(columns=['avg_rech_in_2months'])"
   ]
  },
  {
   "cell_type": "markdown",
   "metadata": {},
   "source": [
    "### 2.2 Tag the churned customers on the basis of the fourth month"
   ]
  },
  {
   "cell_type": "code",
   "execution_count": 388,
   "metadata": {},
   "outputs": [
    {
     "name": "stdout",
     "output_type": "stream",
     "text": [
      "<class 'pandas.core.frame.DataFrame'>\n",
      "Int64Index: 27991 entries, 8 to 99997\n",
      "Data columns (total 176 columns):\n",
      " #   Column              Non-Null Count  Dtype  \n",
      "---  ------              --------------  -----  \n",
      " 0   loc_og_t2o_mou      27991 non-null  float64\n",
      " 1   std_og_t2o_mou      27991 non-null  float64\n",
      " 2   loc_ic_t2o_mou      27991 non-null  float64\n",
      " 3   arpu_6              27991 non-null  float64\n",
      " 4   arpu_7              27991 non-null  float64\n",
      " 5   arpu_8              27991 non-null  float64\n",
      " 6   arpu_9              27991 non-null  float64\n",
      " 7   onnet_mou_6         27991 non-null  float64\n",
      " 8   onnet_mou_7         27991 non-null  float64\n",
      " 9   onnet_mou_8         27991 non-null  float64\n",
      " 10  onnet_mou_9         27991 non-null  float64\n",
      " 11  offnet_mou_6        27991 non-null  float64\n",
      " 12  offnet_mou_7        27991 non-null  float64\n",
      " 13  offnet_mou_8        27991 non-null  float64\n",
      " 14  offnet_mou_9        27991 non-null  float64\n",
      " 15  roam_ic_mou_6       27991 non-null  float64\n",
      " 16  roam_ic_mou_7       27991 non-null  float64\n",
      " 17  roam_ic_mou_8       27991 non-null  float64\n",
      " 18  roam_ic_mou_9       27991 non-null  float64\n",
      " 19  roam_og_mou_6       27991 non-null  float64\n",
      " 20  roam_og_mou_7       27991 non-null  float64\n",
      " 21  roam_og_mou_8       27991 non-null  float64\n",
      " 22  roam_og_mou_9       27991 non-null  float64\n",
      " 23  loc_og_t2t_mou_6    27991 non-null  float64\n",
      " 24  loc_og_t2t_mou_7    27991 non-null  float64\n",
      " 25  loc_og_t2t_mou_8    27991 non-null  float64\n",
      " 26  loc_og_t2t_mou_9    27991 non-null  float64\n",
      " 27  loc_og_t2m_mou_6    27991 non-null  float64\n",
      " 28  loc_og_t2m_mou_7    27991 non-null  float64\n",
      " 29  loc_og_t2m_mou_8    27991 non-null  float64\n",
      " 30  loc_og_t2m_mou_9    27991 non-null  float64\n",
      " 31  loc_og_t2f_mou_6    27991 non-null  float64\n",
      " 32  loc_og_t2f_mou_7    27991 non-null  float64\n",
      " 33  loc_og_t2f_mou_8    27991 non-null  float64\n",
      " 34  loc_og_t2f_mou_9    27991 non-null  float64\n",
      " 35  loc_og_t2c_mou_6    27991 non-null  float64\n",
      " 36  loc_og_t2c_mou_7    27991 non-null  float64\n",
      " 37  loc_og_t2c_mou_8    27991 non-null  float64\n",
      " 38  loc_og_t2c_mou_9    27991 non-null  float64\n",
      " 39  loc_og_mou_6        27991 non-null  float64\n",
      " 40  loc_og_mou_7        27991 non-null  float64\n",
      " 41  loc_og_mou_8        27991 non-null  float64\n",
      " 42  loc_og_mou_9        27991 non-null  float64\n",
      " 43  std_og_t2t_mou_6    27991 non-null  float64\n",
      " 44  std_og_t2t_mou_7    27991 non-null  float64\n",
      " 45  std_og_t2t_mou_8    27991 non-null  float64\n",
      " 46  std_og_t2t_mou_9    27991 non-null  float64\n",
      " 47  std_og_t2m_mou_6    27991 non-null  float64\n",
      " 48  std_og_t2m_mou_7    27991 non-null  float64\n",
      " 49  std_og_t2m_mou_8    27991 non-null  float64\n",
      " 50  std_og_t2m_mou_9    27991 non-null  float64\n",
      " 51  std_og_t2f_mou_6    27991 non-null  float64\n",
      " 52  std_og_t2f_mou_7    27991 non-null  float64\n",
      " 53  std_og_t2f_mou_8    27991 non-null  float64\n",
      " 54  std_og_t2f_mou_9    27991 non-null  float64\n",
      " 55  std_og_t2c_mou_6    27991 non-null  float64\n",
      " 56  std_og_t2c_mou_7    27991 non-null  float64\n",
      " 57  std_og_t2c_mou_8    27991 non-null  float64\n",
      " 58  std_og_t2c_mou_9    27991 non-null  float64\n",
      " 59  std_og_mou_6        27991 non-null  float64\n",
      " 60  std_og_mou_7        27991 non-null  float64\n",
      " 61  std_og_mou_8        27991 non-null  float64\n",
      " 62  std_og_mou_9        27991 non-null  float64\n",
      " 63  isd_og_mou_6        27991 non-null  float64\n",
      " 64  isd_og_mou_7        27991 non-null  float64\n",
      " 65  isd_og_mou_8        27991 non-null  float64\n",
      " 66  isd_og_mou_9        27991 non-null  float64\n",
      " 67  spl_og_mou_6        27991 non-null  float64\n",
      " 68  spl_og_mou_7        27991 non-null  float64\n",
      " 69  spl_og_mou_8        27991 non-null  float64\n",
      " 70  spl_og_mou_9        27991 non-null  float64\n",
      " 71  og_others_6         27991 non-null  float64\n",
      " 72  og_others_7         27991 non-null  float64\n",
      " 73  og_others_8         27991 non-null  float64\n",
      " 74  og_others_9         27991 non-null  float64\n",
      " 75  total_og_mou_6      27991 non-null  float64\n",
      " 76  total_og_mou_7      27991 non-null  float64\n",
      " 77  total_og_mou_8      27991 non-null  float64\n",
      " 78  total_og_mou_9      27991 non-null  float64\n",
      " 79  loc_ic_t2t_mou_6    27991 non-null  float64\n",
      " 80  loc_ic_t2t_mou_7    27991 non-null  float64\n",
      " 81  loc_ic_t2t_mou_8    27991 non-null  float64\n",
      " 82  loc_ic_t2t_mou_9    27991 non-null  float64\n",
      " 83  loc_ic_t2m_mou_6    27991 non-null  float64\n",
      " 84  loc_ic_t2m_mou_7    27991 non-null  float64\n",
      " 85  loc_ic_t2m_mou_8    27991 non-null  float64\n",
      " 86  loc_ic_t2m_mou_9    27991 non-null  float64\n",
      " 87  loc_ic_t2f_mou_6    27991 non-null  float64\n",
      " 88  loc_ic_t2f_mou_7    27991 non-null  float64\n",
      " 89  loc_ic_t2f_mou_8    27991 non-null  float64\n",
      " 90  loc_ic_t2f_mou_9    27991 non-null  float64\n",
      " 91  loc_ic_mou_6        27991 non-null  float64\n",
      " 92  loc_ic_mou_7        27991 non-null  float64\n",
      " 93  loc_ic_mou_8        27991 non-null  float64\n",
      " 94  loc_ic_mou_9        27991 non-null  float64\n",
      " 95  std_ic_t2t_mou_6    27991 non-null  float64\n",
      " 96  std_ic_t2t_mou_7    27991 non-null  float64\n",
      " 97  std_ic_t2t_mou_8    27991 non-null  float64\n",
      " 98  std_ic_t2t_mou_9    27991 non-null  float64\n",
      " 99  std_ic_t2m_mou_6    27991 non-null  float64\n",
      " 100 std_ic_t2m_mou_7    27991 non-null  float64\n",
      " 101 std_ic_t2m_mou_8    27991 non-null  float64\n",
      " 102 std_ic_t2m_mou_9    27991 non-null  float64\n",
      " 103 std_ic_t2f_mou_6    27991 non-null  float64\n",
      " 104 std_ic_t2f_mou_7    27991 non-null  float64\n",
      " 105 std_ic_t2f_mou_8    27991 non-null  float64\n",
      " 106 std_ic_t2f_mou_9    27991 non-null  float64\n",
      " 107 std_ic_t2o_mou_6    27991 non-null  float64\n",
      " 108 std_ic_t2o_mou_7    27991 non-null  float64\n",
      " 109 std_ic_t2o_mou_8    27991 non-null  float64\n",
      " 110 std_ic_t2o_mou_9    27991 non-null  float64\n",
      " 111 std_ic_mou_6        27991 non-null  float64\n",
      " 112 std_ic_mou_7        27991 non-null  float64\n",
      " 113 std_ic_mou_8        27991 non-null  float64\n",
      " 114 std_ic_mou_9        27991 non-null  float64\n",
      " 115 total_ic_mou_6      27991 non-null  float64\n",
      " 116 total_ic_mou_7      27991 non-null  float64\n",
      " 117 total_ic_mou_8      27991 non-null  float64\n",
      " 118 total_ic_mou_9      27991 non-null  float64\n",
      " 119 spl_ic_mou_6        27991 non-null  float64\n",
      " 120 spl_ic_mou_7        27991 non-null  float64\n",
      " 121 spl_ic_mou_8        27991 non-null  float64\n",
      " 122 spl_ic_mou_9        27991 non-null  float64\n",
      " 123 isd_ic_mou_6        27991 non-null  float64\n",
      " 124 isd_ic_mou_7        27991 non-null  float64\n",
      " 125 isd_ic_mou_8        27991 non-null  float64\n",
      " 126 isd_ic_mou_9        27991 non-null  float64\n",
      " 127 ic_others_6         27991 non-null  float64\n",
      " 128 ic_others_7         27991 non-null  float64\n",
      " 129 ic_others_8         27991 non-null  float64\n",
      " 130 ic_others_9         27991 non-null  float64\n",
      " 131 total_rech_num_6    27991 non-null  int64  \n",
      " 132 total_rech_num_7    27991 non-null  int64  \n",
      " 133 total_rech_num_8    27991 non-null  int64  \n",
      " 134 total_rech_num_9    27991 non-null  int64  \n",
      " 135 total_rech_amt_6    27991 non-null  int64  \n",
      " 136 total_rech_amt_7    27991 non-null  int64  \n",
      " 137 total_rech_amt_8    27991 non-null  int64  \n",
      " 138 total_rech_amt_9    27991 non-null  int64  \n",
      " 139 max_rech_amt_6      27991 non-null  int64  \n",
      " 140 max_rech_amt_7      27991 non-null  int64  \n",
      " 141 max_rech_amt_8      27991 non-null  int64  \n",
      " 142 max_rech_amt_9      27991 non-null  int64  \n",
      " 143 last_day_rch_amt_6  27991 non-null  int64  \n",
      " 144 last_day_rch_amt_7  27991 non-null  int64  \n",
      " 145 last_day_rch_amt_8  27991 non-null  int64  \n",
      " 146 last_day_rch_amt_9  27991 non-null  int64  \n",
      " 147 vol_2g_mb_6         27991 non-null  float64\n",
      " 148 vol_2g_mb_7         27991 non-null  float64\n",
      " 149 vol_2g_mb_8         27991 non-null  float64\n",
      " 150 vol_2g_mb_9         27991 non-null  float64\n",
      " 151 vol_3g_mb_6         27991 non-null  float64\n",
      " 152 vol_3g_mb_7         27991 non-null  float64\n",
      " 153 vol_3g_mb_8         27991 non-null  float64\n",
      " 154 vol_3g_mb_9         27991 non-null  float64\n",
      " 155 monthly_2g_6        27991 non-null  int64  \n",
      " 156 monthly_2g_7        27991 non-null  int64  \n",
      " 157 monthly_2g_8        27991 non-null  int64  \n",
      " 158 monthly_2g_9        27991 non-null  int64  \n",
      " 159 sachet_2g_6         27991 non-null  int64  \n",
      " 160 sachet_2g_7         27991 non-null  int64  \n",
      " 161 sachet_2g_8         27991 non-null  int64  \n",
      " 162 sachet_2g_9         27991 non-null  int64  \n",
      " 163 monthly_3g_6        27991 non-null  int64  \n",
      " 164 monthly_3g_7        27991 non-null  int64  \n",
      " 165 monthly_3g_8        27991 non-null  int64  \n",
      " 166 monthly_3g_9        27991 non-null  int64  \n",
      " 167 sachet_3g_6         27991 non-null  int64  \n",
      " 168 sachet_3g_7         27991 non-null  int64  \n",
      " 169 sachet_3g_8         27991 non-null  int64  \n",
      " 170 sachet_3g_9         27991 non-null  int64  \n",
      " 171 aon                 27991 non-null  int64  \n",
      " 172 aug_vbc_3g          27991 non-null  float64\n",
      " 173 jul_vbc_3g          27991 non-null  float64\n",
      " 174 jun_vbc_3g          27991 non-null  float64\n",
      " 175 sep_vbc_3g          27991 non-null  float64\n",
      "dtypes: float64(143), int64(33)\n",
      "memory usage: 37.8 MB\n"
     ]
    }
   ],
   "source": [
    "telecom.info(verbose=1, null_counts=True)"
   ]
  },
  {
   "cell_type": "code",
   "execution_count": 394,
   "metadata": {},
   "outputs": [],
   "source": [
    "def tag_churners (atb1 , atb2 , atb3 , atb4): \n",
    "    if ((atb1 == 0) and (atb2 == 0) and (atb3 == 0) and (atb4 == 0)) :\n",
    "        return 1\n",
    "    else :\n",
    "        return 0"
   ]
  },
  {
   "cell_type": "code",
   "execution_count": 395,
   "metadata": {},
   "outputs": [],
   "source": [
    "telecom['churn'] = telecom.apply(lambda record : tag_churners(record.total_ic_mou_9 , record.total_og_mou_9 ,\n",
    "                                                            record.vol_2g_mb_9 , record.vol_3g_mb_9 ) , axis=1)"
   ]
  },
  {
   "cell_type": "code",
   "execution_count": 396,
   "metadata": {},
   "outputs": [
    {
     "data": {
      "text/plain": [
       "0    27042\n",
       "1      949\n",
       "Name: churn, dtype: int64"
      ]
     },
     "execution_count": 396,
     "metadata": {},
     "output_type": "execute_result"
    }
   ],
   "source": [
    "telecom['churn'].value_counts()"
   ]
  },
  {
   "cell_type": "code",
   "execution_count": 397,
   "metadata": {},
   "outputs": [
    {
     "name": "stdout",
     "output_type": "stream",
     "text": [
      "0.0339037547783216\n"
     ]
    }
   ],
   "source": [
    "churn_ratio = sum(telecom['churn'])/len(telecom)\n",
    "print(churn_ratio)"
   ]
  },
  {
   "cell_type": "markdown",
   "metadata": {},
   "source": [
    "#### There is a high class-imbalance i.e a churn rate of only 3.39% among High-value customers. <br>Take care of it later on."
   ]
  },
  {
   "cell_type": "code",
   "execution_count": 398,
   "metadata": {},
   "outputs": [
    {
     "name": "stdout",
     "output_type": "stream",
     "text": [
      "<class 'pandas.core.frame.DataFrame'>\n",
      "Int64Index: 27991 entries, 8 to 99997\n",
      "Data columns (total 177 columns):\n",
      " #   Column              Dtype  \n",
      "---  ------              -----  \n",
      " 0   loc_og_t2o_mou      float64\n",
      " 1   std_og_t2o_mou      float64\n",
      " 2   loc_ic_t2o_mou      float64\n",
      " 3   arpu_6              float64\n",
      " 4   arpu_7              float64\n",
      " 5   arpu_8              float64\n",
      " 6   arpu_9              float64\n",
      " 7   onnet_mou_6         float64\n",
      " 8   onnet_mou_7         float64\n",
      " 9   onnet_mou_8         float64\n",
      " 10  onnet_mou_9         float64\n",
      " 11  offnet_mou_6        float64\n",
      " 12  offnet_mou_7        float64\n",
      " 13  offnet_mou_8        float64\n",
      " 14  offnet_mou_9        float64\n",
      " 15  roam_ic_mou_6       float64\n",
      " 16  roam_ic_mou_7       float64\n",
      " 17  roam_ic_mou_8       float64\n",
      " 18  roam_ic_mou_9       float64\n",
      " 19  roam_og_mou_6       float64\n",
      " 20  roam_og_mou_7       float64\n",
      " 21  roam_og_mou_8       float64\n",
      " 22  roam_og_mou_9       float64\n",
      " 23  loc_og_t2t_mou_6    float64\n",
      " 24  loc_og_t2t_mou_7    float64\n",
      " 25  loc_og_t2t_mou_8    float64\n",
      " 26  loc_og_t2t_mou_9    float64\n",
      " 27  loc_og_t2m_mou_6    float64\n",
      " 28  loc_og_t2m_mou_7    float64\n",
      " 29  loc_og_t2m_mou_8    float64\n",
      " 30  loc_og_t2m_mou_9    float64\n",
      " 31  loc_og_t2f_mou_6    float64\n",
      " 32  loc_og_t2f_mou_7    float64\n",
      " 33  loc_og_t2f_mou_8    float64\n",
      " 34  loc_og_t2f_mou_9    float64\n",
      " 35  loc_og_t2c_mou_6    float64\n",
      " 36  loc_og_t2c_mou_7    float64\n",
      " 37  loc_og_t2c_mou_8    float64\n",
      " 38  loc_og_t2c_mou_9    float64\n",
      " 39  loc_og_mou_6        float64\n",
      " 40  loc_og_mou_7        float64\n",
      " 41  loc_og_mou_8        float64\n",
      " 42  loc_og_mou_9        float64\n",
      " 43  std_og_t2t_mou_6    float64\n",
      " 44  std_og_t2t_mou_7    float64\n",
      " 45  std_og_t2t_mou_8    float64\n",
      " 46  std_og_t2t_mou_9    float64\n",
      " 47  std_og_t2m_mou_6    float64\n",
      " 48  std_og_t2m_mou_7    float64\n",
      " 49  std_og_t2m_mou_8    float64\n",
      " 50  std_og_t2m_mou_9    float64\n",
      " 51  std_og_t2f_mou_6    float64\n",
      " 52  std_og_t2f_mou_7    float64\n",
      " 53  std_og_t2f_mou_8    float64\n",
      " 54  std_og_t2f_mou_9    float64\n",
      " 55  std_og_t2c_mou_6    float64\n",
      " 56  std_og_t2c_mou_7    float64\n",
      " 57  std_og_t2c_mou_8    float64\n",
      " 58  std_og_t2c_mou_9    float64\n",
      " 59  std_og_mou_6        float64\n",
      " 60  std_og_mou_7        float64\n",
      " 61  std_og_mou_8        float64\n",
      " 62  std_og_mou_9        float64\n",
      " 63  isd_og_mou_6        float64\n",
      " 64  isd_og_mou_7        float64\n",
      " 65  isd_og_mou_8        float64\n",
      " 66  isd_og_mou_9        float64\n",
      " 67  spl_og_mou_6        float64\n",
      " 68  spl_og_mou_7        float64\n",
      " 69  spl_og_mou_8        float64\n",
      " 70  spl_og_mou_9        float64\n",
      " 71  og_others_6         float64\n",
      " 72  og_others_7         float64\n",
      " 73  og_others_8         float64\n",
      " 74  og_others_9         float64\n",
      " 75  total_og_mou_6      float64\n",
      " 76  total_og_mou_7      float64\n",
      " 77  total_og_mou_8      float64\n",
      " 78  total_og_mou_9      float64\n",
      " 79  loc_ic_t2t_mou_6    float64\n",
      " 80  loc_ic_t2t_mou_7    float64\n",
      " 81  loc_ic_t2t_mou_8    float64\n",
      " 82  loc_ic_t2t_mou_9    float64\n",
      " 83  loc_ic_t2m_mou_6    float64\n",
      " 84  loc_ic_t2m_mou_7    float64\n",
      " 85  loc_ic_t2m_mou_8    float64\n",
      " 86  loc_ic_t2m_mou_9    float64\n",
      " 87  loc_ic_t2f_mou_6    float64\n",
      " 88  loc_ic_t2f_mou_7    float64\n",
      " 89  loc_ic_t2f_mou_8    float64\n",
      " 90  loc_ic_t2f_mou_9    float64\n",
      " 91  loc_ic_mou_6        float64\n",
      " 92  loc_ic_mou_7        float64\n",
      " 93  loc_ic_mou_8        float64\n",
      " 94  loc_ic_mou_9        float64\n",
      " 95  std_ic_t2t_mou_6    float64\n",
      " 96  std_ic_t2t_mou_7    float64\n",
      " 97  std_ic_t2t_mou_8    float64\n",
      " 98  std_ic_t2t_mou_9    float64\n",
      " 99  std_ic_t2m_mou_6    float64\n",
      " 100 std_ic_t2m_mou_7    float64\n",
      " 101 std_ic_t2m_mou_8    float64\n",
      " 102 std_ic_t2m_mou_9    float64\n",
      " 103 std_ic_t2f_mou_6    float64\n",
      " 104 std_ic_t2f_mou_7    float64\n",
      " 105 std_ic_t2f_mou_8    float64\n",
      " 106 std_ic_t2f_mou_9    float64\n",
      " 107 std_ic_t2o_mou_6    float64\n",
      " 108 std_ic_t2o_mou_7    float64\n",
      " 109 std_ic_t2o_mou_8    float64\n",
      " 110 std_ic_t2o_mou_9    float64\n",
      " 111 std_ic_mou_6        float64\n",
      " 112 std_ic_mou_7        float64\n",
      " 113 std_ic_mou_8        float64\n",
      " 114 std_ic_mou_9        float64\n",
      " 115 total_ic_mou_6      float64\n",
      " 116 total_ic_mou_7      float64\n",
      " 117 total_ic_mou_8      float64\n",
      " 118 total_ic_mou_9      float64\n",
      " 119 spl_ic_mou_6        float64\n",
      " 120 spl_ic_mou_7        float64\n",
      " 121 spl_ic_mou_8        float64\n",
      " 122 spl_ic_mou_9        float64\n",
      " 123 isd_ic_mou_6        float64\n",
      " 124 isd_ic_mou_7        float64\n",
      " 125 isd_ic_mou_8        float64\n",
      " 126 isd_ic_mou_9        float64\n",
      " 127 ic_others_6         float64\n",
      " 128 ic_others_7         float64\n",
      " 129 ic_others_8         float64\n",
      " 130 ic_others_9         float64\n",
      " 131 total_rech_num_6    int64  \n",
      " 132 total_rech_num_7    int64  \n",
      " 133 total_rech_num_8    int64  \n",
      " 134 total_rech_num_9    int64  \n",
      " 135 total_rech_amt_6    int64  \n",
      " 136 total_rech_amt_7    int64  \n",
      " 137 total_rech_amt_8    int64  \n",
      " 138 total_rech_amt_9    int64  \n",
      " 139 max_rech_amt_6      int64  \n",
      " 140 max_rech_amt_7      int64  \n",
      " 141 max_rech_amt_8      int64  \n",
      " 142 max_rech_amt_9      int64  \n",
      " 143 last_day_rch_amt_6  int64  \n",
      " 144 last_day_rch_amt_7  int64  \n",
      " 145 last_day_rch_amt_8  int64  \n",
      " 146 last_day_rch_amt_9  int64  \n",
      " 147 vol_2g_mb_6         float64\n",
      " 148 vol_2g_mb_7         float64\n",
      " 149 vol_2g_mb_8         float64\n",
      " 150 vol_2g_mb_9         float64\n",
      " 151 vol_3g_mb_6         float64\n",
      " 152 vol_3g_mb_7         float64\n",
      " 153 vol_3g_mb_8         float64\n",
      " 154 vol_3g_mb_9         float64\n",
      " 155 monthly_2g_6        int64  \n",
      " 156 monthly_2g_7        int64  \n",
      " 157 monthly_2g_8        int64  \n",
      " 158 monthly_2g_9        int64  \n",
      " 159 sachet_2g_6         int64  \n",
      " 160 sachet_2g_7         int64  \n",
      " 161 sachet_2g_8         int64  \n",
      " 162 sachet_2g_9         int64  \n",
      " 163 monthly_3g_6        int64  \n",
      " 164 monthly_3g_7        int64  \n",
      " 165 monthly_3g_8        int64  \n",
      " 166 monthly_3g_9        int64  \n",
      " 167 sachet_3g_6         int64  \n",
      " 168 sachet_3g_7         int64  \n",
      " 169 sachet_3g_8         int64  \n",
      " 170 sachet_3g_9         int64  \n",
      " 171 aon                 int64  \n",
      " 172 aug_vbc_3g          float64\n",
      " 173 jul_vbc_3g          float64\n",
      " 174 jun_vbc_3g          float64\n",
      " 175 sep_vbc_3g          float64\n",
      " 176 churn               int64  \n",
      "dtypes: float64(143), int64(34)\n",
      "memory usage: 38.0 MB\n"
     ]
    }
   ],
   "source": [
    "telecom.info(verbose=1)"
   ]
  },
  {
   "cell_type": "markdown",
   "metadata": {},
   "source": [
    "### Remove the columns specific to month 9"
   ]
  },
  {
   "cell_type": "code",
   "execution_count": 105,
   "metadata": {},
   "outputs": [
    {
     "name": "stdout",
     "output_type": "stream",
     "text": [
      "['arpu_9', 'onnet_mou_9', 'offnet_mou_9', 'roam_ic_mou_9', 'roam_og_mou_9', 'loc_og_t2t_mou_9', 'loc_og_t2m_mou_9', 'loc_og_t2f_mou_9', 'loc_og_t2c_mou_9', 'loc_og_mou_9', 'std_og_t2t_mou_9', 'std_og_t2m_mou_9', 'std_og_t2f_mou_9', 'std_og_t2c_mou_9', 'std_og_mou_9', 'isd_og_mou_9', 'spl_og_mou_9', 'og_others_9', 'total_og_mou_9', 'loc_ic_t2t_mou_9', 'loc_ic_t2m_mou_9', 'loc_ic_t2f_mou_9', 'loc_ic_mou_9', 'std_ic_t2t_mou_9', 'std_ic_t2m_mou_9', 'std_ic_t2f_mou_9', 'std_ic_t2o_mou_9', 'std_ic_mou_9', 'total_ic_mou_9', 'spl_ic_mou_9', 'isd_ic_mou_9', 'ic_others_9', 'total_rech_num_9', 'total_rech_amt_9', 'max_rech_amt_9', 'last_day_rch_amt_9', 'vol_2g_mb_9', 'vol_3g_mb_9', 'monthly_2g_9', 'sachet_2g_9', 'monthly_3g_9', 'sachet_3g_9']\n"
     ]
    }
   ],
   "source": [
    "regex = re.compile('.*_9')\n",
    "cols_redundant = list(filter(regex.match , telecom.columns))\n",
    "print(cols_redundant)"
   ]
  },
  {
   "cell_type": "code",
   "execution_count": 106,
   "metadata": {},
   "outputs": [],
   "source": [
    "cols_redundant.append('sep_vbc_3g')"
   ]
  },
  {
   "cell_type": "code",
   "execution_count": 107,
   "metadata": {},
   "outputs": [
    {
     "data": {
      "text/plain": [
       "43"
      ]
     },
     "execution_count": 107,
     "metadata": {},
     "output_type": "execute_result"
    }
   ],
   "source": [
    "len(cols_redundant)"
   ]
  },
  {
   "cell_type": "code",
   "execution_count": 108,
   "metadata": {},
   "outputs": [],
   "source": [
    "telecom = telecom.drop(columns=cols_redundant , axis=1)"
   ]
  },
  {
   "cell_type": "code",
   "execution_count": 109,
   "metadata": {},
   "outputs": [
    {
     "name": "stdout",
     "output_type": "stream",
     "text": [
      "<class 'pandas.core.frame.DataFrame'>\n",
      "Int64Index: 27991 entries, 8 to 99997\n",
      "Data columns (total 134 columns):\n",
      " #   Column              Dtype  \n",
      "---  ------              -----  \n",
      " 0   loc_og_t2o_mou      float64\n",
      " 1   std_og_t2o_mou      float64\n",
      " 2   loc_ic_t2o_mou      float64\n",
      " 3   arpu_6              float64\n",
      " 4   arpu_7              float64\n",
      " 5   arpu_8              float64\n",
      " 6   onnet_mou_6         float64\n",
      " 7   onnet_mou_7         float64\n",
      " 8   onnet_mou_8         float64\n",
      " 9   offnet_mou_6        float64\n",
      " 10  offnet_mou_7        float64\n",
      " 11  offnet_mou_8        float64\n",
      " 12  roam_ic_mou_6       float64\n",
      " 13  roam_ic_mou_7       float64\n",
      " 14  roam_ic_mou_8       float64\n",
      " 15  roam_og_mou_6       float64\n",
      " 16  roam_og_mou_7       float64\n",
      " 17  roam_og_mou_8       float64\n",
      " 18  loc_og_t2t_mou_6    float64\n",
      " 19  loc_og_t2t_mou_7    float64\n",
      " 20  loc_og_t2t_mou_8    float64\n",
      " 21  loc_og_t2m_mou_6    float64\n",
      " 22  loc_og_t2m_mou_7    float64\n",
      " 23  loc_og_t2m_mou_8    float64\n",
      " 24  loc_og_t2f_mou_6    float64\n",
      " 25  loc_og_t2f_mou_7    float64\n",
      " 26  loc_og_t2f_mou_8    float64\n",
      " 27  loc_og_t2c_mou_6    float64\n",
      " 28  loc_og_t2c_mou_7    float64\n",
      " 29  loc_og_t2c_mou_8    float64\n",
      " 30  loc_og_mou_6        float64\n",
      " 31  loc_og_mou_7        float64\n",
      " 32  loc_og_mou_8        float64\n",
      " 33  std_og_t2t_mou_6    float64\n",
      " 34  std_og_t2t_mou_7    float64\n",
      " 35  std_og_t2t_mou_8    float64\n",
      " 36  std_og_t2m_mou_6    float64\n",
      " 37  std_og_t2m_mou_7    float64\n",
      " 38  std_og_t2m_mou_8    float64\n",
      " 39  std_og_t2f_mou_6    float64\n",
      " 40  std_og_t2f_mou_7    float64\n",
      " 41  std_og_t2f_mou_8    float64\n",
      " 42  std_og_t2c_mou_6    float64\n",
      " 43  std_og_t2c_mou_7    float64\n",
      " 44  std_og_t2c_mou_8    float64\n",
      " 45  std_og_mou_6        float64\n",
      " 46  std_og_mou_7        float64\n",
      " 47  std_og_mou_8        float64\n",
      " 48  isd_og_mou_6        float64\n",
      " 49  isd_og_mou_7        float64\n",
      " 50  isd_og_mou_8        float64\n",
      " 51  spl_og_mou_6        float64\n",
      " 52  spl_og_mou_7        float64\n",
      " 53  spl_og_mou_8        float64\n",
      " 54  og_others_6         float64\n",
      " 55  og_others_7         float64\n",
      " 56  og_others_8         float64\n",
      " 57  total_og_mou_6      float64\n",
      " 58  total_og_mou_7      float64\n",
      " 59  total_og_mou_8      float64\n",
      " 60  loc_ic_t2t_mou_6    float64\n",
      " 61  loc_ic_t2t_mou_7    float64\n",
      " 62  loc_ic_t2t_mou_8    float64\n",
      " 63  loc_ic_t2m_mou_6    float64\n",
      " 64  loc_ic_t2m_mou_7    float64\n",
      " 65  loc_ic_t2m_mou_8    float64\n",
      " 66  loc_ic_t2f_mou_6    float64\n",
      " 67  loc_ic_t2f_mou_7    float64\n",
      " 68  loc_ic_t2f_mou_8    float64\n",
      " 69  loc_ic_mou_6        float64\n",
      " 70  loc_ic_mou_7        float64\n",
      " 71  loc_ic_mou_8        float64\n",
      " 72  std_ic_t2t_mou_6    float64\n",
      " 73  std_ic_t2t_mou_7    float64\n",
      " 74  std_ic_t2t_mou_8    float64\n",
      " 75  std_ic_t2m_mou_6    float64\n",
      " 76  std_ic_t2m_mou_7    float64\n",
      " 77  std_ic_t2m_mou_8    float64\n",
      " 78  std_ic_t2f_mou_6    float64\n",
      " 79  std_ic_t2f_mou_7    float64\n",
      " 80  std_ic_t2f_mou_8    float64\n",
      " 81  std_ic_t2o_mou_6    float64\n",
      " 82  std_ic_t2o_mou_7    float64\n",
      " 83  std_ic_t2o_mou_8    float64\n",
      " 84  std_ic_mou_6        float64\n",
      " 85  std_ic_mou_7        float64\n",
      " 86  std_ic_mou_8        float64\n",
      " 87  total_ic_mou_6      float64\n",
      " 88  total_ic_mou_7      float64\n",
      " 89  total_ic_mou_8      float64\n",
      " 90  spl_ic_mou_6        float64\n",
      " 91  spl_ic_mou_7        float64\n",
      " 92  spl_ic_mou_8        float64\n",
      " 93  isd_ic_mou_6        float64\n",
      " 94  isd_ic_mou_7        float64\n",
      " 95  isd_ic_mou_8        float64\n",
      " 96  ic_others_6         float64\n",
      " 97  ic_others_7         float64\n",
      " 98  ic_others_8         float64\n",
      " 99  total_rech_num_6    int64  \n",
      " 100 total_rech_num_7    int64  \n",
      " 101 total_rech_num_8    int64  \n",
      " 102 total_rech_amt_6    int64  \n",
      " 103 total_rech_amt_7    int64  \n",
      " 104 total_rech_amt_8    int64  \n",
      " 105 max_rech_amt_6      int64  \n",
      " 106 max_rech_amt_7      int64  \n",
      " 107 max_rech_amt_8      int64  \n",
      " 108 last_day_rch_amt_6  int64  \n",
      " 109 last_day_rch_amt_7  int64  \n",
      " 110 last_day_rch_amt_8  int64  \n",
      " 111 vol_2g_mb_6         float64\n",
      " 112 vol_2g_mb_7         float64\n",
      " 113 vol_2g_mb_8         float64\n",
      " 114 vol_3g_mb_6         float64\n",
      " 115 vol_3g_mb_7         float64\n",
      " 116 vol_3g_mb_8         float64\n",
      " 117 monthly_2g_6        int64  \n",
      " 118 monthly_2g_7        int64  \n",
      " 119 monthly_2g_8        int64  \n",
      " 120 sachet_2g_6         int64  \n",
      " 121 sachet_2g_7         int64  \n",
      " 122 sachet_2g_8         int64  \n",
      " 123 monthly_3g_6        int64  \n",
      " 124 monthly_3g_7        int64  \n",
      " 125 monthly_3g_8        int64  \n",
      " 126 sachet_3g_6         int64  \n",
      " 127 sachet_3g_7         int64  \n",
      " 128 sachet_3g_8         int64  \n",
      " 129 aon                 int64  \n",
      " 130 aug_vbc_3g          float64\n",
      " 131 jul_vbc_3g          float64\n",
      " 132 jun_vbc_3g          float64\n",
      " 133 churn               int64  \n",
      "dtypes: float64(108), int64(26)\n",
      "memory usage: 28.8 MB\n"
     ]
    }
   ],
   "source": [
    "telecom.info(verbose=1)"
   ]
  },
  {
   "cell_type": "code",
   "execution_count": null,
   "metadata": {},
   "outputs": [],
   "source": []
  },
  {
   "cell_type": "markdown",
   "metadata": {},
   "source": [
    "## Step 3. Data Preparation"
   ]
  },
  {
   "cell_type": "markdown",
   "metadata": {},
   "source": [
    "### No need to create dummy variables as there are no Categorical features"
   ]
  },
  {
   "cell_type": "markdown",
   "metadata": {},
   "source": [
    "### 3.1 Splitting the data into X and y"
   ]
  },
  {
   "cell_type": "code",
   "execution_count": 112,
   "metadata": {},
   "outputs": [],
   "source": [
    "X = telecom.drop(columns=['churn'])"
   ]
  },
  {
   "cell_type": "code",
   "execution_count": 113,
   "metadata": {},
   "outputs": [],
   "source": [
    "y = telecom['churn']"
   ]
  },
  {
   "cell_type": "code",
   "execution_count": 114,
   "metadata": {},
   "outputs": [
    {
     "data": {
      "text/html": [
       "<div>\n",
       "<style scoped>\n",
       "    .dataframe tbody tr th:only-of-type {\n",
       "        vertical-align: middle;\n",
       "    }\n",
       "\n",
       "    .dataframe tbody tr th {\n",
       "        vertical-align: top;\n",
       "    }\n",
       "\n",
       "    .dataframe thead th {\n",
       "        text-align: right;\n",
       "    }\n",
       "</style>\n",
       "<table border=\"1\" class=\"dataframe\">\n",
       "  <thead>\n",
       "    <tr style=\"text-align: right;\">\n",
       "      <th></th>\n",
       "      <th>loc_og_t2o_mou</th>\n",
       "      <th>std_og_t2o_mou</th>\n",
       "      <th>loc_ic_t2o_mou</th>\n",
       "      <th>arpu_6</th>\n",
       "      <th>arpu_7</th>\n",
       "      <th>arpu_8</th>\n",
       "      <th>onnet_mou_6</th>\n",
       "      <th>onnet_mou_7</th>\n",
       "      <th>onnet_mou_8</th>\n",
       "      <th>offnet_mou_6</th>\n",
       "      <th>...</th>\n",
       "      <th>monthly_3g_6</th>\n",
       "      <th>monthly_3g_7</th>\n",
       "      <th>monthly_3g_8</th>\n",
       "      <th>sachet_3g_6</th>\n",
       "      <th>sachet_3g_7</th>\n",
       "      <th>sachet_3g_8</th>\n",
       "      <th>aon</th>\n",
       "      <th>aug_vbc_3g</th>\n",
       "      <th>jul_vbc_3g</th>\n",
       "      <th>jun_vbc_3g</th>\n",
       "    </tr>\n",
       "  </thead>\n",
       "  <tbody>\n",
       "    <tr>\n",
       "      <th>8</th>\n",
       "      <td>0.0</td>\n",
       "      <td>0.0</td>\n",
       "      <td>0.0</td>\n",
       "      <td>378.721</td>\n",
       "      <td>492.223</td>\n",
       "      <td>137.362</td>\n",
       "      <td>413.69</td>\n",
       "      <td>351.03</td>\n",
       "      <td>35.08</td>\n",
       "      <td>94.66</td>\n",
       "      <td>...</td>\n",
       "      <td>0</td>\n",
       "      <td>0</td>\n",
       "      <td>0</td>\n",
       "      <td>0</td>\n",
       "      <td>0</td>\n",
       "      <td>0</td>\n",
       "      <td>315</td>\n",
       "      <td>21.03</td>\n",
       "      <td>910.65</td>\n",
       "      <td>122.16</td>\n",
       "    </tr>\n",
       "    <tr>\n",
       "      <th>13</th>\n",
       "      <td>0.0</td>\n",
       "      <td>0.0</td>\n",
       "      <td>0.0</td>\n",
       "      <td>492.846</td>\n",
       "      <td>205.671</td>\n",
       "      <td>593.260</td>\n",
       "      <td>501.76</td>\n",
       "      <td>108.39</td>\n",
       "      <td>534.24</td>\n",
       "      <td>413.31</td>\n",
       "      <td>...</td>\n",
       "      <td>0</td>\n",
       "      <td>0</td>\n",
       "      <td>0</td>\n",
       "      <td>0</td>\n",
       "      <td>0</td>\n",
       "      <td>0</td>\n",
       "      <td>2607</td>\n",
       "      <td>0.00</td>\n",
       "      <td>0.00</td>\n",
       "      <td>0.00</td>\n",
       "    </tr>\n",
       "    <tr>\n",
       "      <th>16</th>\n",
       "      <td>0.0</td>\n",
       "      <td>0.0</td>\n",
       "      <td>0.0</td>\n",
       "      <td>430.975</td>\n",
       "      <td>299.869</td>\n",
       "      <td>187.894</td>\n",
       "      <td>50.51</td>\n",
       "      <td>74.01</td>\n",
       "      <td>70.61</td>\n",
       "      <td>296.29</td>\n",
       "      <td>...</td>\n",
       "      <td>0</td>\n",
       "      <td>0</td>\n",
       "      <td>0</td>\n",
       "      <td>0</td>\n",
       "      <td>0</td>\n",
       "      <td>0</td>\n",
       "      <td>511</td>\n",
       "      <td>0.00</td>\n",
       "      <td>2.45</td>\n",
       "      <td>21.89</td>\n",
       "    </tr>\n",
       "    <tr>\n",
       "      <th>17</th>\n",
       "      <td>0.0</td>\n",
       "      <td>0.0</td>\n",
       "      <td>0.0</td>\n",
       "      <td>690.008</td>\n",
       "      <td>18.980</td>\n",
       "      <td>25.499</td>\n",
       "      <td>1185.91</td>\n",
       "      <td>9.28</td>\n",
       "      <td>7.79</td>\n",
       "      <td>61.64</td>\n",
       "      <td>...</td>\n",
       "      <td>0</td>\n",
       "      <td>0</td>\n",
       "      <td>0</td>\n",
       "      <td>0</td>\n",
       "      <td>0</td>\n",
       "      <td>0</td>\n",
       "      <td>667</td>\n",
       "      <td>0.00</td>\n",
       "      <td>0.00</td>\n",
       "      <td>0.00</td>\n",
       "    </tr>\n",
       "    <tr>\n",
       "      <th>21</th>\n",
       "      <td>0.0</td>\n",
       "      <td>0.0</td>\n",
       "      <td>0.0</td>\n",
       "      <td>514.453</td>\n",
       "      <td>597.753</td>\n",
       "      <td>637.760</td>\n",
       "      <td>102.41</td>\n",
       "      <td>132.11</td>\n",
       "      <td>85.14</td>\n",
       "      <td>757.93</td>\n",
       "      <td>...</td>\n",
       "      <td>0</td>\n",
       "      <td>0</td>\n",
       "      <td>0</td>\n",
       "      <td>0</td>\n",
       "      <td>0</td>\n",
       "      <td>0</td>\n",
       "      <td>720</td>\n",
       "      <td>0.00</td>\n",
       "      <td>0.00</td>\n",
       "      <td>0.00</td>\n",
       "    </tr>\n",
       "  </tbody>\n",
       "</table>\n",
       "<p>5 rows × 133 columns</p>\n",
       "</div>"
      ],
      "text/plain": [
       "    loc_og_t2o_mou  std_og_t2o_mou  loc_ic_t2o_mou   arpu_6   arpu_7   arpu_8  \\\n",
       "8              0.0             0.0             0.0  378.721  492.223  137.362   \n",
       "13             0.0             0.0             0.0  492.846  205.671  593.260   \n",
       "16             0.0             0.0             0.0  430.975  299.869  187.894   \n",
       "17             0.0             0.0             0.0  690.008   18.980   25.499   \n",
       "21             0.0             0.0             0.0  514.453  597.753  637.760   \n",
       "\n",
       "    onnet_mou_6  onnet_mou_7  onnet_mou_8  offnet_mou_6  ...  monthly_3g_6  \\\n",
       "8        413.69       351.03        35.08         94.66  ...             0   \n",
       "13       501.76       108.39       534.24        413.31  ...             0   \n",
       "16        50.51        74.01        70.61        296.29  ...             0   \n",
       "17      1185.91         9.28         7.79         61.64  ...             0   \n",
       "21       102.41       132.11        85.14        757.93  ...             0   \n",
       "\n",
       "    monthly_3g_7  monthly_3g_8  sachet_3g_6  sachet_3g_7  sachet_3g_8   aon  \\\n",
       "8              0             0            0            0            0   315   \n",
       "13             0             0            0            0            0  2607   \n",
       "16             0             0            0            0            0   511   \n",
       "17             0             0            0            0            0   667   \n",
       "21             0             0            0            0            0   720   \n",
       "\n",
       "    aug_vbc_3g  jul_vbc_3g  jun_vbc_3g  \n",
       "8        21.03      910.65      122.16  \n",
       "13        0.00        0.00        0.00  \n",
       "16        0.00        2.45       21.89  \n",
       "17        0.00        0.00        0.00  \n",
       "21        0.00        0.00        0.00  \n",
       "\n",
       "[5 rows x 133 columns]"
      ]
     },
     "execution_count": 114,
     "metadata": {},
     "output_type": "execute_result"
    }
   ],
   "source": [
    "X.head()"
   ]
  },
  {
   "cell_type": "code",
   "execution_count": 115,
   "metadata": {},
   "outputs": [
    {
     "data": {
      "text/plain": [
       "8     0\n",
       "13    0\n",
       "16    0\n",
       "17    0\n",
       "21    0\n",
       "Name: churn, dtype: int64"
      ]
     },
     "execution_count": 115,
     "metadata": {},
     "output_type": "execute_result"
    }
   ],
   "source": [
    "y.head()"
   ]
  },
  {
   "cell_type": "markdown",
   "metadata": {},
   "source": [
    "### 3.2 Splitting into Train/Test"
   ]
  },
  {
   "cell_type": "code",
   "execution_count": 116,
   "metadata": {},
   "outputs": [],
   "source": [
    "X_train , X_test , y_train , y_test = train_test_split(X , y , train_size=0.75 , test_size=0.25 , stratify = y , random_state=100)"
   ]
  },
  {
   "cell_type": "code",
   "execution_count": 118,
   "metadata": {},
   "outputs": [
    {
     "data": {
      "text/plain": [
       "(20993, 133)"
      ]
     },
     "execution_count": 118,
     "metadata": {},
     "output_type": "execute_result"
    }
   ],
   "source": [
    "X_train.shape"
   ]
  },
  {
   "cell_type": "code",
   "execution_count": 119,
   "metadata": {},
   "outputs": [
    {
     "data": {
      "text/plain": [
       "(20993,)"
      ]
     },
     "execution_count": 119,
     "metadata": {},
     "output_type": "execute_result"
    }
   ],
   "source": [
    "y_train.shape"
   ]
  },
  {
   "cell_type": "code",
   "execution_count": 120,
   "metadata": {},
   "outputs": [
    {
     "data": {
      "text/plain": [
       "(6998, 133)"
      ]
     },
     "execution_count": 120,
     "metadata": {},
     "output_type": "execute_result"
    }
   ],
   "source": [
    "X_test.shape"
   ]
  },
  {
   "cell_type": "code",
   "execution_count": 121,
   "metadata": {},
   "outputs": [
    {
     "data": {
      "text/plain": [
       "(6998,)"
      ]
     },
     "execution_count": 121,
     "metadata": {},
     "output_type": "execute_result"
    }
   ],
   "source": [
    "y_test.shape"
   ]
  },
  {
   "cell_type": "code",
   "execution_count": 122,
   "metadata": {},
   "outputs": [
    {
     "data": {
      "text/plain": [
       "0.03391606726051541"
      ]
     },
     "execution_count": 122,
     "metadata": {},
     "output_type": "execute_result"
    }
   ],
   "source": [
    "### Check the % of churn in Train data\n",
    "sum(y_train)/len(y_train)"
   ]
  },
  {
   "cell_type": "code",
   "execution_count": 123,
   "metadata": {},
   "outputs": [
    {
     "data": {
      "text/plain": [
       "0.033866819091168905"
      ]
     },
     "execution_count": 123,
     "metadata": {},
     "output_type": "execute_result"
    }
   ],
   "source": [
    "### Check the % of churn in Test data\n",
    "sum(y_test)/len(y_test)"
   ]
  },
  {
   "cell_type": "markdown",
   "metadata": {},
   "source": [
    "### 3.3 Scaling the input variables using a Standard Scaler"
   ]
  },
  {
   "cell_type": "code",
   "execution_count": 125,
   "metadata": {},
   "outputs": [],
   "source": [
    "scaler = StandardScaler()\n",
    "X_train_scaled = scaler.fit_transform(X_train)"
   ]
  },
  {
   "cell_type": "code",
   "execution_count": 127,
   "metadata": {},
   "outputs": [],
   "source": [
    "X_train_scaled = pd.DataFrame(X_train_scaled , columns=X_train.columns)"
   ]
  },
  {
   "cell_type": "code",
   "execution_count": 129,
   "metadata": {},
   "outputs": [
    {
     "data": {
      "text/html": [
       "<div>\n",
       "<style scoped>\n",
       "    .dataframe tbody tr th:only-of-type {\n",
       "        vertical-align: middle;\n",
       "    }\n",
       "\n",
       "    .dataframe tbody tr th {\n",
       "        vertical-align: top;\n",
       "    }\n",
       "\n",
       "    .dataframe thead th {\n",
       "        text-align: right;\n",
       "    }\n",
       "</style>\n",
       "<table border=\"1\" class=\"dataframe\">\n",
       "  <thead>\n",
       "    <tr style=\"text-align: right;\">\n",
       "      <th></th>\n",
       "      <th>loc_og_t2o_mou</th>\n",
       "      <th>std_og_t2o_mou</th>\n",
       "      <th>loc_ic_t2o_mou</th>\n",
       "      <th>arpu_6</th>\n",
       "      <th>arpu_7</th>\n",
       "      <th>arpu_8</th>\n",
       "      <th>onnet_mou_6</th>\n",
       "      <th>onnet_mou_7</th>\n",
       "      <th>onnet_mou_8</th>\n",
       "      <th>offnet_mou_6</th>\n",
       "      <th>...</th>\n",
       "      <th>monthly_3g_6</th>\n",
       "      <th>monthly_3g_7</th>\n",
       "      <th>monthly_3g_8</th>\n",
       "      <th>sachet_3g_6</th>\n",
       "      <th>sachet_3g_7</th>\n",
       "      <th>sachet_3g_8</th>\n",
       "      <th>aon</th>\n",
       "      <th>aug_vbc_3g</th>\n",
       "      <th>jul_vbc_3g</th>\n",
       "      <th>jun_vbc_3g</th>\n",
       "    </tr>\n",
       "  </thead>\n",
       "  <tbody>\n",
       "    <tr>\n",
       "      <th>count</th>\n",
       "      <td>20993.0</td>\n",
       "      <td>20993.0</td>\n",
       "      <td>20993.0</td>\n",
       "      <td>2.099300e+04</td>\n",
       "      <td>2.099300e+04</td>\n",
       "      <td>2.099300e+04</td>\n",
       "      <td>2.099300e+04</td>\n",
       "      <td>2.099300e+04</td>\n",
       "      <td>2.099300e+04</td>\n",
       "      <td>2.099300e+04</td>\n",
       "      <td>...</td>\n",
       "      <td>2.099300e+04</td>\n",
       "      <td>2.099300e+04</td>\n",
       "      <td>2.099300e+04</td>\n",
       "      <td>2.099300e+04</td>\n",
       "      <td>2.099300e+04</td>\n",
       "      <td>2.099300e+04</td>\n",
       "      <td>2.099300e+04</td>\n",
       "      <td>2.099300e+04</td>\n",
       "      <td>2.099300e+04</td>\n",
       "      <td>2.099300e+04</td>\n",
       "    </tr>\n",
       "    <tr>\n",
       "      <th>mean</th>\n",
       "      <td>0.0</td>\n",
       "      <td>0.0</td>\n",
       "      <td>0.0</td>\n",
       "      <td>2.422111e-16</td>\n",
       "      <td>2.818857e-17</td>\n",
       "      <td>4.082851e-17</td>\n",
       "      <td>-1.135608e-16</td>\n",
       "      <td>7.126307e-17</td>\n",
       "      <td>-3.839479e-18</td>\n",
       "      <td>6.553954e-17</td>\n",
       "      <td>...</td>\n",
       "      <td>6.537163e-16</td>\n",
       "      <td>1.312039e-15</td>\n",
       "      <td>-9.184500e-16</td>\n",
       "      <td>-2.959652e-15</td>\n",
       "      <td>-6.812326e-16</td>\n",
       "      <td>1.585887e-15</td>\n",
       "      <td>6.802119e-17</td>\n",
       "      <td>4.484734e-16</td>\n",
       "      <td>2.427598e-16</td>\n",
       "      <td>-5.604741e-16</td>\n",
       "    </tr>\n",
       "    <tr>\n",
       "      <th>std</th>\n",
       "      <td>0.0</td>\n",
       "      <td>0.0</td>\n",
       "      <td>0.0</td>\n",
       "      <td>1.000024e+00</td>\n",
       "      <td>1.000024e+00</td>\n",
       "      <td>1.000024e+00</td>\n",
       "      <td>1.000024e+00</td>\n",
       "      <td>1.000024e+00</td>\n",
       "      <td>1.000024e+00</td>\n",
       "      <td>1.000024e+00</td>\n",
       "      <td>...</td>\n",
       "      <td>1.000024e+00</td>\n",
       "      <td>1.000024e+00</td>\n",
       "      <td>1.000024e+00</td>\n",
       "      <td>1.000024e+00</td>\n",
       "      <td>1.000024e+00</td>\n",
       "      <td>1.000024e+00</td>\n",
       "      <td>1.000024e+00</td>\n",
       "      <td>1.000024e+00</td>\n",
       "      <td>1.000024e+00</td>\n",
       "      <td>1.000024e+00</td>\n",
       "    </tr>\n",
       "    <tr>\n",
       "      <th>min</th>\n",
       "      <td>0.0</td>\n",
       "      <td>0.0</td>\n",
       "      <td>0.0</td>\n",
       "      <td>-6.336872e+00</td>\n",
       "      <td>-5.436332e+00</td>\n",
       "      <td>-2.920114e+00</td>\n",
       "      <td>-6.500802e-01</td>\n",
       "      <td>-6.397926e-01</td>\n",
       "      <td>-5.894965e-01</td>\n",
       "      <td>-9.074123e-01</td>\n",
       "      <td>...</td>\n",
       "      <td>-2.987064e-01</td>\n",
       "      <td>-2.908415e-01</td>\n",
       "      <td>-2.993449e-01</td>\n",
       "      <td>-1.612012e-01</td>\n",
       "      <td>-1.649313e-01</td>\n",
       "      <td>-1.461129e-01</td>\n",
       "      <td>-1.139869e+00</td>\n",
       "      <td>-3.413083e-01</td>\n",
       "      <td>-3.308791e-01</td>\n",
       "      <td>-3.160923e-01</td>\n",
       "    </tr>\n",
       "    <tr>\n",
       "      <th>25%</th>\n",
       "      <td>0.0</td>\n",
       "      <td>0.0</td>\n",
       "      <td>0.0</td>\n",
       "      <td>-4.909389e-01</td>\n",
       "      <td>-4.705316e-01</td>\n",
       "      <td>-4.741865e-01</td>\n",
       "      <td>-5.533118e-01</td>\n",
       "      <td>-5.479578e-01</td>\n",
       "      <td>-5.173084e-01</td>\n",
       "      <td>-5.975161e-01</td>\n",
       "      <td>...</td>\n",
       "      <td>-2.987064e-01</td>\n",
       "      <td>-2.908415e-01</td>\n",
       "      <td>-2.993449e-01</td>\n",
       "      <td>-1.612012e-01</td>\n",
       "      <td>-1.649313e-01</td>\n",
       "      <td>-1.461129e-01</td>\n",
       "      <td>-8.270239e-01</td>\n",
       "      <td>-3.413083e-01</td>\n",
       "      <td>-3.308791e-01</td>\n",
       "      <td>-3.160923e-01</td>\n",
       "    </tr>\n",
       "    <tr>\n",
       "      <th>50%</th>\n",
       "      <td>0.0</td>\n",
       "      <td>0.0</td>\n",
       "      <td>0.0</td>\n",
       "      <td>-2.064865e-01</td>\n",
       "      <td>-2.038885e-01</td>\n",
       "      <td>-1.772189e-01</td>\n",
       "      <td>-3.641616e-01</td>\n",
       "      <td>-3.718791e-01</td>\n",
       "      <td>-3.606850e-01</td>\n",
       "      <td>-2.843821e-01</td>\n",
       "      <td>...</td>\n",
       "      <td>-2.987064e-01</td>\n",
       "      <td>-2.908415e-01</td>\n",
       "      <td>-2.993449e-01</td>\n",
       "      <td>-1.612012e-01</td>\n",
       "      <td>-1.649313e-01</td>\n",
       "      <td>-1.461129e-01</td>\n",
       "      <td>-3.496305e-01</td>\n",
       "      <td>-3.413083e-01</td>\n",
       "      <td>-3.308791e-01</td>\n",
       "      <td>-3.160923e-01</td>\n",
       "    </tr>\n",
       "    <tr>\n",
       "      <th>75%</th>\n",
       "      <td>0.0</td>\n",
       "      <td>0.0</td>\n",
       "      <td>0.0</td>\n",
       "      <td>2.463712e-01</td>\n",
       "      <td>2.252517e-01</td>\n",
       "      <td>2.488423e-01</td>\n",
       "      <td>1.263927e-01</td>\n",
       "      <td>1.161848e-01</td>\n",
       "      <td>7.524412e-02</td>\n",
       "      <td>2.305832e-01</td>\n",
       "      <td>...</td>\n",
       "      <td>-2.987064e-01</td>\n",
       "      <td>-2.908415e-01</td>\n",
       "      <td>-2.993449e-01</td>\n",
       "      <td>-1.612012e-01</td>\n",
       "      <td>-1.649313e-01</td>\n",
       "      <td>-1.461129e-01</td>\n",
       "      <td>7.239969e-01</td>\n",
       "      <td>-3.167321e-01</td>\n",
       "      <td>-3.240244e-01</td>\n",
       "      <td>-3.160923e-01</td>\n",
       "    </tr>\n",
       "    <tr>\n",
       "      <th>max</th>\n",
       "      <td>0.0</td>\n",
       "      <td>0.0</td>\n",
       "      <td>0.0</td>\n",
       "      <td>6.051476e+01</td>\n",
       "      <td>7.199562e+01</td>\n",
       "      <td>6.403884e+01</td>\n",
       "      <td>1.488228e+01</td>\n",
       "      <td>1.627908e+01</td>\n",
       "      <td>2.188319e+01</td>\n",
       "      <td>1.726427e+01</td>\n",
       "      <td>...</td>\n",
       "      <td>2.464884e+01</td>\n",
       "      <td>2.534963e+01</td>\n",
       "      <td>2.681672e+01</td>\n",
       "      <td>3.441906e+01</td>\n",
       "      <td>2.758053e+01</td>\n",
       "      <td>4.204150e+01</td>\n",
       "      <td>3.066272e+00</td>\n",
       "      <td>3.269010e+01</td>\n",
       "      <td>2.218782e+01</td>\n",
       "      <td>1.991021e+01</td>\n",
       "    </tr>\n",
       "  </tbody>\n",
       "</table>\n",
       "<p>8 rows × 133 columns</p>\n",
       "</div>"
      ],
      "text/plain": [
       "       loc_og_t2o_mou  std_og_t2o_mou  loc_ic_t2o_mou        arpu_6  \\\n",
       "count         20993.0         20993.0         20993.0  2.099300e+04   \n",
       "mean              0.0             0.0             0.0  2.422111e-16   \n",
       "std               0.0             0.0             0.0  1.000024e+00   \n",
       "min               0.0             0.0             0.0 -6.336872e+00   \n",
       "25%               0.0             0.0             0.0 -4.909389e-01   \n",
       "50%               0.0             0.0             0.0 -2.064865e-01   \n",
       "75%               0.0             0.0             0.0  2.463712e-01   \n",
       "max               0.0             0.0             0.0  6.051476e+01   \n",
       "\n",
       "             arpu_7        arpu_8   onnet_mou_6   onnet_mou_7   onnet_mou_8  \\\n",
       "count  2.099300e+04  2.099300e+04  2.099300e+04  2.099300e+04  2.099300e+04   \n",
       "mean   2.818857e-17  4.082851e-17 -1.135608e-16  7.126307e-17 -3.839479e-18   \n",
       "std    1.000024e+00  1.000024e+00  1.000024e+00  1.000024e+00  1.000024e+00   \n",
       "min   -5.436332e+00 -2.920114e+00 -6.500802e-01 -6.397926e-01 -5.894965e-01   \n",
       "25%   -4.705316e-01 -4.741865e-01 -5.533118e-01 -5.479578e-01 -5.173084e-01   \n",
       "50%   -2.038885e-01 -1.772189e-01 -3.641616e-01 -3.718791e-01 -3.606850e-01   \n",
       "75%    2.252517e-01  2.488423e-01  1.263927e-01  1.161848e-01  7.524412e-02   \n",
       "max    7.199562e+01  6.403884e+01  1.488228e+01  1.627908e+01  2.188319e+01   \n",
       "\n",
       "       offnet_mou_6  ...  monthly_3g_6  monthly_3g_7  monthly_3g_8  \\\n",
       "count  2.099300e+04  ...  2.099300e+04  2.099300e+04  2.099300e+04   \n",
       "mean   6.553954e-17  ...  6.537163e-16  1.312039e-15 -9.184500e-16   \n",
       "std    1.000024e+00  ...  1.000024e+00  1.000024e+00  1.000024e+00   \n",
       "min   -9.074123e-01  ... -2.987064e-01 -2.908415e-01 -2.993449e-01   \n",
       "25%   -5.975161e-01  ... -2.987064e-01 -2.908415e-01 -2.993449e-01   \n",
       "50%   -2.843821e-01  ... -2.987064e-01 -2.908415e-01 -2.993449e-01   \n",
       "75%    2.305832e-01  ... -2.987064e-01 -2.908415e-01 -2.993449e-01   \n",
       "max    1.726427e+01  ...  2.464884e+01  2.534963e+01  2.681672e+01   \n",
       "\n",
       "        sachet_3g_6   sachet_3g_7   sachet_3g_8           aon    aug_vbc_3g  \\\n",
       "count  2.099300e+04  2.099300e+04  2.099300e+04  2.099300e+04  2.099300e+04   \n",
       "mean  -2.959652e-15 -6.812326e-16  1.585887e-15  6.802119e-17  4.484734e-16   \n",
       "std    1.000024e+00  1.000024e+00  1.000024e+00  1.000024e+00  1.000024e+00   \n",
       "min   -1.612012e-01 -1.649313e-01 -1.461129e-01 -1.139869e+00 -3.413083e-01   \n",
       "25%   -1.612012e-01 -1.649313e-01 -1.461129e-01 -8.270239e-01 -3.413083e-01   \n",
       "50%   -1.612012e-01 -1.649313e-01 -1.461129e-01 -3.496305e-01 -3.413083e-01   \n",
       "75%   -1.612012e-01 -1.649313e-01 -1.461129e-01  7.239969e-01 -3.167321e-01   \n",
       "max    3.441906e+01  2.758053e+01  4.204150e+01  3.066272e+00  3.269010e+01   \n",
       "\n",
       "         jul_vbc_3g    jun_vbc_3g  \n",
       "count  2.099300e+04  2.099300e+04  \n",
       "mean   2.427598e-16 -5.604741e-16  \n",
       "std    1.000024e+00  1.000024e+00  \n",
       "min   -3.308791e-01 -3.160923e-01  \n",
       "25%   -3.308791e-01 -3.160923e-01  \n",
       "50%   -3.308791e-01 -3.160923e-01  \n",
       "75%   -3.240244e-01 -3.160923e-01  \n",
       "max    2.218782e+01  1.991021e+01  \n",
       "\n",
       "[8 rows x 133 columns]"
      ]
     },
     "execution_count": 129,
     "metadata": {},
     "output_type": "execute_result"
    }
   ],
   "source": [
    "X_train_scaled.describe()"
   ]
  },
  {
   "cell_type": "markdown",
   "metadata": {},
   "source": [
    "We can see that all the variables have a Standard Deviation of ~1 and a Mean of ~0"
   ]
  },
  {
   "cell_type": "code",
   "execution_count": null,
   "metadata": {},
   "outputs": [],
   "source": []
  },
  {
   "cell_type": "markdown",
   "metadata": {},
   "source": [
    "## Step 4 : Building a model for Prediction (with PCA)"
   ]
  },
  {
   "cell_type": "markdown",
   "metadata": {},
   "source": [
    "### 4.1 Use PCA to reduce the no. of variables (dimensionality reduction)"
   ]
  },
  {
   "cell_type": "code",
   "execution_count": 131,
   "metadata": {},
   "outputs": [
    {
     "data": {
      "text/plain": [
       "PCA(copy=True, iterated_power='auto', n_components=None, random_state=42,\n",
       "    svd_solver='auto', tol=0.0, whiten=False)"
      ]
     },
     "execution_count": 131,
     "metadata": {},
     "output_type": "execute_result"
    }
   ],
   "source": [
    "pca = PCA(random_state=42)\n",
    "pca.fit(X_train_scaled)"
   ]
  },
  {
   "cell_type": "code",
   "execution_count": 132,
   "metadata": {},
   "outputs": [],
   "source": [
    "variance_explained = pca.explained_variance_ratio_"
   ]
  },
  {
   "cell_type": "code",
   "execution_count": 133,
   "metadata": {},
   "outputs": [],
   "source": [
    "var_cumulative = np.cumsum(variance_explained)"
   ]
  },
  {
   "cell_type": "code",
   "execution_count": 134,
   "metadata": {},
   "outputs": [
    {
     "data": {
      "text/plain": [
       "array([0.09939876, 0.18951595, 0.24792574, 0.29647289, 0.33669239,\n",
       "       0.37394739, 0.4064423 , 0.43496485, 0.46182223, 0.48697984,\n",
       "       0.51090003, 0.53360199, 0.55573833, 0.57705106, 0.59726683,\n",
       "       0.61695651, 0.63377321, 0.65001152, 0.66497878, 0.67903335,\n",
       "       0.69245763, 0.70433931, 0.71566288, 0.72670131, 0.7371341 ,\n",
       "       0.74738544, 0.75719068, 0.76661882, 0.77534663, 0.78356828,\n",
       "       0.79139263, 0.79889519, 0.8062593 , 0.81319418, 0.82005908,\n",
       "       0.82669482, 0.8332607 , 0.83957779, 0.84577654, 0.85168367,\n",
       "       0.85753222, 0.86335021, 0.86871789, 0.87393452, 0.87893095,\n",
       "       0.88387046, 0.88866842, 0.89339016, 0.8978003 , 0.90198418,\n",
       "       0.90579895, 0.90947244, 0.91308034, 0.91658254, 0.92002619,\n",
       "       0.92337348, 0.92654607, 0.92966256, 0.93275129, 0.93571537,\n",
       "       0.9386282 , 0.9414079 , 0.94415523, 0.94679729, 0.94940766,\n",
       "       0.95195881, 0.95442794, 0.95682938, 0.95912979, 0.96137903,\n",
       "       0.96352515, 0.96564007, 0.96771263, 0.96972781, 0.97171323,\n",
       "       0.97364552, 0.97552309, 0.9772632 , 0.97897457, 0.98063242,\n",
       "       0.98225102, 0.98386721, 0.98544189, 0.9869814 , 0.9884909 ,\n",
       "       0.98984181, 0.99114665, 0.99236787, 0.99353454, 0.99455445,\n",
       "       0.99553216, 0.99642059, 0.99728587, 0.99799322, 0.99863726,\n",
       "       0.9989441 , 0.99922541, 0.99947466, 0.9996908 , 0.9998889 ,\n",
       "       0.99995599, 0.99998323, 0.99999612, 0.99999904, 0.99999957,\n",
       "       1.        , 1.        , 1.        , 1.        , 1.        ,\n",
       "       1.        , 1.        , 1.        , 1.        , 1.        ,\n",
       "       1.        , 1.        , 1.        , 1.        , 1.        ,\n",
       "       1.        , 1.        , 1.        , 1.        , 1.        ,\n",
       "       1.        , 1.        , 1.        , 1.        , 1.        ,\n",
       "       1.        , 1.        , 1.        ])"
      ]
     },
     "execution_count": 134,
     "metadata": {},
     "output_type": "execute_result"
    }
   ],
   "source": [
    "var_cumulative"
   ]
  },
  {
   "cell_type": "markdown",
   "metadata": {},
   "source": [
    "Plot the cumulative variance explained to find the no. of components required for 95% variance"
   ]
  },
  {
   "cell_type": "code",
   "execution_count": 139,
   "metadata": {},
   "outputs": [
    {
     "data": {
      "image/png": "[encoded data removed]",
      "text/plain": [
       "<Figure size 864x576 with 1 Axes>"
      ]
     },
     "metadata": {
      "needs_background": "light"
     },
     "output_type": "display_data"
    }
   ],
   "source": [
    "fig = plt.figure(figsize=[12,8])\n",
    "plt.vlines(x=65, ymax=1, ymin=0, colors=\"r\", linestyles=\"--\")\n",
    "plt.hlines(y=0.95, xmax=130, xmin=0, colors=\"g\", linestyles=\"--\")\n",
    "plt.plot(var_cumulative)\n",
    "plt.ylabel(\"Cumulative variance explained\")\n",
    "plt.xlabel(\"No. of components\")\n",
    "plt.grid()\n",
    "plt.show()"
   ]
  },
  {
   "cell_type": "markdown",
   "metadata": {},
   "source": [
    "We can see that no. of components = 65 are able to expain about 95 % variation"
   ]
  },
  {
   "cell_type": "code",
   "execution_count": 142,
   "metadata": {},
   "outputs": [],
   "source": [
    "pca_final = PCA(n_components=65)\n",
    "X_train_reduced = pca_final.fit_transform(X_train_scaled)"
   ]
  },
  {
   "cell_type": "code",
   "execution_count": 143,
   "metadata": {},
   "outputs": [
    {
     "data": {
      "text/plain": [
       "(20993, 65)"
      ]
     },
     "execution_count": 143,
     "metadata": {},
     "output_type": "execute_result"
    }
   ],
   "source": [
    "X_train_reduced.shape"
   ]
  },
  {
   "cell_type": "markdown",
   "metadata": {},
   "source": [
    "Now that we have performed PCA , we will use different Classification models on our training set. <br>\n",
    "We use GridSearchCv and RandomizedSearchCV for each model to tune the Hyper-parameters for that model.<br>\n",
    "We are using the following models :-\n",
    "- Random Forest\n",
    "- AdaBoost\n",
    "- XGBoost\n",
    "<br> We are using 'ROC_AUC' as the scoring parameter because 'accuracy' would not be a good choice due to high class-imbalance\n",
    "<br> Once we have chosen a model, we will choose the optimum 'Theshold'."
   ]
  },
  {
   "cell_type": "markdown",
   "metadata": {},
   "source": [
    "### 4.2 : Use a Random Forest Model"
   ]
  },
  {
   "cell_type": "code",
   "execution_count": 146,
   "metadata": {},
   "outputs": [],
   "source": [
    "\n",
    "params = {'n_estimators' : [150 , 200],\n",
    "         'max_depth' : [4,5,6,7],\n",
    "         'min_samples_split' : [2,4,6],\n",
    "         'max_features' : [10 ,15 , 20 , 25 , 30]}\n",
    "\n",
    "rand_forest = RandomForestClassifier()\n",
    "\n",
    "random_forest_cv = GridSearchCV(estimator=rand_forest,\n",
    "                         param_grid=params,\n",
    "                         scoring='roc_auc',\n",
    "                         verbose=1,\n",
    "                         return_train_score=True,\n",
    "                         n_jobs=-1,\n",
    "                         cv=5)"
   ]
  },
  {
   "cell_type": "code",
   "execution_count": 147,
   "metadata": {},
   "outputs": [
    {
     "name": "stdout",
     "output_type": "stream",
     "text": [
      "Fitting 5 folds for each of 120 candidates, totalling 600 fits\n"
     ]
    },
    {
     "name": "stderr",
     "output_type": "stream",
     "text": [
      "[Parallel(n_jobs=-1)]: Using backend LokyBackend with 8 concurrent workers.\n",
      "[Parallel(n_jobs=-1)]: Done  34 tasks      | elapsed:  1.3min\n",
      "[Parallel(n_jobs=-1)]: Done 184 tasks      | elapsed: 10.2min\n",
      "[Parallel(n_jobs=-1)]: Done 434 tasks      | elapsed: 30.6min\n",
      "[Parallel(n_jobs=-1)]: Done 600 out of 600 | elapsed: 46.5min finished\n"
     ]
    },
    {
     "data": {
      "text/plain": [
       "GridSearchCV(cv=5, error_score=nan,\n",
       "             estimator=RandomForestClassifier(bootstrap=True, ccp_alpha=0.0,\n",
       "                                              class_weight=None,\n",
       "                                              criterion='gini', max_depth=None,\n",
       "                                              max_features='auto',\n",
       "                                              max_leaf_nodes=None,\n",
       "                                              max_samples=None,\n",
       "                                              min_impurity_decrease=0.0,\n",
       "                                              min_impurity_split=None,\n",
       "                                              min_samples_leaf=1,\n",
       "                                              min_samples_split=2,\n",
       "                                              min_weight_fraction_leaf=0.0,\n",
       "                                              n_estimators=100, n_jobs=None,\n",
       "                                              oob_score=False,\n",
       "                                              random_state=None, verbose=0,\n",
       "                                              warm_start=False),\n",
       "             iid='deprecated', n_jobs=-1,\n",
       "             param_grid={'max_depth': [4, 5, 6, 7],\n",
       "                         'max_features': [10, 15, 20, 25, 30],\n",
       "                         'min_samples_split': [2, 4, 6],\n",
       "                         'n_estimators': [150, 200]},\n",
       "             pre_dispatch='2*n_jobs', refit=True, return_train_score=True,\n",
       "             scoring='roc_auc', verbose=1)"
      ]
     },
     "execution_count": 147,
     "metadata": {},
     "output_type": "execute_result"
    }
   ],
   "source": [
    "random_forest_cv.fit(X_train_reduced , y_train)"
   ]
  },
  {
   "cell_type": "code",
   "execution_count": 149,
   "metadata": {},
   "outputs": [
    {
     "data": {
      "text/plain": [
       "{'max_depth': 7,\n",
       " 'max_features': 15,\n",
       " 'min_samples_split': 2,\n",
       " 'n_estimators': 200}"
      ]
     },
     "execution_count": 149,
     "metadata": {},
     "output_type": "execute_result"
    }
   ],
   "source": [
    "random_forest_cv.best_params_"
   ]
  },
  {
   "cell_type": "code",
   "execution_count": 150,
   "metadata": {},
   "outputs": [
    {
     "data": {
      "text/plain": [
       "0.8922991167583076"
      ]
     },
     "execution_count": 150,
     "metadata": {},
     "output_type": "execute_result"
    }
   ],
   "source": [
    "random_forest_cv.best_score_"
   ]
  },
  {
   "cell_type": "code",
   "execution_count": 193,
   "metadata": {},
   "outputs": [],
   "source": [
    "### Finding out the no. of logical CPUs available to Python Notebook\n",
    "available_cpus = os.cpu_count()"
   ]
  },
  {
   "cell_type": "markdown",
   "metadata": {},
   "source": [
    "#### We obtain the best ROC_AUC score of 0.892 using Random Forest"
   ]
  },
  {
   "cell_type": "markdown",
   "metadata": {},
   "source": [
    "### 4.3 : Use an AdaBoost Classifier"
   ]
  },
  {
   "cell_type": "code",
   "execution_count": 194,
   "metadata": {},
   "outputs": [],
   "source": [
    "\n",
    "### We will use base_estimator --> DecisionTree with max_depth = 1 & 2\n",
    "base = [DecisionTreeClassifier(max_depth=1) , DecisionTreeClassifier(max_depth=2)]\n",
    "\n",
    "params = {'n_estimators' : [150 , 200],\n",
    "         'learning_rate' : [0.1 , 0.25 , 0.5, 1],\n",
    "         'base_estimator' : base\n",
    "         }\n",
    "adaboost = AdaBoostClassifier()\n",
    "\n",
    "adaboost_cv = GridSearchCV(estimator=adaboost,\n",
    "                         param_grid=params,\n",
    "                         scoring='roc_auc',\n",
    "                         verbose=1,\n",
    "                         return_train_score=True,\n",
    "                         n_jobs=(available_cpus-1),\n",
    "                         cv=5)"
   ]
  },
  {
   "cell_type": "code",
   "execution_count": 195,
   "metadata": {},
   "outputs": [
    {
     "name": "stdout",
     "output_type": "stream",
     "text": [
      "Fitting 5 folds for each of 16 candidates, totalling 80 fits\n"
     ]
    },
    {
     "name": "stderr",
     "output_type": "stream",
     "text": [
      "[Parallel(n_jobs=7)]: Using backend LokyBackend with 7 concurrent workers.\n",
      "[Parallel(n_jobs=7)]: Done  36 tasks      | elapsed:  3.8min\n",
      "[Parallel(n_jobs=7)]: Done  80 out of  80 | elapsed: 11.0min finished\n"
     ]
    },
    {
     "data": {
      "text/plain": [
       "GridSearchCV(cv=5, error_score=nan,\n",
       "             estimator=AdaBoostClassifier(algorithm='SAMME.R',\n",
       "                                          base_estimator=None,\n",
       "                                          learning_rate=1.0, n_estimators=50,\n",
       "                                          random_state=None),\n",
       "             iid='deprecated', n_jobs=7,\n",
       "             param_grid={'base_estimator': [DecisionTreeClassifier(ccp_alpha=0.0,\n",
       "                                                                   class_weight=None,\n",
       "                                                                   criterion='gini',\n",
       "                                                                   max_depth=1,\n",
       "                                                                   max_features=None,\n",
       "                                                                   max_leaf_nodes=None,\n",
       "                                                                   min_impurity_dec...\n",
       "                                                                   max_features=None,\n",
       "                                                                   max_leaf_nodes=None,\n",
       "                                                                   min_impurity_decrease=0.0,\n",
       "                                                                   min_impurity_split=None,\n",
       "                                                                   min_samples_leaf=1,\n",
       "                                                                   min_samples_split=2,\n",
       "                                                                   min_weight_fraction_leaf=0.0,\n",
       "                                                                   presort='deprecated',\n",
       "                                                                   random_state=None,\n",
       "                                                                   splitter='best')],\n",
       "                         'learning_rate': [0.1, 0.25, 0.5, 1],\n",
       "                         'n_estimators': [150, 200]},\n",
       "             pre_dispatch='2*n_jobs', refit=True, return_train_score=True,\n",
       "             scoring='roc_auc', verbose=1)"
      ]
     },
     "execution_count": 195,
     "metadata": {},
     "output_type": "execute_result"
    }
   ],
   "source": [
    "adaboost_cv.fit(X_train_reduced , y_train)"
   ]
  },
  {
   "cell_type": "code",
   "execution_count": 196,
   "metadata": {},
   "outputs": [
    {
     "data": {
      "text/plain": [
       "0.9013158150990641"
      ]
     },
     "execution_count": 196,
     "metadata": {},
     "output_type": "execute_result"
    }
   ],
   "source": [
    "adaboost_cv.best_score_"
   ]
  },
  {
   "cell_type": "code",
   "execution_count": 197,
   "metadata": {},
   "outputs": [
    {
     "data": {
      "text/plain": [
       "{'base_estimator': DecisionTreeClassifier(ccp_alpha=0.0, class_weight=None, criterion='gini',\n",
       "                        max_depth=1, max_features=None, max_leaf_nodes=None,\n",
       "                        min_impurity_decrease=0.0, min_impurity_split=None,\n",
       "                        min_samples_leaf=1, min_samples_split=2,\n",
       "                        min_weight_fraction_leaf=0.0, presort='deprecated',\n",
       "                        random_state=None, splitter='best'),\n",
       " 'learning_rate': 0.1,\n",
       " 'n_estimators': 200}"
      ]
     },
     "execution_count": 197,
     "metadata": {},
     "output_type": "execute_result"
    }
   ],
   "source": [
    "adaboost_cv.best_params_"
   ]
  },
  {
   "cell_type": "markdown",
   "metadata": {},
   "source": [
    "#### We obtain the best ROC_AUC score of 0.901 using AdaBoost Classifier"
   ]
  },
  {
   "cell_type": "code",
   "execution_count": null,
   "metadata": {},
   "outputs": [],
   "source": []
  },
  {
   "cell_type": "code",
   "execution_count": null,
   "metadata": {},
   "outputs": [],
   "source": []
  },
  {
   "cell_type": "markdown",
   "metadata": {},
   "source": [
    "### 4.4 : Use XGBoost Classifier"
   ]
  },
  {
   "cell_type": "code",
   "execution_count": 198,
   "metadata": {},
   "outputs": [],
   "source": [
    "xgb_classifier = xgb.XGBClassifier(n_jobs = -1,objective = 'binary:logistic')"
   ]
  },
  {
   "cell_type": "code",
   "execution_count": 199,
   "metadata": {},
   "outputs": [],
   "source": [
    "# A parameter grid for XGBoost\n",
    "params = {\n",
    "        'n_estimators' : [150, 200], # no of trees \n",
    "        'learning_rate' : [0.02, 0.05, 0.1],  # eta\n",
    "        'min_child_weight': [1,3],\n",
    "        'gamma': [0.1, 0.5, 1, 2],\n",
    "        'subsample': [0.5, 0.7],\n",
    "        'colsample_bynode': [0.4, 0.7],\n",
    "        'max_depth': [5, 8]\n",
    "        }\n",
    "\n",
    "param_comb = 80\n",
    "\n",
    "xgb_cv = RandomizedSearchCV(xgb_classifier, \n",
    "                                   param_distributions=params, \n",
    "                                   n_iter=param_comb, \n",
    "                                   scoring='roc_auc', \n",
    "                                   n_jobs=(available_cpus-1), \n",
    "                                   cv=5, \n",
    "                                   verbose=1, \n",
    "                                   return_train_score = True,\n",
    "                                   random_state=42)"
   ]
  },
  {
   "cell_type": "code",
   "execution_count": 200,
   "metadata": {},
   "outputs": [
    {
     "name": "stdout",
     "output_type": "stream",
     "text": [
      "Fitting 5 folds for each of 80 candidates, totalling 400 fits\n"
     ]
    },
    {
     "name": "stderr",
     "output_type": "stream",
     "text": [
      "[Parallel(n_jobs=7)]: Using backend LokyBackend with 7 concurrent workers.\n",
      "[Parallel(n_jobs=7)]: Done  36 tasks      | elapsed:  1.5min\n",
      "[Parallel(n_jobs=7)]: Done 186 tasks      | elapsed:  6.7min\n",
      "[Parallel(n_jobs=7)]: Done 400 out of 400 | elapsed: 14.1min finished\n"
     ]
    },
    {
     "data": {
      "text/plain": [
       "RandomizedSearchCV(cv=5, error_score=nan,\n",
       "                   estimator=XGBClassifier(base_score=0.5, booster='gbtree',\n",
       "                                           colsample_bylevel=1,\n",
       "                                           colsample_bynode=1,\n",
       "                                           colsample_bytree=1, gamma=0,\n",
       "                                           learning_rate=0.1, max_delta_step=0,\n",
       "                                           max_depth=3, min_child_weight=1,\n",
       "                                           missing=None, n_estimators=100,\n",
       "                                           n_jobs=-1, nthread=None,\n",
       "                                           objective='binary:logistic',\n",
       "                                           random_state=0, reg_alpha=0,\n",
       "                                           reg_lambda=1, s...\n",
       "                                           seed=None, silent=None, subsample=1,\n",
       "                                           verbosity=1),\n",
       "                   iid='deprecated', n_iter=80, n_jobs=7,\n",
       "                   param_distributions={'colsample_bynode': [0.4, 0.7],\n",
       "                                        'gamma': [0.1, 0.5, 1, 2],\n",
       "                                        'learning_rate': [0.02, 0.05, 0.1],\n",
       "                                        'max_depth': [5, 8],\n",
       "                                        'min_child_weight': [1, 3],\n",
       "                                        'n_estimators': [150, 200],\n",
       "                                        'subsample': [0.5, 0.7]},\n",
       "                   pre_dispatch='2*n_jobs', random_state=42, refit=True,\n",
       "                   return_train_score=True, scoring='roc_auc', verbose=1)"
      ]
     },
     "execution_count": 200,
     "metadata": {},
     "output_type": "execute_result"
    }
   ],
   "source": [
    "xgb_cv.fit(X_train_reduced , y_train)"
   ]
  },
  {
   "cell_type": "code",
   "execution_count": 201,
   "metadata": {},
   "outputs": [
    {
     "data": {
      "text/plain": [
       "{'subsample': 0.7,\n",
       " 'n_estimators': 200,\n",
       " 'min_child_weight': 3,\n",
       " 'max_depth': 5,\n",
       " 'learning_rate': 0.05,\n",
       " 'gamma': 2,\n",
       " 'colsample_bynode': 0.4}"
      ]
     },
     "execution_count": 201,
     "metadata": {},
     "output_type": "execute_result"
    }
   ],
   "source": [
    "xgb_cv.best_params_"
   ]
  },
  {
   "cell_type": "code",
   "execution_count": 202,
   "metadata": {},
   "outputs": [
    {
     "data": {
      "text/plain": [
       "0.9115751909010055"
      ]
     },
     "execution_count": 202,
     "metadata": {},
     "output_type": "execute_result"
    }
   ],
   "source": [
    "xgb_cv.best_score_"
   ]
  },
  {
   "cell_type": "markdown",
   "metadata": {},
   "source": [
    "#### We obtain the best ROC_AUC score of 0.911 using XGBoost Classifier"
   ]
  },
  {
   "cell_type": "code",
   "execution_count": null,
   "metadata": {},
   "outputs": [],
   "source": []
  },
  {
   "cell_type": "markdown",
   "metadata": {},
   "source": [
    "### Final model chosen for Prediction - XGBoost Classifier"
   ]
  },
  {
   "cell_type": "markdown",
   "metadata": {},
   "source": [
    "### Correcting class imbalance in XGB Classifier by using the property - 'scale_pos_weight'"
   ]
  },
  {
   "cell_type": "code",
   "execution_count": 207,
   "metadata": {},
   "outputs": [
    {
     "name": "stdout",
     "output_type": "stream",
     "text": [
      "28.484550561797754\n"
     ]
    }
   ],
   "source": [
    "ratio_pos_neg = (len(y_train) - sum(y_train))/sum(y_train)\n",
    "print(ratio_pos_neg)"
   ]
  },
  {
   "cell_type": "code",
   "execution_count": 208,
   "metadata": {},
   "outputs": [],
   "source": [
    "final_model = xgb.XGBClassifier(n_jobs = -1,objective = 'binary:logistic',\n",
    "                               subsample=0.7,\n",
    "                               n_estimators=200,\n",
    "                               min_child_weight=3,\n",
    "                               max_depth=5,\n",
    "                               learning_rate=0.05,\n",
    "                               gamma=2.0,\n",
    "                               colsample_bynode=0.4,\n",
    "                               scale_pos_weight=ratio_pos_neg)"
   ]
  },
  {
   "cell_type": "code",
   "execution_count": 209,
   "metadata": {},
   "outputs": [
    {
     "data": {
      "text/plain": [
       "XGBClassifier(base_score=0.5, booster='gbtree', colsample_bylevel=1,\n",
       "              colsample_bynode=0.4, colsample_bytree=1, gamma=2.0,\n",
       "              learning_rate=0.05, max_delta_step=0, max_depth=5,\n",
       "              min_child_weight=3, missing=None, n_estimators=200, n_jobs=-1,\n",
       "              nthread=None, objective='binary:logistic', random_state=0,\n",
       "              reg_alpha=0, reg_lambda=1, scale_pos_weight=28.484550561797754,\n",
       "              seed=None, silent=None, subsample=0.7, verbosity=1)"
      ]
     },
     "execution_count": 209,
     "metadata": {},
     "output_type": "execute_result"
    }
   ],
   "source": [
    "final_model.fit(X_train_reduced , y_train)"
   ]
  },
  {
   "cell_type": "markdown",
   "metadata": {},
   "source": [
    "### Choosing an optimal Cutoff for our model"
   ]
  },
  {
   "cell_type": "markdown",
   "metadata": {},
   "source": [
    "#### Create a Dataframe which depicts How Sensitivity and Specificity vary with the the chosen Cutoff"
   ]
  },
  {
   "cell_type": "code",
   "execution_count": 210,
   "metadata": {},
   "outputs": [],
   "source": [
    "y_train_pred = final_model.predict_proba(X_train_reduced)[:,1]\n",
    "\n",
    "def calc_pred_labels(y_train_pred , cutoff) :\n",
    "    predictor = lambda t : 0 if t<cutoff else 1\n",
    "    vfunc = np.vectorize(predictor)\n",
    "    return vfunc(y_train_pred)\n",
    "\n",
    "\n",
    "\n",
    "df = pd.DataFrame(columns = ['Cutoff' , 'Sensitivity' , 'Specificity'])\n",
    "for i in np.linspace(0.0 , 1.0 , num=21) :\n",
    "    y_pred_labels = calc_pred_labels(y_train_pred , i)\n",
    "    conf = confusion_matrix(y_train , y_pred_labels)\n",
    "    sensitivity = conf[1,1]/(conf[1,1] + conf[1,0])\n",
    "    specificity = conf[0,0]/(conf[0,0] + conf[0,1])\n",
    "    df.loc[len(df.index)] = [i , sensitivity , specificity]  \n",
    "    #df.append(pd.DataFrame([i , sensitivity , specificity] , columns=['Cutoff' , 'Sensitivity' , 'Specificity']))"
   ]
  },
  {
   "cell_type": "code",
   "execution_count": 213,
   "metadata": {},
   "outputs": [
    {
     "data": {
      "text/html": [
       "<div>\n",
       "<style scoped>\n",
       "    .dataframe tbody tr th:only-of-type {\n",
       "        vertical-align: middle;\n",
       "    }\n",
       "\n",
       "    .dataframe tbody tr th {\n",
       "        vertical-align: top;\n",
       "    }\n",
       "\n",
       "    .dataframe thead th {\n",
       "        text-align: right;\n",
       "    }\n",
       "</style>\n",
       "<table border=\"1\" class=\"dataframe\">\n",
       "  <thead>\n",
       "    <tr style=\"text-align: right;\">\n",
       "      <th></th>\n",
       "      <th>Cutoff</th>\n",
       "      <th>Sensitivity</th>\n",
       "      <th>Specificity</th>\n",
       "    </tr>\n",
       "  </thead>\n",
       "  <tbody>\n",
       "    <tr>\n",
       "      <th>0</th>\n",
       "      <td>0.00</td>\n",
       "      <td>1.000000</td>\n",
       "      <td>0.000000</td>\n",
       "    </tr>\n",
       "    <tr>\n",
       "      <th>1</th>\n",
       "      <td>0.05</td>\n",
       "      <td>1.000000</td>\n",
       "      <td>0.635176</td>\n",
       "    </tr>\n",
       "    <tr>\n",
       "      <th>2</th>\n",
       "      <td>0.10</td>\n",
       "      <td>1.000000</td>\n",
       "      <td>0.758395</td>\n",
       "    </tr>\n",
       "    <tr>\n",
       "      <th>3</th>\n",
       "      <td>0.15</td>\n",
       "      <td>1.000000</td>\n",
       "      <td>0.819388</td>\n",
       "    </tr>\n",
       "    <tr>\n",
       "      <th>4</th>\n",
       "      <td>0.20</td>\n",
       "      <td>1.000000</td>\n",
       "      <td>0.857847</td>\n",
       "    </tr>\n",
       "    <tr>\n",
       "      <th>5</th>\n",
       "      <td>0.25</td>\n",
       "      <td>1.000000</td>\n",
       "      <td>0.884128</td>\n",
       "    </tr>\n",
       "    <tr>\n",
       "      <th>6</th>\n",
       "      <td>0.30</td>\n",
       "      <td>1.000000</td>\n",
       "      <td>0.904097</td>\n",
       "    </tr>\n",
       "    <tr>\n",
       "      <th>7</th>\n",
       "      <td>0.35</td>\n",
       "      <td>1.000000</td>\n",
       "      <td>0.917608</td>\n",
       "    </tr>\n",
       "    <tr>\n",
       "      <th>8</th>\n",
       "      <td>0.40</td>\n",
       "      <td>1.000000</td>\n",
       "      <td>0.927814</td>\n",
       "    </tr>\n",
       "    <tr>\n",
       "      <th>9</th>\n",
       "      <td>0.45</td>\n",
       "      <td>1.000000</td>\n",
       "      <td>0.937331</td>\n",
       "    </tr>\n",
       "    <tr>\n",
       "      <th>10</th>\n",
       "      <td>0.50</td>\n",
       "      <td>1.000000</td>\n",
       "      <td>0.945318</td>\n",
       "    </tr>\n",
       "    <tr>\n",
       "      <th>11</th>\n",
       "      <td>0.55</td>\n",
       "      <td>1.000000</td>\n",
       "      <td>0.953010</td>\n",
       "    </tr>\n",
       "    <tr>\n",
       "      <th>12</th>\n",
       "      <td>0.60</td>\n",
       "      <td>0.995787</td>\n",
       "      <td>0.960505</td>\n",
       "    </tr>\n",
       "    <tr>\n",
       "      <th>13</th>\n",
       "      <td>0.65</td>\n",
       "      <td>0.988764</td>\n",
       "      <td>0.966274</td>\n",
       "    </tr>\n",
       "    <tr>\n",
       "      <th>14</th>\n",
       "      <td>0.70</td>\n",
       "      <td>0.963483</td>\n",
       "      <td>0.971846</td>\n",
       "    </tr>\n",
       "    <tr>\n",
       "      <th>15</th>\n",
       "      <td>0.75</td>\n",
       "      <td>0.929775</td>\n",
       "      <td>0.978305</td>\n",
       "    </tr>\n",
       "    <tr>\n",
       "      <th>16</th>\n",
       "      <td>0.80</td>\n",
       "      <td>0.867978</td>\n",
       "      <td>0.983679</td>\n",
       "    </tr>\n",
       "    <tr>\n",
       "      <th>17</th>\n",
       "      <td>0.85</td>\n",
       "      <td>0.766854</td>\n",
       "      <td>0.989152</td>\n",
       "    </tr>\n",
       "    <tr>\n",
       "      <th>18</th>\n",
       "      <td>0.90</td>\n",
       "      <td>0.616573</td>\n",
       "      <td>0.994675</td>\n",
       "    </tr>\n",
       "    <tr>\n",
       "      <th>19</th>\n",
       "      <td>0.95</td>\n",
       "      <td>0.196629</td>\n",
       "      <td>0.999507</td>\n",
       "    </tr>\n",
       "    <tr>\n",
       "      <th>20</th>\n",
       "      <td>1.00</td>\n",
       "      <td>0.000000</td>\n",
       "      <td>1.000000</td>\n",
       "    </tr>\n",
       "  </tbody>\n",
       "</table>\n",
       "</div>"
      ],
      "text/plain": [
       "    Cutoff  Sensitivity  Specificity\n",
       "0     0.00     1.000000     0.000000\n",
       "1     0.05     1.000000     0.635176\n",
       "2     0.10     1.000000     0.758395\n",
       "3     0.15     1.000000     0.819388\n",
       "4     0.20     1.000000     0.857847\n",
       "5     0.25     1.000000     0.884128\n",
       "6     0.30     1.000000     0.904097\n",
       "7     0.35     1.000000     0.917608\n",
       "8     0.40     1.000000     0.927814\n",
       "9     0.45     1.000000     0.937331\n",
       "10    0.50     1.000000     0.945318\n",
       "11    0.55     1.000000     0.953010\n",
       "12    0.60     0.995787     0.960505\n",
       "13    0.65     0.988764     0.966274\n",
       "14    0.70     0.963483     0.971846\n",
       "15    0.75     0.929775     0.978305\n",
       "16    0.80     0.867978     0.983679\n",
       "17    0.85     0.766854     0.989152\n",
       "18    0.90     0.616573     0.994675\n",
       "19    0.95     0.196629     0.999507\n",
       "20    1.00     0.000000     1.000000"
      ]
     },
     "execution_count": 213,
     "metadata": {},
     "output_type": "execute_result"
    }
   ],
   "source": [
    "df"
   ]
  },
  {
   "cell_type": "markdown",
   "metadata": {},
   "source": [
    "#### We can choose an Optimal Cutoff at 0.6 which gives a V. High Sensitivity (0.995) and High Specificity(0.960) for the training set"
   ]
  },
  {
   "cell_type": "code",
   "execution_count": null,
   "metadata": {},
   "outputs": [],
   "source": []
  },
  {
   "cell_type": "markdown",
   "metadata": {},
   "source": [
    "## Step 5 : Testing our prediction model on Test Data"
   ]
  },
  {
   "cell_type": "markdown",
   "metadata": {},
   "source": [
    "### 5.1 Preparing the test data - scaling and PCA transformation"
   ]
  },
  {
   "cell_type": "code",
   "execution_count": 214,
   "metadata": {},
   "outputs": [],
   "source": [
    "X_test_scaled = scaler.transform(X_test)"
   ]
  },
  {
   "cell_type": "code",
   "execution_count": 215,
   "metadata": {},
   "outputs": [],
   "source": [
    "X_test_reduced = pca_final.transform(X_test_scaled)"
   ]
  },
  {
   "cell_type": "code",
   "execution_count": 216,
   "metadata": {},
   "outputs": [
    {
     "data": {
      "text/plain": [
       "XGBClassifier(base_score=0.5, booster='gbtree', colsample_bylevel=1,\n",
       "              colsample_bynode=0.4, colsample_bytree=1, gamma=2.0,\n",
       "              learning_rate=0.05, max_delta_step=0, max_depth=5,\n",
       "              min_child_weight=3, missing=None, n_estimators=200, n_jobs=-1,\n",
       "              nthread=None, objective='binary:logistic', random_state=0,\n",
       "              reg_alpha=0, reg_lambda=1, scale_pos_weight=28.484550561797754,\n",
       "              seed=None, silent=None, subsample=0.7, verbosity=1)"
      ]
     },
     "execution_count": 216,
     "metadata": {},
     "output_type": "execute_result"
    }
   ],
   "source": [
    "final_model"
   ]
  },
  {
   "cell_type": "markdown",
   "metadata": {},
   "source": [
    "### 5.2 : Making Predictions on the test data"
   ]
  },
  {
   "cell_type": "code",
   "execution_count": 232,
   "metadata": {},
   "outputs": [
    {
     "name": "stdout",
     "output_type": "stream",
     "text": [
      "28.52742616033755\n"
     ]
    }
   ],
   "source": [
    "## Checking class imbalance for test data\n",
    "ratio_pos_neg = (len(y_test) - sum(y_test))/sum(y_test)\n",
    "print(ratio_pos_neg)"
   ]
  },
  {
   "cell_type": "code",
   "execution_count": 233,
   "metadata": {},
   "outputs": [],
   "source": [
    "y_test_pred_prob = final_model.predict_proba(X_test_reduced)[:,1]"
   ]
  },
  {
   "cell_type": "code",
   "execution_count": 234,
   "metadata": {},
   "outputs": [
    {
     "data": {
      "text/plain": [
       "0.9210332029628854"
      ]
     },
     "execution_count": 234,
     "metadata": {},
     "output_type": "execute_result"
    }
   ],
   "source": [
    "roc_auc_score(y_test , y_test_pred_prob)"
   ]
  },
  {
   "cell_type": "code",
   "execution_count": 259,
   "metadata": {},
   "outputs": [],
   "source": [
    "def draw_roc( actual, probs ):\n",
    "    fpr, tpr, thresholds = roc_curve( actual, probs,\n",
    "                                              drop_intermediate = True )\n",
    "    auc_score = roc_auc_score( actual, probs )\n",
    "    plt.figure(figsize=(10, 8))\n",
    "    plt.plot( fpr, tpr, label='ROC curve (area = %0.3f)' % auc_score  , c='red')\n",
    "    plt.plot([0, 1], [0, 1], 'k--')\n",
    "    plt.xlim([0.0, 1.0])\n",
    "    plt.ylim([0.0, 1.05])\n",
    "    plt.xlabel('False Positive Rate or [1 - Specificity]')\n",
    "    plt.ylabel('True Positive Rate')\n",
    "    plt.title('Receiver operating characteristic for Test Data')\n",
    "    plt.grid()\n",
    "    plt.legend(loc=\"lower right\")\n",
    "    plt.show()\n",
    "\n",
    "    return None"
   ]
  },
  {
   "cell_type": "code",
   "execution_count": 260,
   "metadata": {},
   "outputs": [
    {
     "data": {
      "image/png": "[encoded data removed]",
      "text/plain": [
       "<Figure size 720x576 with 1 Axes>"
      ]
     },
     "metadata": {
      "needs_background": "light"
     },
     "output_type": "display_data"
    }
   ],
   "source": [
    "draw_roc(y_test, y_test_pred_prob)"
   ]
  },
  {
   "cell_type": "code",
   "execution_count": 238,
   "metadata": {},
   "outputs": [],
   "source": [
    "### Calculate Prediction labels\n",
    "y_test_pred_labels = calc_pred_labels(y_test_pred_prob , cutoff=0.6)"
   ]
  },
  {
   "cell_type": "code",
   "execution_count": 239,
   "metadata": {},
   "outputs": [],
   "source": [
    "conf = confusion_matrix(y_test, y_test_pred_labels)"
   ]
  },
  {
   "cell_type": "code",
   "execution_count": 240,
   "metadata": {},
   "outputs": [
    {
     "name": "stdout",
     "output_type": "stream",
     "text": [
      "Sensitivity for Test Data :  0.6497890295358649\n",
      "Specificity for Test Data :  0.9516343736133708\n"
     ]
    }
   ],
   "source": [
    "### Sensitivity and Specificity\n",
    "sensitivity = conf[1,1]/(conf[1,1] + conf[1,0])\n",
    "specificity = conf[0,0]/(conf[0,0] + conf[0,1])\n",
    "print(\"Sensitivity for Test Data : \" , sensitivity)\n",
    "print(\"Specificity for Test Data : \" , specificity)"
   ]
  },
  {
   "cell_type": "markdown",
   "metadata": {},
   "source": [
    "#### Sensitivity is V. low as compared to Specificity\n",
    "<br> We are interested in correctly predicting the 'Churn' i.e High Sensitivity.\n",
    "<br> So, we will lower the Cutoff"
   ]
  },
  {
   "cell_type": "code",
   "execution_count": 242,
   "metadata": {},
   "outputs": [
    {
     "name": "stdout",
     "output_type": "stream",
     "text": [
      "Sensitivity for Test Data :  0.8523206751054853\n",
      "Specificity for Test Data :  0.844993344179855\n"
     ]
    }
   ],
   "source": [
    "### Calculate Prediction labels\n",
    "y_test_pred_labels = calc_pred_labels(y_test_pred_prob , cutoff=0.20)\n",
    "\n",
    "conf = confusion_matrix(y_test, y_test_pred_labels)\n",
    "\n",
    "### Sensitivity and Specificity\n",
    "sensitivity = conf[1,1]/(conf[1,1] + conf[1,0])\n",
    "specificity = conf[0,0]/(conf[0,0] + conf[0,1])\n",
    "print(\"Sensitivity for Test Data : \" , sensitivity)\n",
    "print(\"Specificity for Test Data : \" , specificity)"
   ]
  },
  {
   "cell_type": "markdown",
   "metadata": {},
   "source": [
    "#### Plotting the Precision-Recall Curve for the XGBoost model on the test data"
   ]
  },
  {
   "cell_type": "code",
   "execution_count": 339,
   "metadata": {},
   "outputs": [],
   "source": [
    "precisions , recalls , thresholds = precision_recall_curve(y_test , y_test_pred_prob)"
   ]
  },
  {
   "cell_type": "code",
   "execution_count": 342,
   "metadata": {},
   "outputs": [],
   "source": [
    "def plot_precision_recall_curve(p , r , t) :\n",
    "    plt.plot(t , p[:-1] , 'blue' , label='Precision')\n",
    "    plt.plot(t , r[:-1] , 'green' , label = 'Recall')\n",
    "    plt.legend()\n",
    "    plt.grid()"
   ]
  },
  {
   "cell_type": "code",
   "execution_count": 349,
   "metadata": {},
   "outputs": [
    {
     "data": {
      "image/png": "[encoded data removed]",
      "text/plain": [
       "<Figure size 720x576 with 1 Axes>"
      ]
     },
     "metadata": {
      "needs_background": "light"
     },
     "output_type": "display_data"
    }
   ],
   "source": [
    "plt.figure(figsize=(10,8))\n",
    "plot_precision_recall_curve(precisions , recalls , thresholds)\n",
    "plt.show()"
   ]
  },
  {
   "cell_type": "code",
   "execution_count": 347,
   "metadata": {},
   "outputs": [
    {
     "name": "stdout",
     "output_type": "stream",
     "text": [
      "Precision for Test data =  0.1616\n",
      "Recall for Test data =  0.8523206751054853\n"
     ]
    }
   ],
   "source": [
    "### Calculate the value of Precision and Recall for a cutoff of 0.2\n",
    "print(\"Precision for Test data = \", precision_score(y_test , y_test_pred_labels))\n",
    "print(\"Recall for Test data = \" , recall_score(y_test , y_test_pred_labels))"
   ]
  },
  {
   "cell_type": "markdown",
   "metadata": {},
   "source": [
    "#### Since we want a high Recall (TPR) , the value of cutoff at 0.2 looks OK. <br> Even though the Precision is V. low"
   ]
  },
  {
   "cell_type": "code",
   "execution_count": null,
   "metadata": {},
   "outputs": [],
   "source": []
  },
  {
   "cell_type": "markdown",
   "metadata": {},
   "source": [
    "## Step 6 : Building a model for Inference (finding important Predictors)"
   ]
  },
  {
   "cell_type": "markdown",
   "metadata": {},
   "source": [
    "### 6.1 : Use RFE to select the most important features (we can't use PCA here)"
   ]
  },
  {
   "cell_type": "code",
   "execution_count": 271,
   "metadata": {},
   "outputs": [],
   "source": [
    "### Running RFE to reduce the no. of features to 35\n",
    "lm = LogisticRegression(max_iter = 500)\n",
    "lm.fit(X_train_scaled , y_train)\n",
    "rfe = RFE(lm , n_features_to_select = 35)\n",
    "rfe = rfe.fit(X_train_scaled, y_train)"
   ]
  },
  {
   "cell_type": "code",
   "execution_count": 272,
   "metadata": {},
   "outputs": [
    {
     "data": {
      "text/plain": [
       "[('loc_og_t2o_mou', False, 99),\n",
       " ('std_og_t2o_mou', False, 98),\n",
       " ('loc_ic_t2o_mou', False, 97),\n",
       " ('arpu_6', False, 43),\n",
       " ('arpu_7', True, 1),\n",
       " ('arpu_8', False, 52),\n",
       " ('onnet_mou_6', False, 64),\n",
       " ('onnet_mou_7', False, 11),\n",
       " ('onnet_mou_8', False, 72),\n",
       " ('offnet_mou_6', False, 58),\n",
       " ('offnet_mou_7', True, 1),\n",
       " ('offnet_mou_8', True, 1),\n",
       " ('roam_ic_mou_6', False, 23),\n",
       " ('roam_ic_mou_7', False, 70),\n",
       " ('roam_ic_mou_8', False, 60),\n",
       " ('roam_og_mou_6', False, 87),\n",
       " ('roam_og_mou_7', False, 28),\n",
       " ('roam_og_mou_8', True, 1),\n",
       " ('loc_og_t2t_mou_6', False, 13),\n",
       " ('loc_og_t2t_mou_7', False, 27),\n",
       " ('loc_og_t2t_mou_8', False, 7),\n",
       " ('loc_og_t2m_mou_6', False, 9),\n",
       " ('loc_og_t2m_mou_7', True, 1),\n",
       " ('loc_og_t2m_mou_8', False, 5),\n",
       " ('loc_og_t2f_mou_6', False, 76),\n",
       " ('loc_og_t2f_mou_7', False, 67),\n",
       " ('loc_og_t2f_mou_8', True, 1),\n",
       " ('loc_og_t2c_mou_6', False, 68),\n",
       " ('loc_og_t2c_mou_7', False, 82),\n",
       " ('loc_og_t2c_mou_8', False, 61),\n",
       " ('loc_og_mou_6', False, 81),\n",
       " ('loc_og_mou_7', False, 12),\n",
       " ('loc_og_mou_8', True, 1),\n",
       " ('std_og_t2t_mou_6', False, 57),\n",
       " ('std_og_t2t_mou_7', False, 26),\n",
       " ('std_og_t2t_mou_8', False, 8),\n",
       " ('std_og_t2m_mou_6', False, 85),\n",
       " ('std_og_t2m_mou_7', True, 1),\n",
       " ('std_og_t2m_mou_8', True, 1),\n",
       " ('std_og_t2f_mou_6', False, 39),\n",
       " ('std_og_t2f_mou_7', False, 38),\n",
       " ('std_og_t2f_mou_8', False, 37),\n",
       " ('std_og_t2c_mou_6', False, 93),\n",
       " ('std_og_t2c_mou_7', False, 95),\n",
       " ('std_og_t2c_mou_8', False, 96),\n",
       " ('std_og_mou_6', True, 1),\n",
       " ('std_og_mou_7', False, 63),\n",
       " ('std_og_mou_8', False, 88),\n",
       " ('isd_og_mou_6', False, 86),\n",
       " ('isd_og_mou_7', False, 46),\n",
       " ('isd_og_mou_8', True, 1),\n",
       " ('spl_og_mou_6', False, 32),\n",
       " ('spl_og_mou_7', False, 31),\n",
       " ('spl_og_mou_8', True, 1),\n",
       " ('og_others_6', False, 65),\n",
       " ('og_others_7', True, 1),\n",
       " ('og_others_8', True, 1),\n",
       " ('total_og_mou_6', False, 33),\n",
       " ('total_og_mou_7', False, 62),\n",
       " ('total_og_mou_8', True, 1),\n",
       " ('loc_ic_t2t_mou_6', False, 18),\n",
       " ('loc_ic_t2t_mou_7', False, 19),\n",
       " ('loc_ic_t2t_mou_8', True, 1),\n",
       " ('loc_ic_t2m_mou_6', False, 10),\n",
       " ('loc_ic_t2m_mou_7', False, 20),\n",
       " ('loc_ic_t2m_mou_8', True, 1),\n",
       " ('loc_ic_t2f_mou_6', False, 36),\n",
       " ('loc_ic_t2f_mou_7', True, 1),\n",
       " ('loc_ic_t2f_mou_8', True, 1),\n",
       " ('loc_ic_mou_6', False, 83),\n",
       " ('loc_ic_mou_7', True, 1),\n",
       " ('loc_ic_mou_8', True, 1),\n",
       " ('std_ic_t2t_mou_6', True, 1),\n",
       " ('std_ic_t2t_mou_7', False, 17),\n",
       " ('std_ic_t2t_mou_8', False, 15),\n",
       " ('std_ic_t2m_mou_6', False, 75),\n",
       " ('std_ic_t2m_mou_7', False, 59),\n",
       " ('std_ic_t2m_mou_8', True, 1),\n",
       " ('std_ic_t2f_mou_6', False, 40),\n",
       " ('std_ic_t2f_mou_7', False, 14),\n",
       " ('std_ic_t2f_mou_8', False, 2),\n",
       " ('std_ic_t2o_mou_6', False, 94),\n",
       " ('std_ic_t2o_mou_7', False, 91),\n",
       " ('std_ic_t2o_mou_8', False, 92),\n",
       " ('std_ic_mou_6', False, 66),\n",
       " ('std_ic_mou_7', False, 77),\n",
       " ('std_ic_mou_8', False, 71),\n",
       " ('total_ic_mou_6', False, 84),\n",
       " ('total_ic_mou_7', False, 35),\n",
       " ('total_ic_mou_8', True, 1),\n",
       " ('spl_ic_mou_6', False, 45),\n",
       " ('spl_ic_mou_7', False, 21),\n",
       " ('spl_ic_mou_8', True, 1),\n",
       " ('isd_ic_mou_6', False, 90),\n",
       " ('isd_ic_mou_7', False, 6),\n",
       " ('isd_ic_mou_8', False, 16),\n",
       " ('ic_others_6', False, 53),\n",
       " ('ic_others_7', False, 69),\n",
       " ('ic_others_8', True, 1),\n",
       " ('total_rech_num_6', False, 49),\n",
       " ('total_rech_num_7', False, 54),\n",
       " ('total_rech_num_8', True, 1),\n",
       " ('total_rech_amt_6', False, 44),\n",
       " ('total_rech_amt_7', False, 25),\n",
       " ('total_rech_amt_8', True, 1),\n",
       " ('max_rech_amt_6', False, 80),\n",
       " ('max_rech_amt_7', False, 42),\n",
       " ('max_rech_amt_8', False, 51),\n",
       " ('last_day_rch_amt_6', False, 34),\n",
       " ('last_day_rch_amt_7', False, 50),\n",
       " ('last_day_rch_amt_8', True, 1),\n",
       " ('vol_2g_mb_6', False, 78),\n",
       " ('vol_2g_mb_7', False, 79),\n",
       " ('vol_2g_mb_8', True, 1),\n",
       " ('vol_3g_mb_6', False, 29),\n",
       " ('vol_3g_mb_7', False, 3),\n",
       " ('vol_3g_mb_8', False, 89),\n",
       " ('monthly_2g_6', False, 24),\n",
       " ('monthly_2g_7', True, 1),\n",
       " ('monthly_2g_8', True, 1),\n",
       " ('sachet_2g_6', False, 56),\n",
       " ('sachet_2g_7', False, 55),\n",
       " ('sachet_2g_8', False, 22),\n",
       " ('monthly_3g_6', False, 30),\n",
       " ('monthly_3g_7', True, 1),\n",
       " ('monthly_3g_8', True, 1),\n",
       " ('sachet_3g_6', False, 74),\n",
       " ('sachet_3g_7', False, 73),\n",
       " ('sachet_3g_8', False, 4),\n",
       " ('aon', False, 41),\n",
       " ('aug_vbc_3g', True, 1),\n",
       " ('jul_vbc_3g', False, 48),\n",
       " ('jun_vbc_3g', False, 47)]"
      ]
     },
     "execution_count": 272,
     "metadata": {},
     "output_type": "execute_result"
    }
   ],
   "source": [
    "list(zip(X_train.columns , rfe.support_ , rfe.ranking_))"
   ]
  },
  {
   "cell_type": "code",
   "execution_count": 273,
   "metadata": {},
   "outputs": [
    {
     "name": "stdout",
     "output_type": "stream",
     "text": [
      "Index(['arpu_7', 'offnet_mou_7', 'offnet_mou_8', 'roam_og_mou_8',\n",
      "       'loc_og_t2m_mou_7', 'loc_og_t2f_mou_8', 'loc_og_mou_8',\n",
      "       'std_og_t2m_mou_7', 'std_og_t2m_mou_8', 'std_og_mou_6', 'isd_og_mou_8',\n",
      "       'spl_og_mou_8', 'og_others_7', 'og_others_8', 'total_og_mou_8',\n",
      "       'loc_ic_t2t_mou_8', 'loc_ic_t2m_mou_8', 'loc_ic_t2f_mou_7',\n",
      "       'loc_ic_t2f_mou_8', 'loc_ic_mou_7', 'loc_ic_mou_8', 'std_ic_t2t_mou_6',\n",
      "       'std_ic_t2m_mou_8', 'total_ic_mou_8', 'spl_ic_mou_8', 'ic_others_8',\n",
      "       'total_rech_num_8', 'total_rech_amt_8', 'last_day_rch_amt_8',\n",
      "       'vol_2g_mb_8', 'monthly_2g_7', 'monthly_2g_8', 'monthly_3g_7',\n",
      "       'monthly_3g_8', 'aug_vbc_3g'],\n",
      "      dtype='object')\n",
      "35\n"
     ]
    }
   ],
   "source": [
    "rfe_selected_features = X_train.columns[rfe.support_]\n",
    "print(rfe_selected_features)\n",
    "print(len(rfe_selected_features))"
   ]
  },
  {
   "cell_type": "code",
   "execution_count": 274,
   "metadata": {},
   "outputs": [],
   "source": [
    "X_train_rfe = X_train_scaled[rfe_selected_features]"
   ]
  },
  {
   "cell_type": "markdown",
   "metadata": {},
   "source": [
    "#### Check the VIF for the selected features"
   ]
  },
  {
   "cell_type": "code",
   "execution_count": 275,
   "metadata": {},
   "outputs": [
    {
     "data": {
      "text/html": [
       "<div>\n",
       "<style scoped>\n",
       "    .dataframe tbody tr th:only-of-type {\n",
       "        vertical-align: middle;\n",
       "    }\n",
       "\n",
       "    .dataframe tbody tr th {\n",
       "        vertical-align: top;\n",
       "    }\n",
       "\n",
       "    .dataframe thead th {\n",
       "        text-align: right;\n",
       "    }\n",
       "</style>\n",
       "<table border=\"1\" class=\"dataframe\">\n",
       "  <thead>\n",
       "    <tr style=\"text-align: right;\">\n",
       "      <th></th>\n",
       "      <th>Features</th>\n",
       "      <th>VIF</th>\n",
       "    </tr>\n",
       "  </thead>\n",
       "  <tbody>\n",
       "    <tr>\n",
       "      <th>20</th>\n",
       "      <td>loc_ic_mou_8</td>\n",
       "      <td>2.514953e+09</td>\n",
       "    </tr>\n",
       "    <tr>\n",
       "      <th>16</th>\n",
       "      <td>loc_ic_t2m_mou_8</td>\n",
       "      <td>1.240623e+09</td>\n",
       "    </tr>\n",
       "    <tr>\n",
       "      <th>15</th>\n",
       "      <td>loc_ic_t2t_mou_8</td>\n",
       "      <td>6.822114e+08</td>\n",
       "    </tr>\n",
       "    <tr>\n",
       "      <th>18</th>\n",
       "      <td>loc_ic_t2f_mou_8</td>\n",
       "      <td>5.031189e+07</td>\n",
       "    </tr>\n",
       "    <tr>\n",
       "      <th>1</th>\n",
       "      <td>offnet_mou_7</td>\n",
       "      <td>6.791000e+01</td>\n",
       "    </tr>\n",
       "    <tr>\n",
       "      <th>7</th>\n",
       "      <td>std_og_t2m_mou_7</td>\n",
       "      <td>5.478000e+01</td>\n",
       "    </tr>\n",
       "    <tr>\n",
       "      <th>2</th>\n",
       "      <td>offnet_mou_8</td>\n",
       "      <td>1.854000e+01</td>\n",
       "    </tr>\n",
       "    <tr>\n",
       "      <th>8</th>\n",
       "      <td>std_og_t2m_mou_8</td>\n",
       "      <td>1.811000e+01</td>\n",
       "    </tr>\n",
       "    <tr>\n",
       "      <th>4</th>\n",
       "      <td>loc_og_t2m_mou_7</td>\n",
       "      <td>1.761000e+01</td>\n",
       "    </tr>\n",
       "    <tr>\n",
       "      <th>23</th>\n",
       "      <td>total_ic_mou_8</td>\n",
       "      <td>1.217000e+01</td>\n",
       "    </tr>\n",
       "    <tr>\n",
       "      <th>27</th>\n",
       "      <td>total_rech_amt_8</td>\n",
       "      <td>5.390000e+00</td>\n",
       "    </tr>\n",
       "    <tr>\n",
       "      <th>0</th>\n",
       "      <td>arpu_7</td>\n",
       "      <td>4.520000e+00</td>\n",
       "    </tr>\n",
       "    <tr>\n",
       "      <th>14</th>\n",
       "      <td>total_og_mou_8</td>\n",
       "      <td>4.490000e+00</td>\n",
       "    </tr>\n",
       "    <tr>\n",
       "      <th>19</th>\n",
       "      <td>loc_ic_mou_7</td>\n",
       "      <td>4.370000e+00</td>\n",
       "    </tr>\n",
       "    <tr>\n",
       "      <th>6</th>\n",
       "      <td>loc_og_mou_8</td>\n",
       "      <td>3.620000e+00</td>\n",
       "    </tr>\n",
       "    <tr>\n",
       "      <th>17</th>\n",
       "      <td>loc_ic_t2f_mou_7</td>\n",
       "      <td>3.140000e+00</td>\n",
       "    </tr>\n",
       "    <tr>\n",
       "      <th>22</th>\n",
       "      <td>std_ic_t2m_mou_8</td>\n",
       "      <td>2.410000e+00</td>\n",
       "    </tr>\n",
       "    <tr>\n",
       "      <th>10</th>\n",
       "      <td>isd_og_mou_8</td>\n",
       "      <td>2.260000e+00</td>\n",
       "    </tr>\n",
       "    <tr>\n",
       "      <th>33</th>\n",
       "      <td>monthly_3g_8</td>\n",
       "      <td>2.260000e+00</td>\n",
       "    </tr>\n",
       "    <tr>\n",
       "      <th>32</th>\n",
       "      <td>monthly_3g_7</td>\n",
       "      <td>2.180000e+00</td>\n",
       "    </tr>\n",
       "    <tr>\n",
       "      <th>9</th>\n",
       "      <td>std_og_mou_6</td>\n",
       "      <td>2.040000e+00</td>\n",
       "    </tr>\n",
       "    <tr>\n",
       "      <th>31</th>\n",
       "      <td>monthly_2g_8</td>\n",
       "      <td>1.670000e+00</td>\n",
       "    </tr>\n",
       "    <tr>\n",
       "      <th>3</th>\n",
       "      <td>roam_og_mou_8</td>\n",
       "      <td>1.620000e+00</td>\n",
       "    </tr>\n",
       "    <tr>\n",
       "      <th>30</th>\n",
       "      <td>monthly_2g_7</td>\n",
       "      <td>1.570000e+00</td>\n",
       "    </tr>\n",
       "    <tr>\n",
       "      <th>26</th>\n",
       "      <td>total_rech_num_8</td>\n",
       "      <td>1.490000e+00</td>\n",
       "    </tr>\n",
       "    <tr>\n",
       "      <th>34</th>\n",
       "      <td>aug_vbc_3g</td>\n",
       "      <td>1.440000e+00</td>\n",
       "    </tr>\n",
       "    <tr>\n",
       "      <th>28</th>\n",
       "      <td>last_day_rch_amt_8</td>\n",
       "      <td>1.380000e+00</td>\n",
       "    </tr>\n",
       "    <tr>\n",
       "      <th>5</th>\n",
       "      <td>loc_og_t2f_mou_8</td>\n",
       "      <td>1.280000e+00</td>\n",
       "    </tr>\n",
       "    <tr>\n",
       "      <th>21</th>\n",
       "      <td>std_ic_t2t_mou_6</td>\n",
       "      <td>1.250000e+00</td>\n",
       "    </tr>\n",
       "    <tr>\n",
       "      <th>29</th>\n",
       "      <td>vol_2g_mb_8</td>\n",
       "      <td>1.190000e+00</td>\n",
       "    </tr>\n",
       "    <tr>\n",
       "      <th>11</th>\n",
       "      <td>spl_og_mou_8</td>\n",
       "      <td>1.100000e+00</td>\n",
       "    </tr>\n",
       "    <tr>\n",
       "      <th>25</th>\n",
       "      <td>ic_others_8</td>\n",
       "      <td>1.070000e+00</td>\n",
       "    </tr>\n",
       "    <tr>\n",
       "      <th>12</th>\n",
       "      <td>og_others_7</td>\n",
       "      <td>1.060000e+00</td>\n",
       "    </tr>\n",
       "    <tr>\n",
       "      <th>13</th>\n",
       "      <td>og_others_8</td>\n",
       "      <td>1.060000e+00</td>\n",
       "    </tr>\n",
       "    <tr>\n",
       "      <th>24</th>\n",
       "      <td>spl_ic_mou_8</td>\n",
       "      <td>1.030000e+00</td>\n",
       "    </tr>\n",
       "  </tbody>\n",
       "</table>\n",
       "</div>"
      ],
      "text/plain": [
       "              Features           VIF\n",
       "20        loc_ic_mou_8  2.514953e+09\n",
       "16    loc_ic_t2m_mou_8  1.240623e+09\n",
       "15    loc_ic_t2t_mou_8  6.822114e+08\n",
       "18    loc_ic_t2f_mou_8  5.031189e+07\n",
       "1         offnet_mou_7  6.791000e+01\n",
       "7     std_og_t2m_mou_7  5.478000e+01\n",
       "2         offnet_mou_8  1.854000e+01\n",
       "8     std_og_t2m_mou_8  1.811000e+01\n",
       "4     loc_og_t2m_mou_7  1.761000e+01\n",
       "23      total_ic_mou_8  1.217000e+01\n",
       "27    total_rech_amt_8  5.390000e+00\n",
       "0               arpu_7  4.520000e+00\n",
       "14      total_og_mou_8  4.490000e+00\n",
       "19        loc_ic_mou_7  4.370000e+00\n",
       "6         loc_og_mou_8  3.620000e+00\n",
       "17    loc_ic_t2f_mou_7  3.140000e+00\n",
       "22    std_ic_t2m_mou_8  2.410000e+00\n",
       "10        isd_og_mou_8  2.260000e+00\n",
       "33        monthly_3g_8  2.260000e+00\n",
       "32        monthly_3g_7  2.180000e+00\n",
       "9         std_og_mou_6  2.040000e+00\n",
       "31        monthly_2g_8  1.670000e+00\n",
       "3        roam_og_mou_8  1.620000e+00\n",
       "30        monthly_2g_7  1.570000e+00\n",
       "26    total_rech_num_8  1.490000e+00\n",
       "34          aug_vbc_3g  1.440000e+00\n",
       "28  last_day_rch_amt_8  1.380000e+00\n",
       "5     loc_og_t2f_mou_8  1.280000e+00\n",
       "21    std_ic_t2t_mou_6  1.250000e+00\n",
       "29         vol_2g_mb_8  1.190000e+00\n",
       "11        spl_og_mou_8  1.100000e+00\n",
       "25         ic_others_8  1.070000e+00\n",
       "12         og_others_7  1.060000e+00\n",
       "13         og_others_8  1.060000e+00\n",
       "24        spl_ic_mou_8  1.030000e+00"
      ]
     },
     "execution_count": 275,
     "metadata": {},
     "output_type": "execute_result"
    }
   ],
   "source": [
    "### Look at the VIF for all the variables\n",
    "\n",
    "vif = pd.DataFrame()\n",
    "vif['Features'] = X_train_rfe.columns\n",
    "vif['VIF'] = [variance_inflation_factor(X_train_rfe.values, i) for i in range(X_train_rfe.shape[1])]\n",
    "vif['VIF'] = round(vif['VIF'], 2)\n",
    "vif = vif.sort_values(by = \"VIF\", ascending = False)\n",
    "vif"
   ]
  },
  {
   "cell_type": "code",
   "execution_count": 276,
   "metadata": {},
   "outputs": [],
   "source": [
    "### Remove the feature with the highest VIF\n",
    "X_train_rfe = X_train_rfe.drop(columns=['loc_ic_mou_8'])"
   ]
  },
  {
   "cell_type": "code",
   "execution_count": 277,
   "metadata": {},
   "outputs": [
    {
     "data": {
      "text/html": [
       "<div>\n",
       "<style scoped>\n",
       "    .dataframe tbody tr th:only-of-type {\n",
       "        vertical-align: middle;\n",
       "    }\n",
       "\n",
       "    .dataframe tbody tr th {\n",
       "        vertical-align: top;\n",
       "    }\n",
       "\n",
       "    .dataframe thead th {\n",
       "        text-align: right;\n",
       "    }\n",
       "</style>\n",
       "<table border=\"1\" class=\"dataframe\">\n",
       "  <thead>\n",
       "    <tr style=\"text-align: right;\">\n",
       "      <th></th>\n",
       "      <th>Features</th>\n",
       "      <th>VIF</th>\n",
       "    </tr>\n",
       "  </thead>\n",
       "  <tbody>\n",
       "    <tr>\n",
       "      <th>1</th>\n",
       "      <td>offnet_mou_7</td>\n",
       "      <td>67.89</td>\n",
       "    </tr>\n",
       "    <tr>\n",
       "      <th>7</th>\n",
       "      <td>std_og_t2m_mou_7</td>\n",
       "      <td>54.77</td>\n",
       "    </tr>\n",
       "    <tr>\n",
       "      <th>2</th>\n",
       "      <td>offnet_mou_8</td>\n",
       "      <td>18.54</td>\n",
       "    </tr>\n",
       "    <tr>\n",
       "      <th>8</th>\n",
       "      <td>std_og_t2m_mou_8</td>\n",
       "      <td>18.11</td>\n",
       "    </tr>\n",
       "    <tr>\n",
       "      <th>4</th>\n",
       "      <td>loc_og_t2m_mou_7</td>\n",
       "      <td>17.59</td>\n",
       "    </tr>\n",
       "    <tr>\n",
       "      <th>22</th>\n",
       "      <td>total_ic_mou_8</td>\n",
       "      <td>12.17</td>\n",
       "    </tr>\n",
       "    <tr>\n",
       "      <th>16</th>\n",
       "      <td>loc_ic_t2m_mou_8</td>\n",
       "      <td>7.18</td>\n",
       "    </tr>\n",
       "    <tr>\n",
       "      <th>26</th>\n",
       "      <td>total_rech_amt_8</td>\n",
       "      <td>5.38</td>\n",
       "    </tr>\n",
       "    <tr>\n",
       "      <th>0</th>\n",
       "      <td>arpu_7</td>\n",
       "      <td>4.52</td>\n",
       "    </tr>\n",
       "    <tr>\n",
       "      <th>14</th>\n",
       "      <td>total_og_mou_8</td>\n",
       "      <td>4.49</td>\n",
       "    </tr>\n",
       "    <tr>\n",
       "      <th>19</th>\n",
       "      <td>loc_ic_mou_7</td>\n",
       "      <td>4.37</td>\n",
       "    </tr>\n",
       "    <tr>\n",
       "      <th>15</th>\n",
       "      <td>loc_ic_t2t_mou_8</td>\n",
       "      <td>4.37</td>\n",
       "    </tr>\n",
       "    <tr>\n",
       "      <th>6</th>\n",
       "      <td>loc_og_mou_8</td>\n",
       "      <td>3.62</td>\n",
       "    </tr>\n",
       "    <tr>\n",
       "      <th>18</th>\n",
       "      <td>loc_ic_t2f_mou_8</td>\n",
       "      <td>3.19</td>\n",
       "    </tr>\n",
       "    <tr>\n",
       "      <th>17</th>\n",
       "      <td>loc_ic_t2f_mou_7</td>\n",
       "      <td>3.14</td>\n",
       "    </tr>\n",
       "    <tr>\n",
       "      <th>21</th>\n",
       "      <td>std_ic_t2m_mou_8</td>\n",
       "      <td>2.41</td>\n",
       "    </tr>\n",
       "    <tr>\n",
       "      <th>10</th>\n",
       "      <td>isd_og_mou_8</td>\n",
       "      <td>2.26</td>\n",
       "    </tr>\n",
       "    <tr>\n",
       "      <th>32</th>\n",
       "      <td>monthly_3g_8</td>\n",
       "      <td>2.26</td>\n",
       "    </tr>\n",
       "    <tr>\n",
       "      <th>31</th>\n",
       "      <td>monthly_3g_7</td>\n",
       "      <td>2.18</td>\n",
       "    </tr>\n",
       "    <tr>\n",
       "      <th>9</th>\n",
       "      <td>std_og_mou_6</td>\n",
       "      <td>2.03</td>\n",
       "    </tr>\n",
       "    <tr>\n",
       "      <th>30</th>\n",
       "      <td>monthly_2g_8</td>\n",
       "      <td>1.67</td>\n",
       "    </tr>\n",
       "    <tr>\n",
       "      <th>3</th>\n",
       "      <td>roam_og_mou_8</td>\n",
       "      <td>1.61</td>\n",
       "    </tr>\n",
       "    <tr>\n",
       "      <th>29</th>\n",
       "      <td>monthly_2g_7</td>\n",
       "      <td>1.57</td>\n",
       "    </tr>\n",
       "    <tr>\n",
       "      <th>25</th>\n",
       "      <td>total_rech_num_8</td>\n",
       "      <td>1.49</td>\n",
       "    </tr>\n",
       "    <tr>\n",
       "      <th>33</th>\n",
       "      <td>aug_vbc_3g</td>\n",
       "      <td>1.44</td>\n",
       "    </tr>\n",
       "    <tr>\n",
       "      <th>27</th>\n",
       "      <td>last_day_rch_amt_8</td>\n",
       "      <td>1.38</td>\n",
       "    </tr>\n",
       "    <tr>\n",
       "      <th>5</th>\n",
       "      <td>loc_og_t2f_mou_8</td>\n",
       "      <td>1.27</td>\n",
       "    </tr>\n",
       "    <tr>\n",
       "      <th>20</th>\n",
       "      <td>std_ic_t2t_mou_6</td>\n",
       "      <td>1.25</td>\n",
       "    </tr>\n",
       "    <tr>\n",
       "      <th>28</th>\n",
       "      <td>vol_2g_mb_8</td>\n",
       "      <td>1.19</td>\n",
       "    </tr>\n",
       "    <tr>\n",
       "      <th>11</th>\n",
       "      <td>spl_og_mou_8</td>\n",
       "      <td>1.10</td>\n",
       "    </tr>\n",
       "    <tr>\n",
       "      <th>24</th>\n",
       "      <td>ic_others_8</td>\n",
       "      <td>1.07</td>\n",
       "    </tr>\n",
       "    <tr>\n",
       "      <th>12</th>\n",
       "      <td>og_others_7</td>\n",
       "      <td>1.06</td>\n",
       "    </tr>\n",
       "    <tr>\n",
       "      <th>13</th>\n",
       "      <td>og_others_8</td>\n",
       "      <td>1.06</td>\n",
       "    </tr>\n",
       "    <tr>\n",
       "      <th>23</th>\n",
       "      <td>spl_ic_mou_8</td>\n",
       "      <td>1.03</td>\n",
       "    </tr>\n",
       "  </tbody>\n",
       "</table>\n",
       "</div>"
      ],
      "text/plain": [
       "              Features    VIF\n",
       "1         offnet_mou_7  67.89\n",
       "7     std_og_t2m_mou_7  54.77\n",
       "2         offnet_mou_8  18.54\n",
       "8     std_og_t2m_mou_8  18.11\n",
       "4     loc_og_t2m_mou_7  17.59\n",
       "22      total_ic_mou_8  12.17\n",
       "16    loc_ic_t2m_mou_8   7.18\n",
       "26    total_rech_amt_8   5.38\n",
       "0               arpu_7   4.52\n",
       "14      total_og_mou_8   4.49\n",
       "19        loc_ic_mou_7   4.37\n",
       "15    loc_ic_t2t_mou_8   4.37\n",
       "6         loc_og_mou_8   3.62\n",
       "18    loc_ic_t2f_mou_8   3.19\n",
       "17    loc_ic_t2f_mou_7   3.14\n",
       "21    std_ic_t2m_mou_8   2.41\n",
       "10        isd_og_mou_8   2.26\n",
       "32        monthly_3g_8   2.26\n",
       "31        monthly_3g_7   2.18\n",
       "9         std_og_mou_6   2.03\n",
       "30        monthly_2g_8   1.67\n",
       "3        roam_og_mou_8   1.61\n",
       "29        monthly_2g_7   1.57\n",
       "25    total_rech_num_8   1.49\n",
       "33          aug_vbc_3g   1.44\n",
       "27  last_day_rch_amt_8   1.38\n",
       "5     loc_og_t2f_mou_8   1.27\n",
       "20    std_ic_t2t_mou_6   1.25\n",
       "28         vol_2g_mb_8   1.19\n",
       "11        spl_og_mou_8   1.10\n",
       "24         ic_others_8   1.07\n",
       "12         og_others_7   1.06\n",
       "13         og_others_8   1.06\n",
       "23        spl_ic_mou_8   1.03"
      ]
     },
     "execution_count": 277,
     "metadata": {},
     "output_type": "execute_result"
    }
   ],
   "source": [
    "vif = pd.DataFrame()\n",
    "vif['Features'] = X_train_rfe.columns\n",
    "vif['VIF'] = [variance_inflation_factor(X_train_rfe.values, i) for i in range(X_train_rfe.shape[1])]\n",
    "vif['VIF'] = round(vif['VIF'], 2)\n",
    "vif = vif.sort_values(by = \"VIF\", ascending = False)\n",
    "vif"
   ]
  },
  {
   "cell_type": "markdown",
   "metadata": {},
   "source": [
    "### 6.2 : Build a Logistic Regression Model with L2 penalty"
   ]
  },
  {
   "cell_type": "markdown",
   "metadata": {},
   "source": [
    "#### Use class_weight =  ‘balanced’ to handle class-imbalance"
   ]
  },
  {
   "cell_type": "code",
   "execution_count": 282,
   "metadata": {},
   "outputs": [],
   "source": [
    "log_reg = LogisticRegression(penalty='l2', class_weight='balanced', max_iter=500)\n",
    "params = {'C' : [0.01 , 0.1 , 1.0 , 10 , 100]}\n",
    "\n",
    "log_reg_cv = GridSearchCV(estimator=log_reg,\n",
    "                         param_grid=params,\n",
    "                         scoring='roc_auc',\n",
    "                         verbose=1,\n",
    "                         return_train_score=True,\n",
    "                         n_jobs = (available_cpus-1),\n",
    "                         cv=5)"
   ]
  },
  {
   "cell_type": "code",
   "execution_count": 283,
   "metadata": {},
   "outputs": [
    {
     "name": "stdout",
     "output_type": "stream",
     "text": [
      "(20993, 34)\n",
      "(20993,)\n"
     ]
    }
   ],
   "source": [
    "### Check the shape of X and y\n",
    "print(X_train_rfe.shape)\n",
    "print(y_train.shape)"
   ]
  },
  {
   "cell_type": "code",
   "execution_count": 284,
   "metadata": {},
   "outputs": [
    {
     "name": "stdout",
     "output_type": "stream",
     "text": [
      "Fitting 5 folds for each of 5 candidates, totalling 25 fits\n"
     ]
    },
    {
     "name": "stderr",
     "output_type": "stream",
     "text": [
      "[Parallel(n_jobs=7)]: Using backend LokyBackend with 7 concurrent workers.\n",
      "[Parallel(n_jobs=7)]: Done  25 out of  25 | elapsed:    4.3s finished\n"
     ]
    },
    {
     "data": {
      "text/plain": [
       "GridSearchCV(cv=5, error_score=nan,\n",
       "             estimator=LogisticRegression(C=1.0, class_weight='balanced',\n",
       "                                          dual=False, fit_intercept=True,\n",
       "                                          intercept_scaling=1, l1_ratio=None,\n",
       "                                          max_iter=500, multi_class='auto',\n",
       "                                          n_jobs=None, penalty='l2',\n",
       "                                          random_state=None, solver='lbfgs',\n",
       "                                          tol=0.0001, verbose=0,\n",
       "                                          warm_start=False),\n",
       "             iid='deprecated', n_jobs=7,\n",
       "             param_grid={'C': [0.01, 0.1, 1.0, 10, 100]},\n",
       "             pre_dispatch='2*n_jobs', refit=True, return_train_score=True,\n",
       "             scoring='roc_auc', verbose=1)"
      ]
     },
     "execution_count": 284,
     "metadata": {},
     "output_type": "execute_result"
    }
   ],
   "source": [
    "log_reg_cv.fit(X_train_rfe , y_train)"
   ]
  },
  {
   "cell_type": "code",
   "execution_count": 285,
   "metadata": {},
   "outputs": [
    {
     "data": {
      "text/plain": [
       "{'C': 0.1}"
      ]
     },
     "execution_count": 285,
     "metadata": {},
     "output_type": "execute_result"
    }
   ],
   "source": [
    "log_reg_cv.best_params_"
   ]
  },
  {
   "cell_type": "code",
   "execution_count": 286,
   "metadata": {},
   "outputs": [
    {
     "data": {
      "text/plain": [
       "0.9078055884671196"
      ]
     },
     "execution_count": 286,
     "metadata": {},
     "output_type": "execute_result"
    }
   ],
   "source": [
    "log_reg_cv.best_score_"
   ]
  },
  {
   "cell_type": "markdown",
   "metadata": {},
   "source": [
    "#### We get a very good ROC-AUC score of 0.907 using Logistic Regression with L2 penalty"
   ]
  },
  {
   "cell_type": "code",
   "execution_count": 287,
   "metadata": {},
   "outputs": [],
   "source": [
    "### Build a model using the best params and the entire training set\n",
    "log_reg_final = LogisticRegression(penalty='l2', class_weight='balanced',C = 0.1, max_iter=500)"
   ]
  },
  {
   "cell_type": "code",
   "execution_count": 288,
   "metadata": {},
   "outputs": [
    {
     "data": {
      "text/plain": [
       "LogisticRegression(C=0.1, class_weight='balanced', dual=False,\n",
       "                   fit_intercept=True, intercept_scaling=1, l1_ratio=None,\n",
       "                   max_iter=500, multi_class='auto', n_jobs=None, penalty='l2',\n",
       "                   random_state=None, solver='lbfgs', tol=0.0001, verbose=0,\n",
       "                   warm_start=False)"
      ]
     },
     "execution_count": 288,
     "metadata": {},
     "output_type": "execute_result"
    }
   ],
   "source": [
    "log_reg_final.fit(X_train_rfe , y_train)"
   ]
  },
  {
   "cell_type": "code",
   "execution_count": 317,
   "metadata": {},
   "outputs": [
    {
     "data": {
      "text/plain": [
       "array([0.91225911, 0.92683204, 0.90779265, 0.90829791, 0.88384622])"
      ]
     },
     "execution_count": 317,
     "metadata": {},
     "output_type": "execute_result"
    }
   ],
   "source": [
    "### Checking how good the model fit is using Cross-validation\n",
    "cross_val_score(log_reg_final , X_train_rfe , y_train, cv=5 , scoring = 'roc_auc')"
   ]
  },
  {
   "cell_type": "markdown",
   "metadata": {},
   "source": [
    "Now we need to find the most significant Predictor variables"
   ]
  },
  {
   "cell_type": "code",
   "execution_count": 289,
   "metadata": {},
   "outputs": [],
   "source": [
    "log_reg_coeff = log_reg_final.coef_"
   ]
  },
  {
   "cell_type": "code",
   "execution_count": 291,
   "metadata": {},
   "outputs": [
    {
     "data": {
      "text/plain": [
       "(1, 34)"
      ]
     },
     "execution_count": 291,
     "metadata": {},
     "output_type": "execute_result"
    }
   ],
   "source": [
    "log_reg_coeff.shape"
   ]
  },
  {
   "cell_type": "code",
   "execution_count": 292,
   "metadata": {},
   "outputs": [],
   "source": [
    "log_reg_coeff = log_reg_coeff.reshape(-1,1)"
   ]
  },
  {
   "cell_type": "code",
   "execution_count": 294,
   "metadata": {},
   "outputs": [
    {
     "data": {
      "text/plain": [
       "(34, 1)"
      ]
     },
     "execution_count": 294,
     "metadata": {},
     "output_type": "execute_result"
    }
   ],
   "source": [
    "log_reg_coeff.shape"
   ]
  },
  {
   "cell_type": "code",
   "execution_count": 303,
   "metadata": {},
   "outputs": [],
   "source": [
    "coeff_df = pd.DataFrame(columns = ['Feature' , 'Coefficient'])\n",
    "coeff_df['Feature'] = X_train_rfe.columns\n",
    "coeff_df['Coefficient'] = log_reg_coeff[:,0]\n",
    "coeff_df['Abs_coefficient'] = abs(coeff_df['Coefficient'])"
   ]
  },
  {
   "cell_type": "code",
   "execution_count": 304,
   "metadata": {},
   "outputs": [
    {
     "data": {
      "text/html": [
       "<div>\n",
       "<style scoped>\n",
       "    .dataframe tbody tr th:only-of-type {\n",
       "        vertical-align: middle;\n",
       "    }\n",
       "\n",
       "    .dataframe tbody tr th {\n",
       "        vertical-align: top;\n",
       "    }\n",
       "\n",
       "    .dataframe thead th {\n",
       "        text-align: right;\n",
       "    }\n",
       "</style>\n",
       "<table border=\"1\" class=\"dataframe\">\n",
       "  <thead>\n",
       "    <tr style=\"text-align: right;\">\n",
       "      <th></th>\n",
       "      <th>Feature</th>\n",
       "      <th>Coefficient</th>\n",
       "      <th>Abs_coefficient</th>\n",
       "    </tr>\n",
       "  </thead>\n",
       "  <tbody>\n",
       "    <tr>\n",
       "      <th>22</th>\n",
       "      <td>total_ic_mou_8</td>\n",
       "      <td>-1.424299</td>\n",
       "      <td>1.424299</td>\n",
       "    </tr>\n",
       "    <tr>\n",
       "      <th>24</th>\n",
       "      <td>ic_others_8</td>\n",
       "      <td>-0.720860</td>\n",
       "      <td>0.720860</td>\n",
       "    </tr>\n",
       "    <tr>\n",
       "      <th>4</th>\n",
       "      <td>loc_og_t2m_mou_7</td>\n",
       "      <td>-0.699022</td>\n",
       "      <td>0.699022</td>\n",
       "    </tr>\n",
       "    <tr>\n",
       "      <th>2</th>\n",
       "      <td>offnet_mou_8</td>\n",
       "      <td>-0.631955</td>\n",
       "      <td>0.631955</td>\n",
       "    </tr>\n",
       "    <tr>\n",
       "      <th>3</th>\n",
       "      <td>roam_og_mou_8</td>\n",
       "      <td>0.621587</td>\n",
       "      <td>0.621587</td>\n",
       "    </tr>\n",
       "    <tr>\n",
       "      <th>15</th>\n",
       "      <td>loc_ic_t2t_mou_8</td>\n",
       "      <td>-0.561640</td>\n",
       "      <td>0.561640</td>\n",
       "    </tr>\n",
       "    <tr>\n",
       "      <th>8</th>\n",
       "      <td>std_og_t2m_mou_8</td>\n",
       "      <td>0.504139</td>\n",
       "      <td>0.504139</td>\n",
       "    </tr>\n",
       "    <tr>\n",
       "      <th>10</th>\n",
       "      <td>isd_og_mou_8</td>\n",
       "      <td>-0.489457</td>\n",
       "      <td>0.489457</td>\n",
       "    </tr>\n",
       "    <tr>\n",
       "      <th>1</th>\n",
       "      <td>offnet_mou_7</td>\n",
       "      <td>0.471416</td>\n",
       "      <td>0.471416</td>\n",
       "    </tr>\n",
       "    <tr>\n",
       "      <th>6</th>\n",
       "      <td>loc_og_mou_8</td>\n",
       "      <td>-0.462300</td>\n",
       "      <td>0.462300</td>\n",
       "    </tr>\n",
       "    <tr>\n",
       "      <th>32</th>\n",
       "      <td>monthly_3g_8</td>\n",
       "      <td>-0.455974</td>\n",
       "      <td>0.455974</td>\n",
       "    </tr>\n",
       "    <tr>\n",
       "      <th>0</th>\n",
       "      <td>arpu_7</td>\n",
       "      <td>0.448523</td>\n",
       "      <td>0.448523</td>\n",
       "    </tr>\n",
       "    <tr>\n",
       "      <th>27</th>\n",
       "      <td>last_day_rch_amt_8</td>\n",
       "      <td>-0.443424</td>\n",
       "      <td>0.443424</td>\n",
       "    </tr>\n",
       "    <tr>\n",
       "      <th>21</th>\n",
       "      <td>std_ic_t2m_mou_8</td>\n",
       "      <td>0.436777</td>\n",
       "      <td>0.436777</td>\n",
       "    </tr>\n",
       "    <tr>\n",
       "      <th>33</th>\n",
       "      <td>aug_vbc_3g</td>\n",
       "      <td>-0.416721</td>\n",
       "      <td>0.416721</td>\n",
       "    </tr>\n",
       "    <tr>\n",
       "      <th>18</th>\n",
       "      <td>loc_ic_t2f_mou_8</td>\n",
       "      <td>-0.399508</td>\n",
       "      <td>0.399508</td>\n",
       "    </tr>\n",
       "    <tr>\n",
       "      <th>28</th>\n",
       "      <td>vol_2g_mb_8</td>\n",
       "      <td>-0.398553</td>\n",
       "      <td>0.398553</td>\n",
       "    </tr>\n",
       "    <tr>\n",
       "      <th>13</th>\n",
       "      <td>og_others_8</td>\n",
       "      <td>-0.371134</td>\n",
       "      <td>0.371134</td>\n",
       "    </tr>\n",
       "    <tr>\n",
       "      <th>14</th>\n",
       "      <td>total_og_mou_8</td>\n",
       "      <td>-0.334160</td>\n",
       "      <td>0.334160</td>\n",
       "    </tr>\n",
       "    <tr>\n",
       "      <th>23</th>\n",
       "      <td>spl_ic_mou_8</td>\n",
       "      <td>-0.326799</td>\n",
       "      <td>0.326799</td>\n",
       "    </tr>\n",
       "    <tr>\n",
       "      <th>25</th>\n",
       "      <td>total_rech_num_8</td>\n",
       "      <td>-0.326287</td>\n",
       "      <td>0.326287</td>\n",
       "    </tr>\n",
       "    <tr>\n",
       "      <th>19</th>\n",
       "      <td>loc_ic_mou_7</td>\n",
       "      <td>0.317493</td>\n",
       "      <td>0.317493</td>\n",
       "    </tr>\n",
       "    <tr>\n",
       "      <th>12</th>\n",
       "      <td>og_others_7</td>\n",
       "      <td>-0.296284</td>\n",
       "      <td>0.296284</td>\n",
       "    </tr>\n",
       "    <tr>\n",
       "      <th>9</th>\n",
       "      <td>std_og_mou_6</td>\n",
       "      <td>0.291800</td>\n",
       "      <td>0.291800</td>\n",
       "    </tr>\n",
       "    <tr>\n",
       "      <th>7</th>\n",
       "      <td>std_og_t2m_mou_7</td>\n",
       "      <td>-0.284583</td>\n",
       "      <td>0.284583</td>\n",
       "    </tr>\n",
       "    <tr>\n",
       "      <th>5</th>\n",
       "      <td>loc_og_t2f_mou_8</td>\n",
       "      <td>-0.266180</td>\n",
       "      <td>0.266180</td>\n",
       "    </tr>\n",
       "    <tr>\n",
       "      <th>16</th>\n",
       "      <td>loc_ic_t2m_mou_8</td>\n",
       "      <td>-0.260411</td>\n",
       "      <td>0.260411</td>\n",
       "    </tr>\n",
       "    <tr>\n",
       "      <th>20</th>\n",
       "      <td>std_ic_t2t_mou_6</td>\n",
       "      <td>0.236913</td>\n",
       "      <td>0.236913</td>\n",
       "    </tr>\n",
       "    <tr>\n",
       "      <th>17</th>\n",
       "      <td>loc_ic_t2f_mou_7</td>\n",
       "      <td>-0.188525</td>\n",
       "      <td>0.188525</td>\n",
       "    </tr>\n",
       "    <tr>\n",
       "      <th>11</th>\n",
       "      <td>spl_og_mou_8</td>\n",
       "      <td>-0.146539</td>\n",
       "      <td>0.146539</td>\n",
       "    </tr>\n",
       "    <tr>\n",
       "      <th>30</th>\n",
       "      <td>monthly_2g_8</td>\n",
       "      <td>-0.125484</td>\n",
       "      <td>0.125484</td>\n",
       "    </tr>\n",
       "    <tr>\n",
       "      <th>26</th>\n",
       "      <td>total_rech_amt_8</td>\n",
       "      <td>-0.115626</td>\n",
       "      <td>0.115626</td>\n",
       "    </tr>\n",
       "    <tr>\n",
       "      <th>31</th>\n",
       "      <td>monthly_3g_7</td>\n",
       "      <td>-0.100606</td>\n",
       "      <td>0.100606</td>\n",
       "    </tr>\n",
       "    <tr>\n",
       "      <th>29</th>\n",
       "      <td>monthly_2g_7</td>\n",
       "      <td>-0.078421</td>\n",
       "      <td>0.078421</td>\n",
       "    </tr>\n",
       "  </tbody>\n",
       "</table>\n",
       "</div>"
      ],
      "text/plain": [
       "               Feature  Coefficient  Abs_coefficient\n",
       "22      total_ic_mou_8    -1.424299         1.424299\n",
       "24         ic_others_8    -0.720860         0.720860\n",
       "4     loc_og_t2m_mou_7    -0.699022         0.699022\n",
       "2         offnet_mou_8    -0.631955         0.631955\n",
       "3        roam_og_mou_8     0.621587         0.621587\n",
       "15    loc_ic_t2t_mou_8    -0.561640         0.561640\n",
       "8     std_og_t2m_mou_8     0.504139         0.504139\n",
       "10        isd_og_mou_8    -0.489457         0.489457\n",
       "1         offnet_mou_7     0.471416         0.471416\n",
       "6         loc_og_mou_8    -0.462300         0.462300\n",
       "32        monthly_3g_8    -0.455974         0.455974\n",
       "0               arpu_7     0.448523         0.448523\n",
       "27  last_day_rch_amt_8    -0.443424         0.443424\n",
       "21    std_ic_t2m_mou_8     0.436777         0.436777\n",
       "33          aug_vbc_3g    -0.416721         0.416721\n",
       "18    loc_ic_t2f_mou_8    -0.399508         0.399508\n",
       "28         vol_2g_mb_8    -0.398553         0.398553\n",
       "13         og_others_8    -0.371134         0.371134\n",
       "14      total_og_mou_8    -0.334160         0.334160\n",
       "23        spl_ic_mou_8    -0.326799         0.326799\n",
       "25    total_rech_num_8    -0.326287         0.326287\n",
       "19        loc_ic_mou_7     0.317493         0.317493\n",
       "12         og_others_7    -0.296284         0.296284\n",
       "9         std_og_mou_6     0.291800         0.291800\n",
       "7     std_og_t2m_mou_7    -0.284583         0.284583\n",
       "5     loc_og_t2f_mou_8    -0.266180         0.266180\n",
       "16    loc_ic_t2m_mou_8    -0.260411         0.260411\n",
       "20    std_ic_t2t_mou_6     0.236913         0.236913\n",
       "17    loc_ic_t2f_mou_7    -0.188525         0.188525\n",
       "11        spl_og_mou_8    -0.146539         0.146539\n",
       "30        monthly_2g_8    -0.125484         0.125484\n",
       "26    total_rech_amt_8    -0.115626         0.115626\n",
       "31        monthly_3g_7    -0.100606         0.100606\n",
       "29        monthly_2g_7    -0.078421         0.078421"
      ]
     },
     "execution_count": 304,
     "metadata": {},
     "output_type": "execute_result"
    }
   ],
   "source": [
    "coeff_df.sort_values(by='Abs_coefficient', ascending=False)"
   ]
  },
  {
   "cell_type": "code",
   "execution_count": 356,
   "metadata": {},
   "outputs": [
    {
     "data": {
      "text/plain": [
       "<BarContainer object of 10 artists>"
      ]
     },
     "execution_count": 356,
     "metadata": {},
     "output_type": "execute_result"
    },
    {
     "data": {
      "image/png": "[encoded data removed]",
      "text/plain": [
       "<Figure size 720x576 with 1 Axes>"
      ]
     },
     "metadata": {
      "needs_background": "light"
     },
     "output_type": "display_data"
    }
   ],
   "source": [
    "#### PLotiing\n",
    "df_feature_log_reg = coeff_df.sort_values(by='Abs_coefficient', ascending=False).head(10)\n",
    "plt.figure(figsize=(10,8))\n",
    "plt.title('Top 10 Features - Logistic Regression', fontsize=14)\n",
    "plt.xlabel('Feature Coefficients (Absolute Value)')\n",
    "plt.ylabel('Feature')\n",
    "plt.barh(df_feature_log_reg['Feature'] , df_feature_log_reg['Abs_coefficient'])"
   ]
  },
  {
   "cell_type": "markdown",
   "metadata": {},
   "source": [
    "#### We can note the Top 10 features from the above list . Note that 8 out of Top 10 features are for 3rd Month , i.e. August"
   ]
  },
  {
   "cell_type": "markdown",
   "metadata": {},
   "source": [
    "### 6.3 : Build a Random Forest Classfier to corroborate the most important features"
   ]
  },
  {
   "cell_type": "code",
   "execution_count": 306,
   "metadata": {},
   "outputs": [],
   "source": [
    "random_forest_classifier = RandomForestClassifier(max_depth = 7,\n",
    "                                                  max_features =  10, \n",
    "                                                  min_samples_split =  2, \n",
    "                                                  n_estimators =  200,\n",
    "                                                  class_weight = 'balanced')"
   ]
  },
  {
   "cell_type": "code",
   "execution_count": 308,
   "metadata": {},
   "outputs": [
    {
     "data": {
      "text/plain": [
       "array([0.9585979 , 0.97299692, 0.95802213, 0.95285197, 0.94778037])"
      ]
     },
     "execution_count": 308,
     "metadata": {},
     "output_type": "execute_result"
    }
   ],
   "source": [
    "cross_val_score(random_forest_classifier , X_train_rfe , y_train, cv=5 , scoring = 'roc_auc')"
   ]
  },
  {
   "cell_type": "code",
   "execution_count": 309,
   "metadata": {},
   "outputs": [
    {
     "data": {
      "text/plain": [
       "RandomForestClassifier(bootstrap=True, ccp_alpha=0.0, class_weight='balanced',\n",
       "                       criterion='gini', max_depth=7, max_features=10,\n",
       "                       max_leaf_nodes=None, max_samples=None,\n",
       "                       min_impurity_decrease=0.0, min_impurity_split=None,\n",
       "                       min_samples_leaf=1, min_samples_split=2,\n",
       "                       min_weight_fraction_leaf=0.0, n_estimators=200,\n",
       "                       n_jobs=None, oob_score=False, random_state=None,\n",
       "                       verbose=0, warm_start=False)"
      ]
     },
     "execution_count": 309,
     "metadata": {},
     "output_type": "execute_result"
    }
   ],
   "source": [
    "random_forest_classifier.fit(X_train_rfe , y_train)"
   ]
  },
  {
   "cell_type": "markdown",
   "metadata": {},
   "source": [
    "#### Find out the most important features "
   ]
  },
  {
   "cell_type": "code",
   "execution_count": 310,
   "metadata": {},
   "outputs": [],
   "source": [
    "feature_importance = random_forest_classifier.feature_importances_"
   ]
  },
  {
   "cell_type": "code",
   "execution_count": 311,
   "metadata": {},
   "outputs": [
    {
     "data": {
      "text/plain": [
       "array([7.31477853e-03, 6.08922415e-03, 1.41347084e-02, 3.84162052e-01,\n",
       "       8.12685858e-03, 1.45386954e-02, 7.64386717e-02, 1.59371233e-02,\n",
       "       9.68823177e-03, 1.94975926e-02, 6.99927833e-04, 4.71271269e-03,\n",
       "       2.19385640e-06, 0.00000000e+00, 4.10750490e-02, 3.93625111e-02,\n",
       "       1.15509636e-01, 5.42302304e-03, 2.21743958e-02, 8.74867715e-03,\n",
       "       5.36480120e-03, 1.00690833e-02, 1.28715105e-01, 3.89796034e-03,\n",
       "       1.70685700e-03, 5.76311382e-03, 1.15093081e-02, 1.64942722e-02,\n",
       "       1.17143000e-02, 1.18800495e-03, 2.11403413e-03, 5.06417695e-04,\n",
       "       1.84167157e-03, 5.47900797e-03])"
      ]
     },
     "execution_count": 311,
     "metadata": {},
     "output_type": "execute_result"
    }
   ],
   "source": [
    "feature_importance"
   ]
  },
  {
   "cell_type": "code",
   "execution_count": 325,
   "metadata": {},
   "outputs": [],
   "source": [
    "df_feature_importance = pd.DataFrame(columns=['Feature' , 'Importance'])\n",
    "df_feature_importance['Feature'] = X_train_rfe.columns\n",
    "df_feature_importance['Importance'] = feature_importance"
   ]
  },
  {
   "cell_type": "code",
   "execution_count": 326,
   "metadata": {},
   "outputs": [
    {
     "data": {
      "text/html": [
       "<div>\n",
       "<style scoped>\n",
       "    .dataframe tbody tr th:only-of-type {\n",
       "        vertical-align: middle;\n",
       "    }\n",
       "\n",
       "    .dataframe tbody tr th {\n",
       "        vertical-align: top;\n",
       "    }\n",
       "\n",
       "    .dataframe thead th {\n",
       "        text-align: right;\n",
       "    }\n",
       "</style>\n",
       "<table border=\"1\" class=\"dataframe\">\n",
       "  <thead>\n",
       "    <tr style=\"text-align: right;\">\n",
       "      <th></th>\n",
       "      <th>Feature</th>\n",
       "      <th>Importance</th>\n",
       "    </tr>\n",
       "  </thead>\n",
       "  <tbody>\n",
       "    <tr>\n",
       "      <th>3</th>\n",
       "      <td>roam_og_mou_8</td>\n",
       "      <td>0.384162</td>\n",
       "    </tr>\n",
       "    <tr>\n",
       "      <th>22</th>\n",
       "      <td>total_ic_mou_8</td>\n",
       "      <td>0.128715</td>\n",
       "    </tr>\n",
       "    <tr>\n",
       "      <th>16</th>\n",
       "      <td>loc_ic_t2m_mou_8</td>\n",
       "      <td>0.115510</td>\n",
       "    </tr>\n",
       "    <tr>\n",
       "      <th>6</th>\n",
       "      <td>loc_og_mou_8</td>\n",
       "      <td>0.076439</td>\n",
       "    </tr>\n",
       "    <tr>\n",
       "      <th>14</th>\n",
       "      <td>total_og_mou_8</td>\n",
       "      <td>0.041075</td>\n",
       "    </tr>\n",
       "    <tr>\n",
       "      <th>15</th>\n",
       "      <td>loc_ic_t2t_mou_8</td>\n",
       "      <td>0.039363</td>\n",
       "    </tr>\n",
       "    <tr>\n",
       "      <th>18</th>\n",
       "      <td>loc_ic_t2f_mou_8</td>\n",
       "      <td>0.022174</td>\n",
       "    </tr>\n",
       "    <tr>\n",
       "      <th>9</th>\n",
       "      <td>std_og_mou_6</td>\n",
       "      <td>0.019498</td>\n",
       "    </tr>\n",
       "    <tr>\n",
       "      <th>27</th>\n",
       "      <td>last_day_rch_amt_8</td>\n",
       "      <td>0.016494</td>\n",
       "    </tr>\n",
       "    <tr>\n",
       "      <th>7</th>\n",
       "      <td>std_og_t2m_mou_7</td>\n",
       "      <td>0.015937</td>\n",
       "    </tr>\n",
       "    <tr>\n",
       "      <th>5</th>\n",
       "      <td>loc_og_t2f_mou_8</td>\n",
       "      <td>0.014539</td>\n",
       "    </tr>\n",
       "    <tr>\n",
       "      <th>2</th>\n",
       "      <td>offnet_mou_8</td>\n",
       "      <td>0.014135</td>\n",
       "    </tr>\n",
       "    <tr>\n",
       "      <th>28</th>\n",
       "      <td>vol_2g_mb_8</td>\n",
       "      <td>0.011714</td>\n",
       "    </tr>\n",
       "    <tr>\n",
       "      <th>26</th>\n",
       "      <td>total_rech_amt_8</td>\n",
       "      <td>0.011509</td>\n",
       "    </tr>\n",
       "    <tr>\n",
       "      <th>21</th>\n",
       "      <td>std_ic_t2m_mou_8</td>\n",
       "      <td>0.010069</td>\n",
       "    </tr>\n",
       "    <tr>\n",
       "      <th>8</th>\n",
       "      <td>std_og_t2m_mou_8</td>\n",
       "      <td>0.009688</td>\n",
       "    </tr>\n",
       "    <tr>\n",
       "      <th>19</th>\n",
       "      <td>loc_ic_mou_7</td>\n",
       "      <td>0.008749</td>\n",
       "    </tr>\n",
       "    <tr>\n",
       "      <th>4</th>\n",
       "      <td>loc_og_t2m_mou_7</td>\n",
       "      <td>0.008127</td>\n",
       "    </tr>\n",
       "    <tr>\n",
       "      <th>0</th>\n",
       "      <td>arpu_7</td>\n",
       "      <td>0.007315</td>\n",
       "    </tr>\n",
       "    <tr>\n",
       "      <th>1</th>\n",
       "      <td>offnet_mou_7</td>\n",
       "      <td>0.006089</td>\n",
       "    </tr>\n",
       "    <tr>\n",
       "      <th>25</th>\n",
       "      <td>total_rech_num_8</td>\n",
       "      <td>0.005763</td>\n",
       "    </tr>\n",
       "    <tr>\n",
       "      <th>33</th>\n",
       "      <td>aug_vbc_3g</td>\n",
       "      <td>0.005479</td>\n",
       "    </tr>\n",
       "    <tr>\n",
       "      <th>17</th>\n",
       "      <td>loc_ic_t2f_mou_7</td>\n",
       "      <td>0.005423</td>\n",
       "    </tr>\n",
       "    <tr>\n",
       "      <th>20</th>\n",
       "      <td>std_ic_t2t_mou_6</td>\n",
       "      <td>0.005365</td>\n",
       "    </tr>\n",
       "    <tr>\n",
       "      <th>11</th>\n",
       "      <td>spl_og_mou_8</td>\n",
       "      <td>0.004713</td>\n",
       "    </tr>\n",
       "    <tr>\n",
       "      <th>23</th>\n",
       "      <td>spl_ic_mou_8</td>\n",
       "      <td>0.003898</td>\n",
       "    </tr>\n",
       "    <tr>\n",
       "      <th>30</th>\n",
       "      <td>monthly_2g_8</td>\n",
       "      <td>0.002114</td>\n",
       "    </tr>\n",
       "    <tr>\n",
       "      <th>32</th>\n",
       "      <td>monthly_3g_8</td>\n",
       "      <td>0.001842</td>\n",
       "    </tr>\n",
       "    <tr>\n",
       "      <th>24</th>\n",
       "      <td>ic_others_8</td>\n",
       "      <td>0.001707</td>\n",
       "    </tr>\n",
       "    <tr>\n",
       "      <th>29</th>\n",
       "      <td>monthly_2g_7</td>\n",
       "      <td>0.001188</td>\n",
       "    </tr>\n",
       "    <tr>\n",
       "      <th>10</th>\n",
       "      <td>isd_og_mou_8</td>\n",
       "      <td>0.000700</td>\n",
       "    </tr>\n",
       "    <tr>\n",
       "      <th>31</th>\n",
       "      <td>monthly_3g_7</td>\n",
       "      <td>0.000506</td>\n",
       "    </tr>\n",
       "    <tr>\n",
       "      <th>12</th>\n",
       "      <td>og_others_7</td>\n",
       "      <td>0.000002</td>\n",
       "    </tr>\n",
       "    <tr>\n",
       "      <th>13</th>\n",
       "      <td>og_others_8</td>\n",
       "      <td>0.000000</td>\n",
       "    </tr>\n",
       "  </tbody>\n",
       "</table>\n",
       "</div>"
      ],
      "text/plain": [
       "               Feature  Importance\n",
       "3        roam_og_mou_8    0.384162\n",
       "22      total_ic_mou_8    0.128715\n",
       "16    loc_ic_t2m_mou_8    0.115510\n",
       "6         loc_og_mou_8    0.076439\n",
       "14      total_og_mou_8    0.041075\n",
       "15    loc_ic_t2t_mou_8    0.039363\n",
       "18    loc_ic_t2f_mou_8    0.022174\n",
       "9         std_og_mou_6    0.019498\n",
       "27  last_day_rch_amt_8    0.016494\n",
       "7     std_og_t2m_mou_7    0.015937\n",
       "5     loc_og_t2f_mou_8    0.014539\n",
       "2         offnet_mou_8    0.014135\n",
       "28         vol_2g_mb_8    0.011714\n",
       "26    total_rech_amt_8    0.011509\n",
       "21    std_ic_t2m_mou_8    0.010069\n",
       "8     std_og_t2m_mou_8    0.009688\n",
       "19        loc_ic_mou_7    0.008749\n",
       "4     loc_og_t2m_mou_7    0.008127\n",
       "0               arpu_7    0.007315\n",
       "1         offnet_mou_7    0.006089\n",
       "25    total_rech_num_8    0.005763\n",
       "33          aug_vbc_3g    0.005479\n",
       "17    loc_ic_t2f_mou_7    0.005423\n",
       "20    std_ic_t2t_mou_6    0.005365\n",
       "11        spl_og_mou_8    0.004713\n",
       "23        spl_ic_mou_8    0.003898\n",
       "30        monthly_2g_8    0.002114\n",
       "32        monthly_3g_8    0.001842\n",
       "24         ic_others_8    0.001707\n",
       "29        monthly_2g_7    0.001188\n",
       "10        isd_og_mou_8    0.000700\n",
       "31        monthly_3g_7    0.000506\n",
       "12         og_others_7    0.000002\n",
       "13         og_others_8    0.000000"
      ]
     },
     "execution_count": 326,
     "metadata": {},
     "output_type": "execute_result"
    }
   ],
   "source": [
    "df_feature_importance.sort_values(by='Importance' , ascending=False)"
   ]
  },
  {
   "cell_type": "markdown",
   "metadata": {},
   "source": [
    "#### Top 10 feaures in this list are similar to the ones obtained by Logistic Regression"
   ]
  },
  {
   "cell_type": "code",
   "execution_count": 355,
   "metadata": {},
   "outputs": [
    {
     "data": {
      "text/plain": [
       "Text(0, 0.5, 'Feature')"
      ]
     },
     "execution_count": 355,
     "metadata": {},
     "output_type": "execute_result"
    },
    {
     "data": {
      "image/png": "[encoded data removed]",
      "text/plain": [
       "<Figure size 720x576 with 1 Axes>"
      ]
     },
     "metadata": {
      "needs_background": "light"
     },
     "output_type": "display_data"
    }
   ],
   "source": [
    "#### PLotiing\n",
    "df_feature_random_forest = df_feature_importance.sort_values(by='Importance', ascending=False).head(10)\n",
    "plt.figure(figsize=(10,8))\n",
    "plt.barh(df_feature_random_forest['Feature'] , df_feature_random_forest['Importance'])\n",
    "plt.title('Top 10 Features - Random Forest' , fontsize=14)\n",
    "plt.xlabel('Relative Feature Importance')\n",
    "plt.ylabel('Feature')"
   ]
  },
  {
   "cell_type": "code",
   "execution_count": 322,
   "metadata": {},
   "outputs": [
    {
     "data": {
      "text/plain": [
       "0.9999999999999999"
      ]
     },
     "execution_count": 322,
     "metadata": {},
     "output_type": "execute_result"
    }
   ],
   "source": [
    "sum(df_feature_importance['Importance'])"
   ]
  },
  {
   "cell_type": "markdown",
   "metadata": {},
   "source": [
    "### 6.4 : Visualizing the impact of Important Predictors on Customer Churn"
   ]
  },
  {
   "cell_type": "markdown",
   "metadata": {},
   "source": [
    "We will be using Boxplot for visualization - with the target on X-axis (since it is categorical) <br>\n",
    "Following features (among Top 10) are shown :-\n",
    "- roam_og_mou_8\n",
    "- total_ic_mou_8\n",
    "- loc_ic_t2m_mou_8\n",
    "- loc_og_mou_8\n",
    "- std_og_mou_6"
   ]
  },
  {
   "cell_type": "code",
   "execution_count": null,
   "metadata": {},
   "outputs": [],
   "source": []
  },
  {
   "cell_type": "code",
   "execution_count": 404,
   "metadata": {},
   "outputs": [
    {
     "data": {
      "text/plain": [
       "<matplotlib.axes._subplots.AxesSubplot at 0x1a5b714d148>"
      ]
     },
     "execution_count": 404,
     "metadata": {},
     "output_type": "execute_result"
    },
    {
     "data": {
      "image/png": "[encoded data removed]",
      "text/plain": [
       "<Figure size 864x576 with 1 Axes>"
      ]
     },
     "metadata": {
      "needs_background": "light"
     },
     "output_type": "display_data"
    }
   ],
   "source": [
    "plt.figure(figsize = (12,8))\n",
    "sns.boxplot(x = 'churn', y = 'roam_og_mou_8', data = telecom , showfliers=False)"
   ]
  },
  {
   "cell_type": "markdown",
   "metadata": {},
   "source": [
    "The feature  __roam_og_mou_8__  has a +ve coefficient in Logistic Regression , thus greater the value , greater is the chance of Churn"
   ]
  },
  {
   "cell_type": "code",
   "execution_count": 405,
   "metadata": {},
   "outputs": [
    {
     "data": {
      "text/plain": [
       "<matplotlib.axes._subplots.AxesSubplot at 0x1a5b85e1988>"
      ]
     },
     "execution_count": 405,
     "metadata": {},
     "output_type": "execute_result"
    },
    {
     "data": {
      "image/png": "[encoded data removed]",
      "text/plain": [
       "<Figure size 864x576 with 1 Axes>"
      ]
     },
     "metadata": {
      "needs_background": "light"
     },
     "output_type": "display_data"
    }
   ],
   "source": [
    "plt.figure(figsize = (12,8))\n",
    "sns.boxplot(x = 'churn', y = 'total_ic_mou_8', data = telecom , showfliers=False)"
   ]
  },
  {
   "cell_type": "markdown",
   "metadata": {},
   "source": [
    "The feature __total_ic_mou_8__  has a -ve coefficient in Logistic Regression , thus greater the value , lower is the chance of Churn"
   ]
  },
  {
   "cell_type": "code",
   "execution_count": 413,
   "metadata": {},
   "outputs": [
    {
     "data": {
      "text/plain": [
       "<matplotlib.axes._subplots.AxesSubplot at 0x1a5b9632f08>"
      ]
     },
     "execution_count": 413,
     "metadata": {},
     "output_type": "execute_result"
    },
    {
     "data": {
      "image/png": "[encoded data removed]",
      "text/plain": [
       "<Figure size 864x576 with 1 Axes>"
      ]
     },
     "metadata": {
      "needs_background": "light"
     },
     "output_type": "display_data"
    }
   ],
   "source": [
    "plt.figure(figsize = (12,8))\n",
    "sns.boxplot(x = 'churn', y = 'loc_ic_t2m_mou_8', data = telecom , showfliers=False)    "
   ]
  },
  {
   "cell_type": "markdown",
   "metadata": {},
   "source": [
    "The feature __loc_ic_t2m_mou_8__ has a -ve coefficient in Logistic Regression , thus greater the value , lower is the chance of Churn"
   ]
  },
  {
   "cell_type": "code",
   "execution_count": 416,
   "metadata": {
    "scrolled": true
   },
   "outputs": [
    {
     "data": {
      "text/plain": [
       "<matplotlib.axes._subplots.AxesSubplot at 0x1a5ba9d5f48>"
      ]
     },
     "execution_count": 416,
     "metadata": {},
     "output_type": "execute_result"
    },
    {
     "data": {
      "image/png": "[encoded data removed]",
      "text/plain": [
       "<Figure size 864x576 with 1 Axes>"
      ]
     },
     "metadata": {
      "needs_background": "light"
     },
     "output_type": "display_data"
    }
   ],
   "source": [
    "plt.figure(figsize = (12,8))\n",
    "sns.boxplot(x = 'churn', y = 'loc_og_mou_8', data = telecom , showfliers=False) "
   ]
  },
  {
   "cell_type": "markdown",
   "metadata": {},
   "source": [
    "The feature __loc_og_mou_8__ has a -ve coefficient in Logistic Regression , thus greater the value , lower is the chance of Churn"
   ]
  },
  {
   "cell_type": "code",
   "execution_count": 409,
   "metadata": {},
   "outputs": [
    {
     "data": {
      "text/plain": [
       "<matplotlib.axes._subplots.AxesSubplot at 0x1a5b8c65388>"
      ]
     },
     "execution_count": 409,
     "metadata": {},
     "output_type": "execute_result"
    },
    {
     "data": {
      "image/png": "[encoded data removed]",
      "text/plain": [
       "<Figure size 864x576 with 1 Axes>"
      ]
     },
     "metadata": {
      "needs_background": "light"
     },
     "output_type": "display_data"
    }
   ],
   "source": [
    "plt.figure(figsize = (12,8))\n",
    "sns.boxplot(x = 'churn', y = 'std_og_mou_6', data = telecom , showfliers=False) "
   ]
  },
  {
   "cell_type": "markdown",
   "metadata": {},
   "source": [
    "The feature __std_og_mou_6__ has a +ve coefficient in Logistic Regression , thus greater the value , greater is the chance of Churn"
   ]
  },
  {
   "cell_type": "markdown",
   "metadata": {},
   "source": [
    "### 6.5 : Recommendations "
   ]
  },
  {
   "cell_type": "markdown",
   "metadata": {},
   "source": [
    "To identify possible Churns by the end of 3rd month, these 2 variables should be carefully monitored :-\n",
    "- roam_og_mou_8 : Outgoing calls in roaming mode\n",
    "- std_og_mou_6 : STD outgoing calls \n",
    "<br>If customer is using his network heavily on these 2 parameters, there is a good chance that he will move to another telecom network."
   ]
  },
  {
   "cell_type": "code",
   "execution_count": null,
   "metadata": {},
   "outputs": [],
   "source": []
  }
 ],
 "metadata": {
  "kernelspec": {
   "display_name": "Python 3",
   "language": "python",
   "name": "python3"
  },
  "language_info": {
   "codemirror_mode": {
    "name": "ipython",
    "version": 3
   },
   "file_extension": ".py",
   "mimetype": "text/x-python",
   "name": "python",
   "nbconvert_exporter": "python",
   "pygments_lexer": "ipython3",
   "version": "3.8.5"
  }
 },
 "nbformat": 4,
 "nbformat_minor": 4
}
